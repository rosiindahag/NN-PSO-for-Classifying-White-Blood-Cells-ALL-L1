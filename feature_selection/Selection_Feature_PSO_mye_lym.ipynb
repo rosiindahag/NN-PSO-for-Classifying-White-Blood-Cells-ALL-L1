{
 "cells": [
  {
   "cell_type": "code",
   "execution_count": 1,
   "metadata": {},
   "outputs": [],
   "source": [
    "#Import the summary of the library in fungsi_save.ipynb \n",
    "%run fungsi_save.ipynb"
   ]
  },
  {
   "cell_type": "code",
   "execution_count": 9,
   "metadata": {},
   "outputs": [
    {
     "name": "stdout",
     "output_type": "stream",
     "text": [
      "29\n"
     ]
    }
   ],
   "source": [
    "X = pd.read_csv('rev3_data_baru_norm_training.csv', sep=',',header=None) #read training data file\n",
    "X = X.values #convert training data to array\n",
    "total_features = np.size(X, axis=1)-3 #number of features\n",
    "print(total_features)\n",
    "y = X[:,total_features] #output for lymphoid classification (first step)\n",
    "y = np.int_(y) #change the values to integer\n",
    "#print(y)\n",
    "X = X[:,:total_features] #all features \n",
    "#X"
   ]
  },
  {
   "cell_type": "code",
   "execution_count": 10,
   "metadata": {},
   "outputs": [
    {
     "data": {
      "text/plain": [
       "29"
      ]
     },
     "execution_count": 10,
     "metadata": {},
     "output_type": "execute_result"
    }
   ],
   "source": [
    "total_features"
   ]
  },
  {
   "cell_type": "code",
   "execution_count": 11,
   "metadata": {},
   "outputs": [
    {
     "data": {
      "text/plain": [
       "array([0, 1, 1, ..., 1, 0, 0])"
      ]
     },
     "execution_count": 11,
     "metadata": {},
     "output_type": "execute_result"
    }
   ],
   "source": [
    "y #output NN-PSO Stage 1"
   ]
  },
  {
   "cell_type": "code",
   "execution_count": 12,
   "metadata": {},
   "outputs": [],
   "source": [
    "#########Copy from PySwarm example############\n",
    "\n",
    "from sklearn import linear_model\n",
    "\n",
    "# Create an instance of the classifier\n",
    "classifier = linear_model.LogisticRegression()\n",
    "\n",
    "# Define objective function\n",
    "def f_per_particle(m, alpha):\n",
    "    \"\"\"Computes for the objective function per particle\n",
    "\n",
    "    Inputs\n",
    "    ------\n",
    "    m : numpy.ndarray\n",
    "        Binary mask that can be obtained from BinaryPSO, will\n",
    "        be used to mask features.\n",
    "    alpha: float (default is 0.5)\n",
    "        Constant weight for trading-off classifier performance\n",
    "        and number of features\n",
    "\n",
    "    Returns\n",
    "    -------\n",
    "    numpy.ndarray\n",
    "        Computed objective function\n",
    "    \"\"\"\n",
    "    global total_features\n",
    "    # Get the subset of the features from the binary mask\n",
    "    if np.count_nonzero(m) == 0:\n",
    "        X_subset = X\n",
    "    else:\n",
    "        X_subset = X[:,m==1]\n",
    "    # Perform classification and store performance in P\n",
    "    classifier.fit(X_subset, y)\n",
    "    P = (classifier.predict(X_subset) == y).mean()\n",
    "    # Compute for the objective function\n",
    "    j = (alpha * (1.0 - P)\n",
    "        + (1.0 - alpha) * (1 - (X_subset.shape[1] / total_features)))\n",
    "\n",
    "    return j"
   ]
  },
  {
   "cell_type": "code",
   "execution_count": 13,
   "metadata": {},
   "outputs": [],
   "source": [
    "#########Copy from PySwarm example############\n",
    "\n",
    "def f(x, alpha=0.88):\n",
    "    \"\"\"Higher-level method to do classification in the\n",
    "    whole swarm.\n",
    "\n",
    "    Inputs\n",
    "    ------\n",
    "    x: numpy.ndarray of shape (n_particles, dimensions)\n",
    "        The swarm that will perform the search\n",
    "\n",
    "    Returns\n",
    "    -------\n",
    "    numpy.ndarray of shape (n_particles, )\n",
    "        The computed loss for each particle\n",
    "    \"\"\"\n",
    "    n_particles = x.shape[0]\n",
    "    j = [f_per_particle(x[i], alpha) for i in range(n_particles)]\n",
    "    return np.array(j)"
   ]
  },
  {
   "cell_type": "code",
   "execution_count": 14,
   "metadata": {},
   "outputs": [
    {
     "name": "stderr",
     "output_type": "stream",
     "text": [
      "2021-05-11 22:06:10,245 - pyswarms.discrete.binary - INFO - Optimize for 25 iters with {'c1': 0.5, 'c2': 0.5, 'w': 0.9, 'k': 30, 'p': 2}\n",
      "pyswarms.discrete.binary: 100%|█████████████████████████████████████████████████████████████████|25/25, best_cost=0.111\n",
      "2021-05-11 22:07:32,178 - pyswarms.discrete.binary - INFO - Optimization finished | best cost: 0.1105889357479534, best pos: [1 1 1 1 1 1 1 0 1 1 1 1 0 1 1 1 1 1 1 0 1 1 1 0 1 1 1 0 1]\n"
     ]
    }
   ],
   "source": [
    "#########Copy from PySwarm example############\n",
    "\n",
    "#Initialize swarm, arbitrary\n",
    "options = {'c1': 0.5, 'c2': 0.5, 'w':0.9, 'k': 30, 'p':2}\n",
    "\n",
    "# Call instance of PSO\n",
    "dimensions = total_features # dimensions should be the number of features\n",
    "\n",
    "optimizer = ps.discrete.BinaryPSO(n_particles=30, dimensions=dimensions, options=options)\n",
    "\n",
    "# Perform optimization\n",
    "cost, pos = optimizer.optimize(f, iters=25)"
   ]
  },
  {
   "cell_type": "code",
   "execution_count": 15,
   "metadata": {},
   "outputs": [
    {
     "name": "stdout",
     "output_type": "stream",
     "text": [
      "24\n",
      "Subset performance: 0.898\n"
     ]
    }
   ],
   "source": [
    "#########Copy from PySwarm example############\n",
    "\n",
    "# Create two instances of LogisticRegression\n",
    "classifier = linear_model.LogisticRegression()\n",
    "\n",
    "# Get the selected features from the final positions\n",
    "X_selected_features = X[:,pos==1]  # subset\n",
    "X_non_selected_features = X[:,pos==0]\n",
    "# Perform classification and store performance in P\n",
    "classifier.fit(X_selected_features, y)\n",
    "print(np.size(X_selected_features,1))\n",
    "# Compute performance\n",
    "subset_performance = (classifier.predict(X_selected_features) == y).mean()\n",
    "\n",
    "\n",
    "print('Subset performance: %.3f' % (subset_performance))"
   ]
  },
  {
   "cell_type": "code",
   "execution_count": 16,
   "metadata": {},
   "outputs": [
    {
     "data": {
      "text/plain": [
       "array([[0.17391968, 0.34782057, 0.59072767, 0.42035761, 0.29021789],\n",
       "       [0.30835808, 0.26731326, 0.08354087, 0.82719052, 0.84939207],\n",
       "       [0.29550991, 0.11605384, 0.182949  , 0.66515879, 0.72618649],\n",
       "       ...,\n",
       "       [0.50154903, 0.37016853, 0.15211211, 0.7645065 , 0.78983127],\n",
       "       [0.67861299, 0.41137883, 0.27596411, 0.71865274, 0.67863338],\n",
       "       [0.08094515, 0.50505654, 0.58459272, 0.39311921, 0.17694923]])"
      ]
     },
     "execution_count": 16,
     "metadata": {},
     "output_type": "execute_result"
    }
   ],
   "source": [
    "X_non_selected_features"
   ]
  },
  {
   "cell_type": "code",
   "execution_count": 17,
   "metadata": {},
   "outputs": [
    {
     "data": {
      "text/plain": [
       "[0.13473778218804267,\n",
       " 0.11438749689903248,\n",
       " 0.11438749689903248,\n",
       " 0.11438749689903248,\n",
       " 0.11438749689903248,\n",
       " 0.11438749689903248,\n",
       " 0.11438749689903248,\n",
       " 0.11438749689903248,\n",
       " 0.11438749689903248,\n",
       " 0.11438749689903248,\n",
       " 0.11438749689903248,\n",
       " 0.11438749689903248,\n",
       " 0.11438749689903248,\n",
       " 0.11438749689903248,\n",
       " 0.11438749689903248,\n",
       " 0.11438749689903248,\n",
       " 0.1105889357479534,\n",
       " 0.1105889357479534,\n",
       " 0.1105889357479534,\n",
       " 0.1105889357479534,\n",
       " 0.1105889357479534,\n",
       " 0.1105889357479534,\n",
       " 0.1105889357479534,\n",
       " 0.1105889357479534,\n",
       " 0.1105889357479534]"
      ]
     },
     "execution_count": 17,
     "metadata": {},
     "output_type": "execute_result"
    }
   ],
   "source": [
    "optimizer.cost_history"
   ]
  },
  {
   "cell_type": "code",
   "execution_count": 18,
   "metadata": {},
   "outputs": [
    {
     "data": {
      "image/png": "[encoded data removed]",
      "text/plain": [
       "<Figure size 432x288 with 1 Axes>"
      ]
     },
     "metadata": {
      "needs_background": "light"
     },
     "output_type": "display_data"
    }
   ],
   "source": [
    "a = []\n",
    "for i in range(len(optimizer.cost_history)):\n",
    "    a.append(i)\n",
    "b = optimizer.cost_history\n",
    "plt.plot(a,b)\n",
    "plt.show()"
   ]
  },
  {
   "cell_type": "code",
   "execution_count": 19,
   "metadata": {},
   "outputs": [
    {
     "data": {
      "text/plain": [
       "array([0.23290321, 0.1880663 , 0.80561347, 0.46743473, 0.45973021,\n",
       "       0.21574129, 0.08051798, 0.28606383, 0.61069057, 0.19392608,\n",
       "       0.75829173, 0.27244226, 0.89808411, 0.764981  , 0.13628818,\n",
       "       0.59393149, 0.61649561, 0.71176946, 0.24770907, 0.34098131,\n",
       "       0.29014588, 0.1609526 , 0.71176292, 0.405438  ])"
      ]
     },
     "execution_count": 19,
     "metadata": {},
     "output_type": "execute_result"
    }
   ],
   "source": [
    "pos.shape\n",
    "X_selected_features[0]"
   ]
  },
  {
   "cell_type": "code",
   "execution_count": 120,
   "metadata": {},
   "outputs": [],
   "source": [
    "#y = np.array([y])\n",
    "#y2 = np.array([y2])"
   ]
  },
  {
   "cell_type": "code",
   "execution_count": 121,
   "metadata": {
    "scrolled": true
   },
   "outputs": [],
   "source": [
    "#y.T.shape"
   ]
  },
  {
   "cell_type": "code",
   "execution_count": 122,
   "metadata": {
    "scrolled": true
   },
   "outputs": [],
   "source": [
    "#data_baru1 = np.concatenate((X, y.T), axis=1) #data semua +output1 \n",
    "#data_baru1 = np.concatenate((data_baru1, y2.T), axis=1) #data semua +output1 +output2"
   ]
  },
  {
   "cell_type": "code",
   "execution_count": 124,
   "metadata": {},
   "outputs": [],
   "source": [
    "save_data_feature1(pos) #data semua + pos beda file"
   ]
  },
  {
   "cell_type": "code",
   "execution_count": null,
   "metadata": {},
   "outputs": [],
   "source": [
    "pos"
   ]
  },
  {
   "cell_type": "code",
   "execution_count": 125,
   "metadata": {},
   "outputs": [
    {
     "data": {
      "text/plain": [
       "[1,\n",
       " 1,\n",
       " 1,\n",
       " 0,\n",
       " 1,\n",
       " 0,\n",
       " 1,\n",
       " 1,\n",
       " 1,\n",
       " 1,\n",
       " 1,\n",
       " 1,\n",
       " 1,\n",
       " 1,\n",
       " 1,\n",
       " 0,\n",
       " 1,\n",
       " 1,\n",
       " 1,\n",
       " 1,\n",
       " 1,\n",
       " 1,\n",
       " 1,\n",
       " 0,\n",
       " 1,\n",
       " 1,\n",
       " 1,\n",
       " 1,\n",
       " 1]"
      ]
     },
     "execution_count": 125,
     "metadata": {},
     "output_type": "execute_result"
    }
   ],
   "source": [
    "pos = [i for i in pos]\n",
    "pos"
   ]
  },
  {
   "cell_type": "code",
   "execution_count": 126,
   "metadata": {},
   "outputs": [],
   "source": [
    "save_pos_step1('fix3(imbalanced)\\step1\\seleksi_fitur\\hasil_step1.csv', (pos,optimizer.cost_history,subset_performance))"
   ]
  }
 ],
 "metadata": {
  "kernelspec": {
   "display_name": "Python 3",
   "language": "python",
   "name": "python3"
  },
  "language_info": {
   "codemirror_mode": {
    "name": "ipython",
    "version": 3
   },
   "file_extension": ".py",
   "mimetype": "text/x-python",
   "name": "python",
   "nbconvert_exporter": "python",
   "pygments_lexer": "ipython3",
   "version": "3.6.4"
  }
 },
 "nbformat": 4,
 "nbformat_minor": 2
}
