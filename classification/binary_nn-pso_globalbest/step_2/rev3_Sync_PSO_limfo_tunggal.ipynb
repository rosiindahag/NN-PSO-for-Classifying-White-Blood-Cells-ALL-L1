{
 "cells": [
  {
   "cell_type": "code",
   "execution_count": 1,
   "metadata": {},
   "outputs": [],
   "source": [
    "%run fungsi_save.ipynb"
   ]
  },
  {
   "cell_type": "code",
   "execution_count": 2,
   "metadata": {},
   "outputs": [
    {
     "name": "stdout",
     "output_type": "stream",
     "text": [
      "29\n"
     ]
    },
    {
     "data": {
      "text/plain": [
       "array([[0.23290321, 0.1880663 , 0.80561347, ..., 0.71176292, 0.29021789,\n",
       "        0.405438  ],\n",
       "       [0.33876336, 0.21701657, 0.88720096, ..., 0.71985131, 0.84939207,\n",
       "        0.852632  ],\n",
       "       [0.14477051, 0.07823204, 0.90193096, ..., 0.73730247, 0.72618649,\n",
       "        0.593281  ],\n",
       "       ...,\n",
       "       [0.43478703, 0.29436464, 0.82699077, ..., 0.58111237, 0.78983127,\n",
       "        0.965812  ],\n",
       "       [0.43482695, 0.20640884, 0.95507519, ..., 0.58083608, 0.67863338,\n",
       "        0.633993  ],\n",
       "       [0.28595488, 0.25281768, 0.46894224, ..., 0.11345727, 0.17694923,\n",
       "        0.561331  ]])"
      ]
     },
     "execution_count": 2,
     "metadata": {},
     "output_type": "execute_result"
    }
   ],
   "source": [
    "#pilih data fitur masukan NN1\n",
    "train_data = pd.read_csv('rev3_data_baru_norm_training.csv', sep=',',header=None)\n",
    "train_data = train_data.values\n",
    "post = pd.read_csv('data_feature2_pos.csv', sep=',',header=None)\n",
    "post = np.int_(post)\n",
    "total_features = np.size(train_data, axis=1)-3\n",
    "print(total_features)\n",
    "output_train_data = train_data[:,total_features+2] #output aja limfo\n",
    "output_train_data = np.int_(output_train_data)\n",
    "train_data = train_data[:,:total_features]\n",
    "train_data"
   ]
  },
  {
   "cell_type": "code",
   "execution_count": 3,
   "metadata": {
    "colab": {
     "base_uri": "https://localhost:8080/",
     "height": 948
    },
    "colab_type": "code",
    "executionInfo": {
     "elapsed": 1038,
     "status": "error",
     "timestamp": 1553358562335,
     "user": {
      "displayName": "Rosi Indah Agustin",
      "photoUrl": "https://lh5.googleusercontent.com/-hvtgKP15HCE/AAAAAAAAAAI/AAAAAAAABTc/cZ83hT-NMuU/s64/photo.jpg",
      "userId": "09782658992275918565"
     },
     "user_tz": -420
    },
    "id": "F263jm2DT-Br",
    "outputId": "d464a7cc-05f7-46d7-f5e2-9fe42cecedba",
    "scrolled": true
   },
   "outputs": [
    {
     "data": {
      "text/plain": [
       "array([0, 1, 0, ..., 1, 0, 0])"
      ]
     },
     "execution_count": 3,
     "metadata": {},
     "output_type": "execute_result"
    }
   ],
   "source": [
    "output_train_data"
   ]
  },
  {
   "cell_type": "code",
   "execution_count": 4,
   "metadata": {},
   "outputs": [
    {
     "data": {
      "text/plain": [
       "1390"
      ]
     },
     "execution_count": 4,
     "metadata": {},
     "output_type": "execute_result"
    }
   ],
   "source": [
    "np.size(train_data,axis=0)"
   ]
  },
  {
   "cell_type": "code",
   "execution_count": 5,
   "metadata": {},
   "outputs": [
    {
     "data": {
      "text/plain": [
       "[2, 5, 6, 11, 12, 14, 16, 19, 24]"
      ]
     },
     "execution_count": 5,
     "metadata": {},
     "output_type": "execute_result"
    }
   ],
   "source": [
    "a = [] #index fitur yang gak kepake\n",
    "for i in range(len(post)):\n",
    "    if post[i,0] == 0:\n",
    "        a.append(i)\n",
    "a"
   ]
  },
  {
   "cell_type": "code",
   "execution_count": 6,
   "metadata": {},
   "outputs": [
    {
     "name": "stdout",
     "output_type": "stream",
     "text": [
      "Number of training samples is 1390\n",
      "20\n",
      "[0.23290321 0.1880663  0.46743473 0.45973021 0.17391968 0.28606383\n",
      " 0.61069057 0.19392608 0.27244226 0.764981   0.59393149 0.61649561\n",
      " 0.71176946 0.24770907 0.34098131 0.42035761 0.1609526  0.71176292\n",
      " 0.29021789 0.405438  ]\n"
     ]
    }
   ],
   "source": [
    "train_data = np.delete(train_data, a ,axis=1) #data fitur yang udah terseleksi\n",
    "print(\"Number of training samples is\", len(train_data))\n",
    "print(np.size(train_data,axis=1))\n",
    "print(train_data[0])"
   ]
  },
  {
   "cell_type": "code",
   "execution_count": 7,
   "metadata": {},
   "outputs": [],
   "source": [
    "#data validasi\n",
    "validasi_data = pd.read_csv('rev3_data_baru_norm_testing.csv', sep=',',header=None)\n",
    "validasi_data = validasi_data.values\n",
    "output_validasi_data = validasi_data[:,total_features+2] #output aja untuk output 1\n",
    "output_validasi_data = np.int_(output_validasi_data)\n",
    "validasi_data = validasi_data[:,0:total_features] #fitur aja tanpa output dan fiturnya lengkap\n",
    "validasi_data = np.delete(validasi_data, a ,axis=1) #data fitur yang udah terseleksi\n",
    "\n",
    "#save_data1(test_data)"
   ]
  },
  {
   "cell_type": "code",
   "execution_count": 8,
   "metadata": {},
   "outputs": [
    {
     "data": {
      "text/plain": [
       "(347, 20)"
      ]
     },
     "execution_count": 8,
     "metadata": {},
     "output_type": "execute_result"
    }
   ],
   "source": [
    "validasi_data.shape"
   ]
  },
  {
   "cell_type": "code",
   "execution_count": 9,
   "metadata": {},
   "outputs": [
    {
     "data": {
      "text/plain": [
       "20"
      ]
     },
     "execution_count": 9,
     "metadata": {},
     "output_type": "execute_result"
    }
   ],
   "source": [
    "n_inputs = np.size(train_data,1)\n",
    "n_hidden = 20\n",
    "n_classes = 2\n",
    "n_inputs"
   ]
  },
  {
   "cell_type": "code",
   "execution_count": 10,
   "metadata": {},
   "outputs": [],
   "source": [
    "def forward_prop(params):\n",
    "\n",
    "    # Neural network architecture\n",
    "    global n_inputs\n",
    "    global n_hidden\n",
    "    global n_classes\n",
    "\n",
    "    w1_total = n_inputs*n_hidden\n",
    "    b1_total = w1_total+n_hidden\n",
    "    w2_total = b1_total+(n_hidden*n_classes)\n",
    "    b2_total = w2_total+n_classes\n",
    "    \n",
    "    # Roll-back the weights and biases\n",
    "    W1 = params[0:w1_total].reshape((n_inputs,n_hidden))\n",
    "    b1 = params[w1_total:b1_total].reshape((n_hidden,))\n",
    "    W2 = params[b1_total:w2_total].reshape((n_hidden,n_classes))\n",
    "    b2 = params[w2_total:b2_total].reshape((n_classes,))\n",
    "\n",
    "    # Perform forward propagation\n",
    "    z1 = train_data.dot(W1) + b1  # Pre-activation in Layer 1\n",
    "    a1 = np.tanh(z1)     # Activation in Layer 1 #belum pasti pake fungsi aktivasi apa\n",
    "    z2 = a1.dot(W2) + b2 # Pre-activation in Layer 2\n",
    "    logits = z2          # Logits for Layer 2\n",
    "\n",
    "    # Compute for the softmax of the logits\n",
    "    exp_scores = np.exp(logits)\n",
    "    probs = exp_scores / np.sum(exp_scores, axis=1, keepdims=True)\n",
    "\n",
    "    # Compute for the negative log likelihood #belum pasti loss functionnya pake apa\n",
    "    N = len(train_data) # Number of samples\n",
    "    corect_logprobs = -np.log(probs[range(N), output_train_data])\n",
    "    loss = np.sum(corect_logprobs) / N\n",
    "    return loss"
   ]
  },
  {
   "cell_type": "code",
   "execution_count": 11,
   "metadata": {},
   "outputs": [],
   "source": [
    "def f(x):\n",
    "    n_particles = x.shape[0]\n",
    "    j = [forward_prop(x[i]) for i in range(n_particles)]\n",
    "    return np.array(j)"
   ]
  },
  {
   "cell_type": "code",
   "execution_count": 12,
   "metadata": {
    "colab": {},
    "colab_type": "code",
    "id": "bHN5yiyGT-Cs"
   },
   "outputs": [
    {
     "name": "stderr",
     "output_type": "stream",
     "text": [
      "2021-03-31 21:43:53,469 - pyswarms.single.global_best - INFO - Optimize for 1000 iters with {'c1': 0.5, 'c2': 0.3, 'w': 0.9}\n",
      "pyswarms.single.global_best: 100%|██████████████████████████████████████████████████████████|1000/1000, best_cost=0.239\n",
      "2021-03-31 21:45:10,698 - pyswarms.single.global_best - INFO - Optimization finished | best cost: 0.23876845000338762, best pos: [-3.51636717e-01  1.82534188e-01 -3.79847847e-01  1.25818170e-01\n",
      " -7.63315776e-01 -2.24715062e-01 -2.20985151e+00  5.74652966e-01\n",
      "  8.27048694e-01  7.00590418e-01  3.96441164e-01 -3.58049261e-01\n",
      "  7.80426921e-01 -8.39721766e-01 -1.03203166e+00 -2.42672708e-02\n",
      " -4.81006737e-01 -9.40393837e-01  7.86375888e-01  5.55582458e-01\n",
      " -5.33284446e-01  7.40880181e-01 -8.96708650e-02 -2.14047216e+00\n",
      " -7.85745769e-01 -4.23212327e-01 -2.51262186e-01 -5.58514723e-01\n",
      "  3.22295551e-01  6.47781716e-01 -5.16907571e-01 -2.90923017e-01\n",
      "  3.68180656e-01 -4.79669549e-01 -2.40883441e-01  8.04396719e-01\n",
      " -6.35682180e-01 -5.35473071e-02  3.56688478e-01 -1.58180435e-02\n",
      " -5.90706874e-01  6.16870120e-01 -1.60591334e-01 -3.76207518e-01\n",
      "  4.70117921e-01  6.51231516e-01  3.67660745e-01  2.90418429e-02\n",
      "  3.09136511e-02 -1.76448289e-01 -1.89123709e-01  2.58857644e+00\n",
      "  4.66559234e-01 -3.95720852e-01 -3.11224058e-01 -3.28626264e-01\n",
      "  8.54696049e-01  6.69833520e-01  3.09635556e-01  4.59529990e-01\n",
      "  2.88266218e+00 -1.84192524e-01 -5.02075235e-02  1.14412018e-01\n",
      "  1.05878907e+00 -1.13297583e-01 -7.69538685e-01  5.60066848e-01\n",
      "  1.01623140e+00  7.32232286e-01 -6.44848717e+00 -9.42530391e-02\n",
      "  3.38183235e-01 -1.42043706e+00  9.16508346e-01  8.44667087e-01\n",
      "  9.40747387e-02  4.32450087e-01  2.63604435e-01 -7.63928268e-01\n",
      "  4.91482364e-01 -8.36200751e-01  9.98428305e-01 -6.89341187e-01\n",
      "  5.71357336e-01  4.87091928e-01  1.77357323e-01 -1.44360726e+00\n",
      " -9.63269501e-01  1.18720538e+00  3.35838145e-01  1.37734976e-01\n",
      " -1.16301001e-01 -1.83175485e+00  4.15973402e-01  1.95944908e-01\n",
      "  5.66803264e-02 -4.59350495e-01  1.30805718e+00  3.24682548e-01\n",
      "  2.62666856e-01  3.19360382e-01  2.62910152e-01 -1.01967188e+00\n",
      "  1.01640738e+00  7.75355203e-01  6.97278110e-01  4.20447313e-01\n",
      "  6.01447419e-01 -6.88084637e-01  8.92339408e-01  1.21036499e+00\n",
      " -7.41160449e-01  1.70847339e+00 -5.59232967e-01  7.25432472e-02\n",
      "  5.66495143e-01  1.64551873e-01  4.10976647e-02 -5.97629873e+00\n",
      " -3.12699419e-02  9.14623681e-01  7.39926687e-01 -8.07232327e-01\n",
      "  7.89588900e-01  5.58005951e-01  3.42091929e-01  4.46932415e-01\n",
      " -1.85347509e+00  1.24895127e+00 -7.08185565e-02  1.04492707e-01\n",
      " -5.61193587e-01  2.64399227e-02 -1.19092707e-01  8.00453419e-01\n",
      "  2.24507416e-01  2.45127540e-01  3.59655049e-01 -4.63767227e-01\n",
      "  9.88942267e-01  1.98774007e-01  2.25145451e-01 -8.27782033e-01\n",
      "  1.99767653e-02 -1.28173916e+00  4.40335805e-01  6.71796821e-01\n",
      "  4.90242522e-01  4.63136166e-02  3.59299976e-01  2.29143436e+00\n",
      "  4.10422439e-01  2.47666279e-01  5.95627654e-01  8.03991180e-01\n",
      "  8.88235010e-01 -1.95548619e+00 -7.45446227e-01  4.30378413e-01\n",
      "  9.91242122e-01 -6.95620453e-02  9.17825257e-01  1.07437902e+00\n",
      "  5.06819070e-01  8.01742718e-01 -1.74137625e-01  1.25022552e+00\n",
      "  1.12902406e+00  5.08939472e-02  6.06284057e-01 -1.36043783e+00\n",
      " -1.43262842e-01  4.52814536e-01 -1.45383956e-01  3.85941503e-01\n",
      " -2.00318494e-01  2.60257871e-01  8.00346469e-01 -3.37462507e-01\n",
      "  4.41145564e-01  1.18737195e+00 -4.76830590e-02 -5.45340963e-01\n",
      " -6.69213073e-02  2.40568197e-02  8.02884493e-01 -4.56872393e-01\n",
      "  2.77276888e-01 -3.41847191e-01  5.42997828e-01  4.63641431e-01\n",
      " -1.23302975e+00 -1.03262598e+00  5.53520177e-01 -1.70947336e+00\n",
      "  2.04098748e-01  8.19472317e-01  8.38742316e-01 -5.19569063e-02\n",
      "  6.91509795e-01 -3.04149798e-01 -3.90615795e-01  6.10441918e-02\n",
      "  2.31697268e-01 -2.82481341e-01 -1.39706208e+00  8.46504936e-01\n",
      "  1.67367115e+00 -7.27984948e-02 -1.68334230e+00 -7.52433034e-01\n",
      " -1.69152905e+00  5.27973605e-01 -5.06367271e-01  6.43725198e-01\n",
      " -4.37005276e-02 -2.46166093e-01 -1.58717486e+00 -2.41591755e-01\n",
      " -6.89756745e-01 -7.62898559e-01  6.20064664e-01  2.58399951e-01\n",
      " -1.77348387e-01 -2.12914010e-01 -6.07111225e-01 -6.58146087e-01\n",
      "  8.70055842e-01 -1.26162441e-01 -2.44260073e-01 -5.56272851e-01\n",
      "  8.28500460e-01 -4.80536777e-01  1.25131825e+00  1.12351768e-02\n",
      "  2.24598135e-01  7.45088569e-01 -2.51110040e-01 -1.47938170e-01\n",
      "  1.80573443e-01  5.06209567e-01  1.17665647e-01  7.89979274e-02\n",
      " -7.32600539e-02  4.52654410e-01 -4.18593826e-01  1.03730786e+00\n",
      " -6.84436326e-01  1.10086471e+00 -5.92967732e-01  7.41164454e-01\n",
      "  3.67543586e-01  6.86342948e-01 -5.23822846e-01  8.77378473e-02\n",
      " -1.19563037e-01  8.30001161e-01  1.05549425e-01  2.07949494e-01\n",
      "  5.92308259e-01  2.81209285e+00 -2.30088992e+00 -3.59382801e-01\n",
      " -3.41749899e-01  7.56989676e-01 -6.67805722e-02 -8.20891672e-01\n",
      "  2.51434767e-01 -6.73720337e-01  9.92212386e-01  8.22793441e-01\n",
      "  5.97179043e-01 -2.06928424e-02 -1.32240056e-01  1.16592663e-01\n",
      "  5.88255546e-01 -1.74814581e+00 -4.50755989e-01 -1.06286088e-02\n",
      "  9.74304496e-01 -5.81228727e-01  5.03731577e-01 -5.25706694e-01\n",
      " -1.13261261e+00 -4.58921112e-01  3.66138546e-01 -1.32765523e+00\n",
      "  2.40730308e-01  2.40264663e-01  5.84494693e-01  2.33171756e-01\n",
      " -1.68653410e+00  2.14163234e-01  5.34999716e-01  1.88363555e-01\n",
      " -2.15279787e-01  5.52218896e-01 -1.34103768e+00  1.23333249e+00\n",
      "  1.40066570e-01  9.16143061e-02 -7.92926339e-02  7.26341005e-01\n",
      " -8.16750535e-04  4.68284895e-01 -1.70365107e-01  8.10065367e-01\n",
      "  9.63767833e-01  3.93161082e-01  6.16849341e-01 -6.61712718e-02\n",
      "  4.29732672e-01  1.17864981e-01 -7.46666932e-02 -6.82020645e-02\n",
      " -3.18193674e+00  6.22285126e-01  2.47433670e-01 -2.62450629e-01\n",
      "  6.92922331e-01 -1.63263656e-01  1.21282205e+00 -6.26049356e-01\n",
      " -2.29399350e-01  2.64824055e-01  3.45065692e-01 -2.40766323e-02\n",
      " -7.11866629e-01  4.43062615e-01 -4.66472711e-01  3.38699833e-01\n",
      "  9.36427762e-02 -2.12866252e+00  1.10681478e+00 -3.02603148e-01\n",
      "  2.04044205e-01 -4.85601120e-01 -3.70475600e-02  3.23411183e-01\n",
      "  6.70059871e-01 -1.68018077e+00 -7.77078645e-01  5.30630218e-01\n",
      "  5.09403110e-02 -2.00023489e-01 -5.63253074e-02 -4.70132735e-01\n",
      "  2.99365922e-01  4.01372811e-01  6.67573851e-01  5.87379964e-01\n",
      " -1.84174452e-01 -1.06602006e+00  1.61017070e-01 -3.46792203e-01\n",
      "  1.35241412e-01  3.77224819e-01 -2.89385070e-01  5.14079047e-01\n",
      "  6.75040828e-01 -1.19144366e+00  4.90174786e-01  1.44095630e+00\n",
      "  1.56910680e-01  3.96484047e-01  8.27562508e-01 -3.60655465e-01\n",
      "  5.55345623e-01  5.23784522e-02 -6.08363236e-01  6.77770510e-01\n",
      " -5.52921298e-01  1.41173066e-01  1.70021434e-01  3.68022776e-01\n",
      "  3.80558025e-01 -6.61126244e-01 -7.66408795e-01  2.57431969e-01\n",
      "  7.58262130e-03  2.10469283e-02  4.77498075e-02 -4.54590960e-01\n",
      " -3.20306986e-01 -3.44574402e-01  2.09704194e-01  1.09474116e-01\n",
      "  5.19293677e-01  4.35789506e-01  8.88553955e-01 -1.24058349e+00\n",
      " -9.93962292e-01  8.38467462e-01 -4.16557132e-01  4.36598511e-01\n",
      " -1.02247937e+00 -2.37850195e-02  5.41199415e-01 -4.07425158e-01\n",
      "  1.42803238e+00 -1.38285537e-01  3.18647740e-01 -9.13838802e-01\n",
      "  6.73432457e-01 -2.56399438e-01 -1.69253007e-01  5.16292909e-01\n",
      "  2.77074404e-01  5.99710841e-01 -1.02601399e-01  4.51066002e-01\n",
      "  2.42829210e-01  4.87089023e-01  3.97116233e-01  3.61081063e-01\n",
      "  1.29968296e+00 -6.62979185e-01 -5.22515909e-01  5.85863685e-01\n",
      " -3.82126535e-01  3.15393433e-01  3.81716380e-01 -6.18193861e-01\n",
      "  5.74572861e-02  4.51313446e-01  1.15256211e+00  6.25889858e-01\n",
      " -7.51245040e-01  7.11880841e-01  1.37795196e+00  7.74159228e-01\n",
      " -2.30685396e-01 -3.07384423e-01  5.98377244e+00  9.97411194e-01\n",
      " -1.63767641e-02  1.00481791e+00 -2.02449623e-01  8.90523456e-02\n",
      " -5.42638740e-02 -9.58062872e-02 -8.91332084e-01 -1.01431023e+00\n",
      " -1.19102188e+00  5.46123151e-01  1.17194989e-01 -1.36632905e+00\n",
      "  3.03617861e+00  6.13250566e-01 -1.78837561e+00 -4.92172192e-01\n",
      "  4.83616995e-01 -7.41673359e-01  2.79392098e-01 -2.04756777e+00\n",
      " -1.27698889e+00  6.22547509e-01 -1.38758961e+00  1.24061508e+00\n",
      " -2.33040973e-01 -2.77851009e-01]\n"
     ]
    }
   ],
   "source": [
    "# Initialize swarm\n",
    "options = {'c1': 0.5, 'c2': 0.3, 'w':0.9}\n",
    "\n",
    "# Call instance of PSO\n",
    "dimensions = (n_inputs * n_hidden) + (n_hidden * n_classes) + n_hidden + n_classes\n",
    "optimizer = ps.single.GlobalBestPSO(n_particles=20, dimensions=dimensions, options=options)\n",
    "\n",
    "# Perform optimization\n",
    "cost, pos = optimizer.optimize(f, iters=1000) #fungsi verbose dan print step error\n"
   ]
  },
  {
   "cell_type": "code",
   "execution_count": 13,
   "metadata": {},
   "outputs": [
    {
     "data": {
      "image/png": "[encoded data removed]",
      "text/plain": [
       "<Figure size 720x576 with 1 Axes>"
      ]
     },
     "metadata": {
      "needs_background": "light"
     },
     "output_type": "display_data"
    }
   ],
   "source": [
    "from pyswarms.utils.plotters import plot_cost_history\n",
    "plot_cost_history(cost_history=optimizer.cost_history)\n",
    "plt.show()"
   ]
  },
  {
   "cell_type": "code",
   "execution_count": 14,
   "metadata": {},
   "outputs": [
    {
     "data": {
      "text/plain": [
       "(1390, 20)"
      ]
     },
     "execution_count": 14,
     "metadata": {},
     "output_type": "execute_result"
    }
   ],
   "source": [
    "train_data.shape"
   ]
  },
  {
   "cell_type": "code",
   "execution_count": 15,
   "metadata": {},
   "outputs": [],
   "source": [
    "np.savetxt('hyperparameter.csv', pos, delimiter=\",\")"
   ]
  },
  {
   "cell_type": "code",
   "execution_count": 16,
   "metadata": {},
   "outputs": [],
   "source": [
    "#kurang test file\n",
    "def predict(a, pos): #a = data training atau data test\n",
    "\n",
    "    # Neural network architecture\n",
    "    global n_inputs\n",
    "    global n_hidden\n",
    "    global n_classes\n",
    "\n",
    "    w1_total = n_inputs*n_hidden\n",
    "    b1_total = w1_total+n_hidden\n",
    "    w2_total = b1_total+(n_hidden*n_classes)\n",
    "    b2_total = w2_total+n_classes\n",
    "    \n",
    "    # Roll-back the weights and biases\n",
    "    W1 = pos[0:w1_total].reshape((n_inputs,n_hidden))\n",
    "    b1 = pos[w1_total:b1_total].reshape((n_hidden,))\n",
    "    W2 = pos[b1_total:w2_total].reshape((n_hidden,n_classes))\n",
    "    b2 = pos[w2_total:b2_total].reshape((n_classes,))\n",
    "    save_params2(W1,b1,W2,b2)\n",
    "    # Perform forward propagation\n",
    "    z1 = a.dot(W1) + b1  # Pre-activation in Layer 1\n",
    "    a1 = np.tanh(z1)     # fungsi aktivasi belum fix\n",
    "    z2 = a1.dot(W2) + b2 # Pre-activation in Layer 2\n",
    "    logits = z2          # Logits for Layer 2\n",
    "\n",
    "    y_pred = np.argmax(logits, axis=1)\n",
    "    return y_pred"
   ]
  },
  {
   "cell_type": "code",
   "execution_count": 17,
   "metadata": {
    "colab": {},
    "colab_type": "code",
    "id": "qlng-LCVT-Di",
    "scrolled": true
   },
   "outputs": [
    {
     "data": {
      "text/plain": [
       "array([1, 1, 0, 0, 1, 0, 0, 0, 0, 0, 0, 0, 1, 0, 0, 1, 0, 0, 0, 0, 0, 0,\n",
       "       0, 1, 1, 0, 0, 0, 0, 0, 0, 0, 0, 1, 0, 1, 0, 0, 1, 0, 0, 1, 1, 0,\n",
       "       0, 0, 0, 0, 0, 0, 1, 1, 0, 0, 0, 1, 0, 1, 0, 0, 0, 0, 0, 1, 1, 1,\n",
       "       0, 0, 0, 0, 0, 0, 1, 0, 0, 0, 1, 0, 0, 0, 1, 0, 0, 0, 1, 0, 0, 0,\n",
       "       0, 0, 0, 0, 0, 0, 1, 0, 1, 0, 0, 0, 1, 0, 0, 0, 0, 1, 0, 0, 1, 0,\n",
       "       0, 0, 0, 0, 0, 1, 0, 1, 1, 1, 0, 1, 0, 0, 0, 0, 1, 0, 0, 0, 0, 0,\n",
       "       0, 0, 0, 0, 0, 0, 1, 0, 1, 0, 1, 0, 0, 1, 0, 0, 0, 0, 0, 0, 0, 0,\n",
       "       0, 0, 0, 1, 0, 0, 0, 1, 0, 1, 1, 0, 0, 1, 1, 0, 1, 0, 0, 0, 0, 0,\n",
       "       1, 1, 0, 0, 0, 1, 0, 0, 0, 0, 0, 1, 1, 0, 0, 0, 1, 0, 0, 1, 0, 0,\n",
       "       0, 1, 0, 1, 0, 1, 0, 1, 0, 0, 0, 1, 0, 0, 0, 1, 0, 0, 1, 0, 1, 0,\n",
       "       0, 0, 0, 0, 1, 0, 0, 0, 0, 0, 1, 0, 0, 0, 0, 0, 0, 1, 0, 0, 1, 0,\n",
       "       1, 0, 0, 0, 0, 0, 1, 0, 0, 1, 1, 0, 1, 0, 0, 0, 0, 0, 1, 1, 0, 0,\n",
       "       0, 0, 1, 0, 0, 0, 0, 0, 0, 0, 0, 0, 0, 0, 1, 1, 1, 0, 0, 0, 0, 0,\n",
       "       0, 0, 0, 1, 0, 0, 1, 0, 0, 0, 1, 1, 0, 0, 0, 0, 0, 0, 0, 0, 0, 1,\n",
       "       1, 0, 0, 1, 0, 0, 0, 1, 1, 1, 0, 0, 0, 0, 0, 0, 1, 0, 0, 1, 0, 0,\n",
       "       0, 0, 0, 0, 0, 1, 1, 0, 0, 0, 1, 0, 0, 1, 0, 0, 0], dtype=int64)"
      ]
     },
     "execution_count": 17,
     "metadata": {},
     "output_type": "execute_result"
    }
   ],
   "source": [
    "predict(validasi_data,pos)"
   ]
  },
  {
   "cell_type": "code",
   "execution_count": 18,
   "metadata": {},
   "outputs": [
    {
     "data": {
      "text/plain": [
       "array([[1013,   54],\n",
       "       [  85,  238]], dtype=int64)"
      ]
     },
     "execution_count": 18,
     "metadata": {},
     "output_type": "execute_result"
    }
   ],
   "source": [
    "cm_train = confusion_matrix(output_train_data, predict(train_data, pos))\n",
    "cm_validasi = confusion_matrix(output_validasi_data, predict(validasi_data, pos))\n",
    "cm_train"
   ]
  },
  {
   "cell_type": "code",
   "execution_count": 19,
   "metadata": {},
   "outputs": [
    {
     "data": {
      "text/plain": [
       "array([[248,  28],\n",
       "       [  8,  63]], dtype=int64)"
      ]
     },
     "execution_count": 19,
     "metadata": {},
     "output_type": "execute_result"
    }
   ],
   "source": [
    "cm_validasi"
   ]
  },
  {
   "cell_type": "code",
   "execution_count": 20,
   "metadata": {},
   "outputs": [
    {
     "name": "stdout",
     "output_type": "stream",
     "text": [
      "Normalized confusion matrix\n",
      "[[0.95 0.05]\n",
      " [0.26 0.74]]\n",
      "Normalized confusion matrix\n",
      "[[0.9  0.1 ]\n",
      " [0.11 0.89]]\n"
     ]
    },
    {
     "data": {
      "image/png": "[encoded data removed]",
      "text/plain": [
       "<Figure size 432x288 with 2 Axes>"
      ]
     },
     "metadata": {
      "needs_background": "light"
     },
     "output_type": "display_data"
    },
    {
     "data": {
      "image/png": "[encoded data removed]",
      "text/plain": [
       "<Figure size 432x288 with 2 Axes>"
      ]
     },
     "metadata": {
      "needs_background": "light"
     },
     "output_type": "display_data"
    }
   ],
   "source": [
    "class_names = np.array(['non-lymphoblast',\"lymphoblast\"])\n",
    "np.set_printoptions(precision=2)\n",
    "cm_t = plot_confusion_matrix(output_train_data, predict(train_data, pos), classes=class_names, normalize=True,\n",
    "                      title='Normalized confusion matrix')\n",
    "cm_v = plot_confusion_matrix(output_validasi_data, predict(validasi_data, pos), classes=class_names, normalize=True,\n",
    "                      title='Normalized confusion matrix')\n",
    "plt.show()"
   ]
  },
  {
   "cell_type": "code",
   "execution_count": 21,
   "metadata": {},
   "outputs": [],
   "source": [
    "cm_t.figure.savefig('rev3_train2.png')\n",
    "cm_v.figure.savefig('rev3_validasi2.png')"
   ]
  },
  {
   "cell_type": "code",
   "execution_count": 22,
   "metadata": {},
   "outputs": [
    {
     "data": {
      "text/plain": [
       "array([0, 1, 0, ..., 1, 0, 0], dtype=int64)"
      ]
     },
     "execution_count": 22,
     "metadata": {},
     "output_type": "execute_result"
    }
   ],
   "source": [
    "predict(train_data, pos)"
   ]
  },
  {
   "cell_type": "code",
   "execution_count": 23,
   "metadata": {},
   "outputs": [
    {
     "data": {
      "text/plain": [
       "array([1, 1, 0, 0, 1, 0, 0, 0, 0, 0, 0, 0, 1, 0, 0, 1, 0, 0, 0, 0, 0, 0,\n",
       "       0, 1, 1, 0, 0, 0, 0, 0, 0, 0, 0, 1, 0, 1, 0, 0, 1, 0, 0, 1, 1, 0,\n",
       "       0, 0, 0, 0, 0, 0, 1, 1, 0, 0, 0, 1, 0, 1, 0, 0, 0, 0, 0, 1, 1, 1,\n",
       "       0, 0, 0, 0, 0, 0, 1, 0, 0, 0, 1, 0, 0, 0, 1, 0, 0, 0, 1, 0, 0, 0,\n",
       "       0, 0, 0, 0, 0, 0, 1, 0, 1, 0, 0, 0, 1, 0, 0, 0, 0, 1, 0, 0, 1, 0,\n",
       "       0, 0, 0, 0, 0, 1, 0, 1, 1, 1, 0, 1, 0, 0, 0, 0, 1, 0, 0, 0, 0, 0,\n",
       "       0, 0, 0, 0, 0, 0, 1, 0, 1, 0, 1, 0, 0, 1, 0, 0, 0, 0, 0, 0, 0, 0,\n",
       "       0, 0, 0, 1, 0, 0, 0, 1, 0, 1, 1, 0, 0, 1, 1, 0, 1, 0, 0, 0, 0, 0,\n",
       "       1, 1, 0, 0, 0, 1, 0, 0, 0, 0, 0, 1, 1, 0, 0, 0, 1, 0, 0, 1, 0, 0,\n",
       "       0, 1, 0, 1, 0, 1, 0, 1, 0, 0, 0, 1, 0, 0, 0, 1, 0, 0, 1, 0, 1, 0,\n",
       "       0, 0, 0, 0, 1, 0, 0, 0, 0, 0, 1, 0, 0, 0, 0, 0, 0, 1, 0, 0, 1, 0,\n",
       "       1, 0, 0, 0, 0, 0, 1, 0, 0, 1, 1, 0, 1, 0, 0, 0, 0, 0, 1, 1, 0, 0,\n",
       "       0, 0, 1, 0, 0, 0, 0, 0, 0, 0, 0, 0, 0, 0, 1, 1, 1, 0, 0, 0, 0, 0,\n",
       "       0, 0, 0, 1, 0, 0, 1, 0, 0, 0, 1, 1, 0, 0, 0, 0, 0, 0, 0, 0, 0, 1,\n",
       "       1, 0, 0, 1, 0, 0, 0, 1, 1, 1, 0, 0, 0, 0, 0, 0, 1, 0, 0, 1, 0, 0,\n",
       "       0, 0, 0, 0, 0, 1, 1, 0, 0, 0, 1, 0, 0, 1, 0, 0, 0], dtype=int64)"
      ]
     },
     "execution_count": 23,
     "metadata": {},
     "output_type": "execute_result"
    }
   ],
   "source": [
    "predict(validasi_data, pos)"
   ]
  },
  {
   "cell_type": "code",
   "execution_count": 24,
   "metadata": {
    "scrolled": true
   },
   "outputs": [
    {
     "data": {
      "text/plain": [
       "array([1., 0., 0., 1., 0., 0., 0., 0., 0., 0., 1., 1., 0., 1., 0., 0., 0.,\n",
       "       0., 1., 1., 0., 0., 0., 0., 0., 0., 0., 1., 1., 1., 1., 1., 1., 0.,\n",
       "       0., 0., 0., 0., 0., 0., 1., 0., 1., 0., 0., 0., 1., 0., 0., 0., 0.,\n",
       "       1., 0., 0., 1., 0., 0., 0., 0., 1., 1., 0., 0., 0., 0., 1., 0., 0.,\n",
       "       0., 1., 0., 0., 0., 0., 1., 0., 0., 0., 0., 0., 1., 0., 1., 1., 0.,\n",
       "       1., 0., 1., 0., 0., 0., 0., 0., 0., 0., 1., 0., 0., 1., 0., 0., 1.,\n",
       "       0., 0., 0., 0., 0., 0., 0., 0., 0., 0., 0., 1., 0., 1., 0., 1., 0.,\n",
       "       1., 0., 0., 0., 0., 1., 1., 0., 0., 0., 0., 0., 1., 0., 0., 0., 0.,\n",
       "       0., 0., 0., 0., 0., 1., 1., 0., 1., 0., 0., 1., 0., 1., 0., 0., 0.,\n",
       "       1., 0., 0., 1., 0., 0., 0., 1., 0., 0., 0., 1., 0., 0., 0., 0., 0.,\n",
       "       1., 0., 0., 0., 0., 1., 0., 0., 1., 0., 0., 0., 1., 1., 0., 0., 0.,\n",
       "       0., 0., 0., 0., 0., 1., 1., 1., 0., 0., 0., 0., 0., 0., 0., 1., 0.,\n",
       "       0., 1., 0., 0., 1., 1., 0., 0., 0., 0., 0., 0., 1., 0., 0., 0., 0.,\n",
       "       0., 0., 1., 1., 0., 1., 0., 1., 1., 0., 0., 1., 0., 0., 0., 1., 0.,\n",
       "       0., 0., 0., 0., 0., 1.])"
      ]
     },
     "execution_count": 24,
     "metadata": {},
     "output_type": "execute_result"
    }
   ],
   "source": [
    "#### data testing\n",
    "data_test =  pd.read_csv('rev3_data_testing_NN1.csv', sep=',',header=None)\n",
    "data_test = data_test.values\n",
    "len_data_test = np.size(data_test, axis=1)-1\n",
    "data_test[:,31]"
   ]
  },
  {
   "cell_type": "code",
   "execution_count": 25,
   "metadata": {},
   "outputs": [
    {
     "data": {
      "text/plain": [
       "array([1, 0, 0, 1, 0, 0, 0, 0, 0, 0, 1, 1, 0, 1, 0, 0, 0, 0, 1, 1, 0, 0,\n",
       "       0, 0, 0, 0, 0, 1, 1, 1, 1, 1, 1, 0, 0, 0, 0, 0, 0, 0, 1, 0, 1, 0,\n",
       "       0, 0, 1, 0, 0, 0, 0, 1, 0, 0, 1, 0, 0, 0, 0, 1, 1, 0, 0, 0, 0, 1,\n",
       "       0, 0, 0, 1, 0, 0, 0, 0, 1, 0, 0, 0, 0, 0, 1, 0, 1, 1, 0, 1, 0, 1,\n",
       "       0, 0, 0, 0, 0, 0, 0, 1, 0, 0, 1, 0, 0, 1, 0, 0, 0, 0, 0, 0, 0, 0,\n",
       "       0, 0, 0, 1, 0, 1, 0, 1, 0, 1, 0, 0, 0, 0, 1, 1, 0, 0, 0, 0, 0, 1,\n",
       "       0, 0, 0, 0, 0, 0, 0, 0, 0, 1, 1, 0, 1, 0, 0, 1, 0, 1, 0, 0, 0, 1,\n",
       "       0, 0, 1, 0, 0, 0, 1, 0, 0, 0, 1, 0, 0, 0, 0, 0, 1, 0, 0, 0, 0, 1,\n",
       "       0, 0, 1, 0, 0, 0, 1, 1, 0, 0, 0, 0, 0, 0, 0, 0, 1, 1, 1, 0, 0, 0,\n",
       "       0, 0, 0, 0, 1, 0, 0, 1, 0, 0, 1, 1, 0, 0, 0, 0, 0, 0, 1, 0, 0, 0,\n",
       "       0, 0, 0, 1, 1, 0, 1, 0, 1, 1, 0, 0, 1, 0, 0, 0, 1, 0, 0, 0, 0, 0,\n",
       "       0, 1])"
      ]
     },
     "execution_count": 25,
     "metadata": {},
     "output_type": "execute_result"
    }
   ],
   "source": [
    "output_test_data = data_test[:,31] #output aja limfo\n",
    "output_test_data = np.int_(output_test_data)\n",
    "output_test_data"
   ]
  },
  {
   "cell_type": "code",
   "execution_count": 26,
   "metadata": {},
   "outputs": [
    {
     "data": {
      "text/plain": [
       "array([[0.52, 0.41, 0.69, ..., 0.75, 0.83, 0.88],\n",
       "       [0.54, 0.29, 0.45, ..., 0.8 , 0.73, 0.75],\n",
       "       [0.49, 0.32, 0.97, ..., 0.58, 0.58, 0.86],\n",
       "       ...,\n",
       "       [0.25, 0.14, 0.92, ..., 0.85, 0.69, 0.73],\n",
       "       [0.23, 0.15, 0.19, ..., 0.63, 0.54, 0.59],\n",
       "       [0.62, 0.32, 0.79, ..., 0.91, 0.91, 0.95]])"
      ]
     },
     "execution_count": 26,
     "metadata": {},
     "output_type": "execute_result"
    }
   ],
   "source": [
    "data_test = data_test[:,:29]\n",
    "data_test = np.delete(data_test, a ,axis=1) #data fitur yang udah terseleksi\n",
    "#drop fitur\n",
    "data_test"
   ]
  },
  {
   "cell_type": "code",
   "execution_count": 27,
   "metadata": {
    "colab": {},
    "colab_type": "code",
    "id": "k6QpPw80T-Dz"
   },
   "outputs": [
    {
     "data": {
      "text/plain": [
       "array([[153,  23],\n",
       "       [  7,  61]], dtype=int64)"
      ]
     },
     "execution_count": 27,
     "metadata": {},
     "output_type": "execute_result"
    }
   ],
   "source": [
    "#cm_train = confusion_matrix(output_train_data, predict(train_data, pos))\n",
    "#cm_validasi = confusion_matrix(output_validasi_data, predict(validasi_data, pos))\n",
    "cm_test = confusion_matrix(output_test_data, predict(data_test, pos))\n",
    "cm_test"
   ]
  },
  {
   "cell_type": "code",
   "execution_count": 28,
   "metadata": {},
   "outputs": [
    {
     "name": "stdout",
     "output_type": "stream",
     "text": [
      "Normalized confusion matrix\n",
      "[[0.87 0.13]\n",
      " [0.1  0.9 ]]\n"
     ]
    },
    {
     "data": {
      "image/png": "[encoded data removed]",
      "text/plain": [
       "<Figure size 432x288 with 2 Axes>"
      ]
     },
     "metadata": {
      "needs_background": "light"
     },
     "output_type": "display_data"
    }
   ],
   "source": [
    "class_names = np.array(['non-lymphoblast',\"lymphoblast\"])\n",
    "np.set_printoptions(precision=2)\n",
    "cm_test2 = plot_confusion_matrix(output_test_data, predict(data_test, pos), classes=class_names, normalize=True,\n",
    "                      title='Normalized confusion matrix')\n",
    "plt.show()"
   ]
  },
  {
   "cell_type": "code",
   "execution_count": 29,
   "metadata": {},
   "outputs": [],
   "source": [
    "cm_test2.figure.savefig('rev3_test2.png')"
   ]
  },
  {
   "cell_type": "code",
   "execution_count": 30,
   "metadata": {},
   "outputs": [
    {
     "data": {
      "text/plain": [
       "array([1, 0, 0, 1, 0, 0, 0, 0, 0, 0, 1, 1, 0, 1, 0, 0, 0, 0, 1, 1, 0, 0,\n",
       "       0, 0, 0, 0, 0, 1, 1, 1, 1, 1, 1, 0, 0, 0, 0, 0, 0, 0, 1, 0, 1, 0,\n",
       "       0, 0, 1, 0, 0, 0, 0, 1, 0, 0, 1, 0, 0, 0, 0, 1, 1, 0, 0, 0, 0, 1,\n",
       "       0, 0, 0, 1, 0, 0, 0, 0, 1, 0, 0, 0, 0, 0, 1, 0, 1, 1, 0, 1, 0, 1,\n",
       "       0, 0, 0, 0, 0, 0, 0, 1, 0, 0, 1, 0, 0, 1, 0, 0, 0, 0, 0, 0, 0, 0,\n",
       "       0, 0, 0, 1, 0, 1, 0, 1, 0, 1, 0, 0, 0, 0, 1, 1, 0, 0, 0, 0, 0, 1,\n",
       "       0, 0, 0, 0, 0, 0, 0, 0, 0, 1, 1, 0, 1, 0, 0, 1, 0, 1, 0, 0, 0, 1,\n",
       "       0, 0, 1, 0, 0, 0, 1, 0, 0, 0, 1, 0, 0, 0, 0, 0, 1, 0, 0, 0, 0, 1,\n",
       "       0, 0, 1, 0, 0, 0, 1, 1, 0, 0, 0, 0, 0, 0, 0, 0, 1, 1, 1, 0, 0, 0,\n",
       "       0, 0, 0, 0, 1, 0, 0, 1, 0, 0, 1, 1, 0, 0, 0, 0, 0, 0, 1, 0, 0, 0,\n",
       "       0, 0, 0, 1, 1, 0, 1, 0, 1, 1, 0, 0, 1, 0, 0, 0, 1, 0, 0, 0, 0, 0,\n",
       "       0, 1])"
      ]
     },
     "execution_count": 30,
     "metadata": {},
     "output_type": "execute_result"
    }
   ],
   "source": [
    "output_test_data"
   ]
  },
  {
   "cell_type": "code",
   "execution_count": 31,
   "metadata": {},
   "outputs": [
    {
     "name": "stdout",
     "output_type": "stream",
     "text": [
      "Presisi data training limfoblas :  0.815068493150685\n",
      "Recall data training limfoblas (sensitivitas) :  0.7368421052631579\n",
      "Presisi rerata data training :  0.8688275070489309\n",
      "Presisi rerata data training :  0.8431164603166773\n",
      "Akurasi data training :  0.9\n",
      "F1 Score data training :  0.855778911381178\n"
     ]
    }
   ],
   "source": [
    "print(\"Presisi data training limfoblas : \", precision(1,cm_train))\n",
    "print(\"Recall data training limfoblas (sensitivitas) : \", recall(1,cm_train))\n",
    "print(\"Presisi rerata data training : \", precision_macro_average(cm_train))\n",
    "print(\"Presisi rerata data training : \", recall_macro_average(cm_train))\n",
    "print(\"Akurasi data training : \", accuracy(cm_train))\n",
    "print(\"F1 Score data training : \", f1_score(precision_macro_average(cm_train),recall_macro_average(cm_train)))"
   ]
  },
  {
   "cell_type": "code",
   "execution_count": 32,
   "metadata": {},
   "outputs": [
    {
     "name": "stdout",
     "output_type": "stream",
     "text": [
      "Presisi data validasi limfoblas :  0.6923076923076923\n",
      "Recall data validasi limfoblas :  0.8873239436619719\n",
      "Presisi rerata data validasi :  0.8305288461538461\n",
      "Presisi rerata data validasi :  0.8929373341498266\n",
      "Akurasi data validasi :  0.8962536023054755\n",
      "F1 Score data validasi :  0.8606031522921744\n"
     ]
    }
   ],
   "source": [
    "print(\"Presisi data validasi limfoblas : \", precision(1,cm_validasi))\n",
    "print(\"Recall data validasi limfoblas : \", recall(1,cm_validasi))\n",
    "print(\"Presisi rerata data validasi : \", precision_macro_average(cm_validasi))\n",
    "print(\"Presisi rerata data validasi : \", recall_macro_average(cm_validasi))\n",
    "print(\"Akurasi data validasi : \", accuracy(cm_validasi))\n",
    "print(\"F1 Score data validasi : \", f1_score(precision_macro_average(cm_validasi),recall_macro_average(cm_validasi)))"
   ]
  },
  {
   "cell_type": "code",
   "execution_count": 33,
   "metadata": {
    "scrolled": false
   },
   "outputs": [
    {
     "name": "stdout",
     "output_type": "stream",
     "text": [
      "Presisi data test limfoblas :  0.7261904761904762\n",
      "Recall data test limfoblas :  0.8970588235294118\n",
      "Presisi rerata data test :  0.841220238095238\n",
      "Presisi rerata data test :  0.8831885026737968\n",
      "Akurasi data test :  0.8770491803278688\n",
      "F1 Score data test :  0.8616936633838818\n"
     ]
    }
   ],
   "source": [
    "print(\"Presisi data test limfoblas : \", precision(1,cm_test))\n",
    "print(\"Recall data test limfoblas : \", recall(1,cm_test))\n",
    "print(\"Presisi rerata data test : \", precision_macro_average(cm_test))\n",
    "print(\"Presisi rerata data test : \", recall_macro_average(cm_test))\n",
    "print(\"Akurasi data test : \", accuracy(cm_test))\n",
    "print(\"F1 Score data test : \", f1_score(precision_macro_average(cm_test),recall_macro_average(cm_test)))"
   ]
  },
  {
   "cell_type": "code",
   "execution_count": 34,
   "metadata": {},
   "outputs": [
    {
     "data": {
      "text/plain": [
       "[-0.3516367174353852,\n",
       " 0.1825341884625991,\n",
       " -0.37984784741818867,\n",
       " 0.12581817007797366,\n",
       " -0.7633157764375396,\n",
       " -0.22471506161500934,\n",
       " -2.2098515113303834,\n",
       " 0.5746529660748363,\n",
       " 0.8270486943360502,\n",
       " 0.7005904179181339,\n",
       " 0.3964411638371509,\n",
       " -0.35804926106024637,\n",
       " 0.7804269214736982,\n",
       " -0.8397217664956078,\n",
       " -1.0320316579039086,\n",
       " -0.024267270819627106,\n",
       " -0.48100673650069103,\n",
       " -0.94039383665791,\n",
       " 0.7863758875625105,\n",
       " 0.5555824576058632,\n",
       " -0.5332844455326726,\n",
       " 0.7408801813560796,\n",
       " -0.08967086502532513,\n",
       " -2.1404721599220715,\n",
       " -0.7857457688864818,\n",
       " -0.42321232726499525,\n",
       " -0.2512621855065405,\n",
       " -0.5585147227552725,\n",
       " 0.32229555103006075,\n",
       " 0.6477817159879429,\n",
       " -0.5169075711294818,\n",
       " -0.2909230169290561,\n",
       " 0.3681806564822128,\n",
       " -0.4796695493959535,\n",
       " -0.2408834412723415,\n",
       " 0.804396718984869,\n",
       " -0.6356821799674501,\n",
       " -0.053547307086319135,\n",
       " 0.3566884782473403,\n",
       " -0.015818043452730562,\n",
       " -0.5907068736755704,\n",
       " 0.6168701201467347,\n",
       " -0.16059133424633346,\n",
       " -0.3762075177599407,\n",
       " 0.4701179206095387,\n",
       " 0.6512315161816549,\n",
       " 0.36766074513245434,\n",
       " 0.02904184290964954,\n",
       " 0.03091365107565303,\n",
       " -0.17644828886461145,\n",
       " -0.18912370944775822,\n",
       " 2.588576440814335,\n",
       " 0.4665592340930928,\n",
       " -0.39572085203710905,\n",
       " -0.3112240575277081,\n",
       " -0.3286262639437693,\n",
       " 0.8546960489295544,\n",
       " 0.6698335203001403,\n",
       " 0.3096355556928731,\n",
       " 0.45952999026353164,\n",
       " 2.8826621846196225,\n",
       " -0.18419252422537116,\n",
       " -0.05020752350327808,\n",
       " 0.11441201778617908,\n",
       " 1.0587890697114337,\n",
       " -0.11329758281974867,\n",
       " -0.7695386853727073,\n",
       " 0.5600668484168273,\n",
       " 1.0162313966411227,\n",
       " 0.7322322864096056,\n",
       " -6.448487166469324,\n",
       " -0.09425303914871185,\n",
       " 0.3381832348240089,\n",
       " -1.4204370567021531,\n",
       " 0.9165083457492362,\n",
       " 0.8446670871942304,\n",
       " 0.09407473870597333,\n",
       " 0.43245008667866636,\n",
       " 0.26360443489189966,\n",
       " -0.7639282684311178,\n",
       " 0.4914823640181727,\n",
       " -0.8362007510582411,\n",
       " 0.9984283045482898,\n",
       " -0.6893411865457991,\n",
       " 0.5713573362594128,\n",
       " 0.48709192752601205,\n",
       " 0.17735732345417518,\n",
       " -1.4436072618486668,\n",
       " -0.9632695011007548,\n",
       " 1.187205382836887,\n",
       " 0.33583814491719155,\n",
       " 0.13773497648380922,\n",
       " -0.11630100132332194,\n",
       " -1.831754849757063,\n",
       " 0.4159734022945355,\n",
       " 0.19594490841097226,\n",
       " 0.05668032642504841,\n",
       " -0.45935049540364464,\n",
       " 1.3080571806092356,\n",
       " 0.3246825482019988,\n",
       " 0.2626668559400367,\n",
       " 0.31936038150287843,\n",
       " 0.2629101521701198,\n",
       " -1.019671877680656,\n",
       " 1.0164073829478342,\n",
       " 0.7753552031634,\n",
       " 0.6972781100957951,\n",
       " 0.4204473125223078,\n",
       " 0.6014474192209898,\n",
       " -0.6880846366778359,\n",
       " 0.8923394079912699,\n",
       " 1.210364991296551,\n",
       " -0.7411604485181081,\n",
       " 1.708473394638862,\n",
       " -0.5592329665559528,\n",
       " 0.07254324719148572,\n",
       " 0.5664951429299083,\n",
       " 0.16455187345834846,\n",
       " 0.0410976647190439,\n",
       " -5.976298730753713,\n",
       " -0.0312699419289331,\n",
       " 0.9146236813615238,\n",
       " 0.7399266872008416,\n",
       " -0.8072323265264771,\n",
       " 0.7895889004272048,\n",
       " 0.5580059508629696,\n",
       " 0.3420919286683353,\n",
       " 0.4469324146717973,\n",
       " -1.8534750914134943,\n",
       " 1.2489512662121778,\n",
       " -0.07081855654897949,\n",
       " 0.10449270669034928,\n",
       " -0.5611935870776135,\n",
       " 0.026439922662257306,\n",
       " -0.11909270657068301,\n",
       " 0.8004534186417567,\n",
       " 0.22450741597981363,\n",
       " 0.24512754049334878,\n",
       " 0.3596550493102932,\n",
       " -0.46376722746710275,\n",
       " 0.988942267056748,\n",
       " 0.19877400666676065,\n",
       " 0.22514545058095464,\n",
       " -0.8277820325140675,\n",
       " 0.019976765273061987,\n",
       " -1.2817391556553583,\n",
       " 0.4403358047098266,\n",
       " 0.6717968214306156,\n",
       " 0.4902425218737332,\n",
       " 0.046313616557969374,\n",
       " 0.3592999755601379,\n",
       " 2.2914343625576854,\n",
       " 0.41042243853700766,\n",
       " 0.24766627889187345,\n",
       " 0.5956276544705513,\n",
       " 0.8039911803041476,\n",
       " 0.8882350097412655,\n",
       " -1.9554861909063077,\n",
       " -0.7454462265476094,\n",
       " 0.4303784130277054,\n",
       " 0.9912421217278514,\n",
       " -0.0695620452901226,\n",
       " 0.9178252566122983,\n",
       " 1.0743790206494483,\n",
       " 0.506819070466357,\n",
       " 0.8017427181113723,\n",
       " -0.17413762493574034,\n",
       " 1.2502255240217954,\n",
       " 1.1290240581146884,\n",
       " 0.050893947161640744,\n",
       " 0.6062840574924481,\n",
       " -1.3604378260914511,\n",
       " -0.14326284174285087,\n",
       " 0.45281453586346315,\n",
       " -0.1453839562198846,\n",
       " 0.3859415029194566,\n",
       " -0.20031849353768452,\n",
       " 0.2602578707013815,\n",
       " 0.800346469465477,\n",
       " -0.3374625074008249,\n",
       " 0.44114556446768227,\n",
       " 1.1873719450442017,\n",
       " -0.04768305904400752,\n",
       " -0.5453409631947947,\n",
       " -0.06692130727894213,\n",
       " 0.02405681971601509,\n",
       " 0.8028844931471347,\n",
       " -0.45687239305576904,\n",
       " 0.27727688830161623,\n",
       " -0.34184719118664625,\n",
       " 0.5429978281605768,\n",
       " 0.46364143065444086,\n",
       " -1.2330297546838975,\n",
       " -1.0326259798964208,\n",
       " 0.5535201767018116,\n",
       " -1.7094733567436198,\n",
       " 0.20409874766657185,\n",
       " 0.8194723167134056,\n",
       " 0.8387423156848692,\n",
       " -0.05195690625095978,\n",
       " 0.6915097948648453,\n",
       " -0.30414979814131266,\n",
       " -0.390615794822587,\n",
       " 0.061044191812574325,\n",
       " 0.2316972677923833,\n",
       " -0.28248134084531634,\n",
       " -1.3970620803410874,\n",
       " 0.8465049361851484,\n",
       " 1.6736711515124592,\n",
       " -0.07279849483847746,\n",
       " -1.683342295096302,\n",
       " -0.7524330341108132,\n",
       " -1.6915290499328322,\n",
       " 0.5279736049931285,\n",
       " -0.5063672713515325,\n",
       " 0.6437251984231503,\n",
       " -0.04370052760854343,\n",
       " -0.2461660927911666,\n",
       " -1.5871748559916485,\n",
       " -0.24159175495354138,\n",
       " -0.6897567454658333,\n",
       " -0.76289855915836,\n",
       " 0.6200646644251488,\n",
       " 0.2583999510385946,\n",
       " -0.1773483873622255,\n",
       " -0.2129140101442977,\n",
       " -0.6071112253929146,\n",
       " -0.6581460868181448,\n",
       " 0.87005584180926,\n",
       " -0.12616244050440062,\n",
       " -0.2442600726482538,\n",
       " -0.5562728505278457,\n",
       " 0.8285004598149496,\n",
       " -0.48053677700730335,\n",
       " 1.2513182537982277,\n",
       " 0.011235176845332357,\n",
       " 0.2245981348901135,\n",
       " 0.7450885687109601,\n",
       " -0.2511100403751624,\n",
       " -0.14793817009392912,\n",
       " 0.18057344253479546,\n",
       " 0.5062095668522351,\n",
       " 0.11766564676097803,\n",
       " 0.07899792739508382,\n",
       " -0.07326005389074697,\n",
       " 0.45265440996473194,\n",
       " -0.418593826410956,\n",
       " 1.0373078631893295,\n",
       " -0.684436325852652,\n",
       " 1.1008647068763018,\n",
       " -0.5929677321019298,\n",
       " 0.7411644542220107,\n",
       " 0.36754358618901445,\n",
       " 0.686342948092283,\n",
       " -0.5238228460562868,\n",
       " 0.08773784734286208,\n",
       " -0.11956303663885887,\n",
       " 0.8300011605630532,\n",
       " 0.10554942470527581,\n",
       " 0.20794949372308807,\n",
       " 0.5923082593286574,\n",
       " 2.812092849332626,\n",
       " -2.3008899193124104,\n",
       " -0.3593828009729654,\n",
       " -0.34174989933344374,\n",
       " 0.7569896756282579,\n",
       " -0.06678057218211822,\n",
       " -0.8208916719137533,\n",
       " 0.2514347672287249,\n",
       " -0.6737203369140868,\n",
       " 0.9922123855418026,\n",
       " 0.8227934412839781,\n",
       " 0.5971790426366482,\n",
       " -0.020692842364104118,\n",
       " -0.13224005615335466,\n",
       " 0.11659266329551238,\n",
       " 0.5882555456189048,\n",
       " -1.7481458144795037,\n",
       " -0.45075598887741697,\n",
       " -0.010628608790180643,\n",
       " 0.974304495979731,\n",
       " -0.5812287272346194,\n",
       " 0.5037315774810354,\n",
       " -0.5257066936886898,\n",
       " -1.1326126149623474,\n",
       " -0.4589211117357568,\n",
       " 0.3661385458438489,\n",
       " -1.3276552270389361,\n",
       " 0.24073030783418045,\n",
       " 0.24026466309816885,\n",
       " 0.5844946926572387,\n",
       " 0.23317175649335659,\n",
       " -1.6865341020986508,\n",
       " 0.21416323362492576,\n",
       " 0.5349997158170492,\n",
       " 0.18836355486311698,\n",
       " -0.21527978696547645,\n",
       " 0.5522188960837222,\n",
       " -1.3410376762251004,\n",
       " 1.2333324853580485,\n",
       " 0.1400665698397144,\n",
       " 0.09161430611885332,\n",
       " -0.07929263391568639,\n",
       " 0.7263410052745984,\n",
       " -0.0008167505349007716,\n",
       " 0.4682848946424657,\n",
       " -0.17036510700564558,\n",
       " 0.8100653668614348,\n",
       " 0.9637678332845566,\n",
       " 0.39316108246025544,\n",
       " 0.6168493413952855,\n",
       " -0.0661712717532447,\n",
       " 0.4297326718552508,\n",
       " 0.11786498109576163,\n",
       " -0.07466669317175394,\n",
       " -0.06820206449466647,\n",
       " -3.1819367393665607,\n",
       " 0.6222851264268592,\n",
       " 0.24743366966603933,\n",
       " -0.26245062949382575,\n",
       " 0.6929223306937302,\n",
       " -0.16326365640775842,\n",
       " 1.212822047668045,\n",
       " -0.6260493556745733,\n",
       " -0.2293993502251882,\n",
       " 0.26482405524574987,\n",
       " 0.34506569197860965,\n",
       " -0.02407663230755815,\n",
       " -0.7118666286288953,\n",
       " 0.4430626148082244,\n",
       " -0.46647271138550467,\n",
       " 0.3386998325917471,\n",
       " 0.09364277624002404,\n",
       " -2.1286625178789675,\n",
       " 1.106814784376338,\n",
       " -0.302603147931694,\n",
       " 0.2040442049303986,\n",
       " -0.48560112038974645,\n",
       " -0.03704755996387851,\n",
       " 0.3234111825525266,\n",
       " 0.6700598713225114,\n",
       " -1.6801807677713017,\n",
       " -0.7770786445189988,\n",
       " 0.530630218204679,\n",
       " 0.050940311020720955,\n",
       " -0.20002348902441536,\n",
       " -0.056325307389971456,\n",
       " -0.47013273462444255,\n",
       " 0.29936592157653524,\n",
       " 0.4013728111641571,\n",
       " 0.6675738506525711,\n",
       " 0.5873799638806562,\n",
       " -0.18417445205203878,\n",
       " -1.0660200579438113,\n",
       " 0.16101706967794552,\n",
       " -0.34679220323795257,\n",
       " 0.13524141152872987,\n",
       " 0.37722481876460146,\n",
       " -0.2893850700143248,\n",
       " 0.5140790471090283,\n",
       " 0.6750408283739049,\n",
       " -1.1914436598693934,\n",
       " 0.4901747860466608,\n",
       " 1.440956304734944,\n",
       " 0.15691068033253253,\n",
       " 0.3964840467670508,\n",
       " 0.827562507864567,\n",
       " -0.3606554645734573,\n",
       " 0.5553456227691829,\n",
       " 0.05237845223538347,\n",
       " -0.6083632360894952,\n",
       " 0.677770510259008,\n",
       " -0.5529212980385002,\n",
       " 0.14117306641731378,\n",
       " 0.17002143397143804,\n",
       " 0.36802277566028413,\n",
       " 0.3805580247668647,\n",
       " -0.6611262442540696,\n",
       " -0.7664087948578511,\n",
       " 0.2574319691952869,\n",
       " 0.0075826213022672645,\n",
       " 0.021046928261760377,\n",
       " 0.04774980752961538,\n",
       " -0.4545909597010437,\n",
       " -0.32030698640539074,\n",
       " -0.34457440161006225,\n",
       " 0.20970419355776995,\n",
       " 0.10947411631953853,\n",
       " 0.5192936767838296,\n",
       " 0.4357895063627927,\n",
       " 0.8885539550332077,\n",
       " -1.2405834933904547,\n",
       " -0.9939622921719937,\n",
       " 0.8384674616580344,\n",
       " -0.41655713173387454,\n",
       " 0.43659851093378726,\n",
       " -1.022479372441536,\n",
       " -0.023785019502121443,\n",
       " 0.541199415364402,\n",
       " -0.4074251579559231,\n",
       " 1.4280323821062264,\n",
       " -0.13828553728847282,\n",
       " 0.318647739534827,\n",
       " -0.9138388024849406,\n",
       " 0.6734324572921238,\n",
       " -0.25639943758544254,\n",
       " -0.16925300670180962,\n",
       " 0.5162929091946812,\n",
       " 0.2770744039387547,\n",
       " 0.5997108409112092,\n",
       " -0.1026013992866838,\n",
       " 0.4510660024013434,\n",
       " 0.24282921008287037,\n",
       " 0.48708902341089827,\n",
       " 0.39711623291807036,\n",
       " 0.3610810631795223,\n",
       " 1.2996829596042003,\n",
       " -0.6629791848699843,\n",
       " -0.522515909486826,\n",
       " 0.5858636847422314,\n",
       " -0.3821265347627834,\n",
       " 0.3153934332479897,\n",
       " 0.3817163798495758,\n",
       " -0.6181938612388623,\n",
       " 0.057457286075834176,\n",
       " 0.45131344637963555,\n",
       " 1.1525621094383736,\n",
       " 0.6258898576974581,\n",
       " -0.75124504031092,\n",
       " 0.7118808408595565,\n",
       " 1.3779519569843584,\n",
       " 0.7741592283336516,\n",
       " -0.2306853959371702,\n",
       " -0.3073844225510292,\n",
       " 5.983772442682912,\n",
       " 0.9974111943767997,\n",
       " -0.016376764088363704,\n",
       " 1.004817905476169,\n",
       " -0.20244962334352906,\n",
       " 0.08905234557368821,\n",
       " -0.054263873990261995,\n",
       " -0.09580628717215232,\n",
       " -0.8913320841975436,\n",
       " -1.0143102320865842,\n",
       " -1.1910218801210806,\n",
       " 0.5461231505299466,\n",
       " 0.11719498854830909,\n",
       " -1.3663290461598254,\n",
       " 3.036178612534757,\n",
       " 0.6132505655592755,\n",
       " -1.7883756146707177,\n",
       " -0.49217219229204445,\n",
       " 0.48361699530946195,\n",
       " -0.74167335910825,\n",
       " 0.2793920976999761,\n",
       " -2.0475677746751053,\n",
       " -1.2769888859561422,\n",
       " 0.6225475088725694,\n",
       " -1.3875896093276365,\n",
       " 1.2406150803221803,\n",
       " -0.2330409731290504,\n",
       " -0.2778510092826859]"
      ]
     },
     "execution_count": 34,
     "metadata": {},
     "output_type": "execute_result"
    }
   ],
   "source": [
    "pos2 = [i for i in pos]\n",
    "pos2"
   ]
  },
  {
   "cell_type": "code",
   "execution_count": 35,
   "metadata": {},
   "outputs": [],
   "source": [
    "#save_pos_step1('neuron_step1.csv',(n_hidden,optimizer.cost_history,accuracy(cm_train),accuracy(cm_validasi)))\n",
    "save_pos_step1('perfo_step2.csv',(\"1\",accuracy(cm_train),accuracy(cm_validasi),accuracy(cm_test),pos2,optimizer.cost_history,post))"
   ]
  },
  {
   "cell_type": "code",
   "execution_count": null,
   "metadata": {},
   "outputs": [],
   "source": []
  }
 ],
 "metadata": {
  "colab": {
   "name": "Copy of Sync PSO.ipynb",
   "provenance": [
    {
     "file_id": "1hA06rinoF_RKyO0BLGEXuhHc7qz7KLn5",
     "timestamp": 1553359005609
    }
   ],
   "version": "0.3.2"
  },
  "kernelspec": {
   "display_name": "Python 3",
   "language": "python",
   "name": "python3"
  },
  "language_info": {
   "codemirror_mode": {
    "name": "ipython",
    "version": 3
   },
   "file_extension": ".py",
   "mimetype": "text/x-python",
   "name": "python",
   "nbconvert_exporter": "python",
   "pygments_lexer": "ipython3",
   "version": "3.6.4"
  }
 },
 "nbformat": 4,
 "nbformat_minor": 2
}
