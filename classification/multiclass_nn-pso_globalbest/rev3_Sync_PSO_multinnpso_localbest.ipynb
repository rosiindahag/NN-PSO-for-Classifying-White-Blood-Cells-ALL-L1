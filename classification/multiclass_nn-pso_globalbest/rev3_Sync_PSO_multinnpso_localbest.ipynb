{
 "cells": [
  {
   "cell_type": "code",
   "execution_count": 1,
   "metadata": {},
   "outputs": [],
   "source": [
    "%run fungsi_save.ipynb"
   ]
  },
  {
   "cell_type": "code",
   "execution_count": 2,
   "metadata": {},
   "outputs": [
    {
     "name": "stdout",
     "output_type": "stream",
     "text": [
      "29\n"
     ]
    },
    {
     "data": {
      "text/plain": [
       "array([[0.23290321, 0.1880663 , 0.80561347, ..., 0.71176292, 0.29021789,\n",
       "        0.405438  ],\n",
       "       [0.33876336, 0.21701657, 0.88720096, ..., 0.71985131, 0.84939207,\n",
       "        0.852632  ],\n",
       "       [0.14477051, 0.07823204, 0.90193096, ..., 0.73730247, 0.72618649,\n",
       "        0.593281  ],\n",
       "       ...,\n",
       "       [0.43478703, 0.29436464, 0.82699077, ..., 0.58111237, 0.78983127,\n",
       "        0.965812  ],\n",
       "       [0.43482695, 0.20640884, 0.95507519, ..., 0.58083608, 0.67863338,\n",
       "        0.633993  ],\n",
       "       [0.28595488, 0.25281768, 0.46894224, ..., 0.11345727, 0.17694923,\n",
       "        0.561331  ]])"
      ]
     },
     "execution_count": 2,
     "metadata": {},
     "output_type": "execute_result"
    }
   ],
   "source": [
    "#pilih data fitur masukan NN1\n",
    "train_data = pd.read_csv('rev3_data_baru_norm_training.csv', sep=',',header=None)\n",
    "train_data = train_data.values\n",
    "post = pd.read_csv('data_feature_multinnpso_pos.csv', sep=',',header=None)\n",
    "post = np.int_(post)\n",
    "total_features = np.size(train_data, axis=1)-3\n",
    "print(total_features)\n",
    "output_train_data = train_data[:,total_features+1] #output aja limfo\n",
    "output_train_data = np.int_(output_train_data)\n",
    "train_data = train_data[:,:total_features]\n",
    "train_data"
   ]
  },
  {
   "cell_type": "code",
   "execution_count": 3,
   "metadata": {
    "colab": {
     "base_uri": "https://localhost:8080/",
     "height": 948
    },
    "colab_type": "code",
    "executionInfo": {
     "elapsed": 1038,
     "status": "error",
     "timestamp": 1553358562335,
     "user": {
      "displayName": "Rosi Indah Agustin",
      "photoUrl": "https://lh5.googleusercontent.com/-hvtgKP15HCE/AAAAAAAAAAI/AAAAAAAABTc/cZ83hT-NMuU/s64/photo.jpg",
      "userId": "09782658992275918565"
     },
     "user_tz": -420
    },
    "id": "F263jm2DT-Br",
    "outputId": "d464a7cc-05f7-46d7-f5e2-9fe42cecedba",
    "scrolled": true
   },
   "outputs": [
    {
     "data": {
      "text/plain": [
       "array([2, 1, 0, ..., 1, 2, 2])"
      ]
     },
     "execution_count": 3,
     "metadata": {},
     "output_type": "execute_result"
    }
   ],
   "source": [
    "output_train_data"
   ]
  },
  {
   "cell_type": "code",
   "execution_count": 4,
   "metadata": {},
   "outputs": [
    {
     "data": {
      "text/plain": [
       "1390"
      ]
     },
     "execution_count": 4,
     "metadata": {},
     "output_type": "execute_result"
    }
   ],
   "source": [
    "np.size(train_data,axis=0)"
   ]
  },
  {
   "cell_type": "code",
   "execution_count": 5,
   "metadata": {},
   "outputs": [
    {
     "data": {
      "text/plain": [
       "[0, 3, 4, 6, 9, 12, 16, 20, 27, 28]"
      ]
     },
     "execution_count": 5,
     "metadata": {},
     "output_type": "execute_result"
    }
   ],
   "source": [
    "a = [] #index fitur yang gak kepake\n",
    "for i in range(len(post)):\n",
    "    if post[i,0] == 0:\n",
    "        a.append(i)\n",
    "a"
   ]
  },
  {
   "cell_type": "code",
   "execution_count": 6,
   "metadata": {},
   "outputs": [
    {
     "name": "stdout",
     "output_type": "stream",
     "text": [
      "Number of training samples is 1390\n",
      "19\n",
      "[0.1880663  0.80561347 0.21574129 0.17391968 0.28606383 0.19392608\n",
      " 0.75829173 0.27244226 0.89808411 0.764981   0.59393149 0.61649561\n",
      " 0.59072767 0.24770907 0.34098131 0.42035761 0.29014588 0.1609526\n",
      " 0.71176292]\n"
     ]
    }
   ],
   "source": [
    "train_data = np.delete(train_data, a ,axis=1) #data fitur yang udah terseleksi\n",
    "print(\"Number of training samples is\", len(train_data))\n",
    "print(np.size(train_data,axis=1))\n",
    "print(train_data[0])"
   ]
  },
  {
   "cell_type": "code",
   "execution_count": 7,
   "metadata": {},
   "outputs": [],
   "source": [
    "#data validasi\n",
    "validasi_data = pd.read_csv('rev3_data_baru_norm_testing.csv', sep=',',header=None)\n",
    "validasi_data = validasi_data.values\n",
    "output_validasi_data = validasi_data[:,total_features+1] #output aja untuk output 1\n",
    "output_validasi_data = np.int_(output_validasi_data)\n",
    "validasi_data = validasi_data[:,0:total_features] #fitur aja tanpa output dan fiturnya lengkap\n",
    "validasi_data = np.delete(validasi_data, a ,axis=1) #data fitur yang udah terseleksi\n",
    "\n",
    "#save_data1(test_data)"
   ]
  },
  {
   "cell_type": "code",
   "execution_count": 8,
   "metadata": {},
   "outputs": [
    {
     "data": {
      "text/plain": [
       "(347, 19)"
      ]
     },
     "execution_count": 8,
     "metadata": {},
     "output_type": "execute_result"
    }
   ],
   "source": [
    "validasi_data.shape"
   ]
  },
  {
   "cell_type": "code",
   "execution_count": 9,
   "metadata": {},
   "outputs": [
    {
     "data": {
      "text/plain": [
       "19"
      ]
     },
     "execution_count": 9,
     "metadata": {},
     "output_type": "execute_result"
    }
   ],
   "source": [
    "n_inputs = np.size(train_data,1)\n",
    "n_hidden = 20\n",
    "n_classes = 3\n",
    "n_inputs"
   ]
  },
  {
   "cell_type": "code",
   "execution_count": 10,
   "metadata": {},
   "outputs": [],
   "source": [
    "def forward_prop(params):\n",
    "\n",
    "    # Neural network architecture\n",
    "    global n_inputs\n",
    "    global n_hidden\n",
    "    global n_classes\n",
    "\n",
    "    w1_total = n_inputs*n_hidden\n",
    "    b1_total = w1_total+n_hidden\n",
    "    w2_total = b1_total+(n_hidden*n_classes)\n",
    "    b2_total = w2_total+n_classes\n",
    "    \n",
    "    # Roll-back the weights and biases\n",
    "    W1 = params[0:w1_total].reshape((n_inputs,n_hidden))\n",
    "    b1 = params[w1_total:b1_total].reshape((n_hidden,))\n",
    "    W2 = params[b1_total:w2_total].reshape((n_hidden,n_classes))\n",
    "    b2 = params[w2_total:b2_total].reshape((n_classes,))\n",
    "\n",
    "    # Perform forward propagation\n",
    "    z1 = train_data.dot(W1) + b1  # Pre-activation in Layer 1\n",
    "    a1 = np.tanh(z1)     # Activation in Layer 1 #belum pasti pake fungsi aktivasi apa\n",
    "    z2 = a1.dot(W2) + b2 # Pre-activation in Layer 2\n",
    "    logits = z2          # Logits for Layer 2\n",
    "\n",
    "    # Compute for the softmax of the logits\n",
    "    exp_scores = np.exp(logits)\n",
    "    probs = exp_scores / np.sum(exp_scores, axis=1, keepdims=True)\n",
    "\n",
    "    # Compute for the negative log likelihood #belum pasti loss functionnya pake apa\n",
    "    N = len(train_data) # Number of samples\n",
    "    corect_logprobs = -np.log(probs[range(N), output_train_data])\n",
    "    loss = np.sum(corect_logprobs) / N\n",
    "    return loss"
   ]
  },
  {
   "cell_type": "code",
   "execution_count": 11,
   "metadata": {},
   "outputs": [],
   "source": [
    "def f(x):\n",
    "    n_particles = x.shape[0]\n",
    "    j = [forward_prop(x[i]) for i in range(n_particles)]\n",
    "    return np.array(j)"
   ]
  },
  {
   "cell_type": "code",
   "execution_count": 12,
   "metadata": {
    "colab": {},
    "colab_type": "code",
    "id": "bHN5yiyGT-Cs"
   },
   "outputs": [
    {
     "name": "stderr",
     "output_type": "stream",
     "text": [
      "2021-04-06 14:30:38,131 - pyswarms.single.local_best - INFO - Optimize for 1000 iters with {'c1': 0.5, 'c2': 0.3, 'w': 0.9, 'k': 10, 'p': 2}\n",
      "pyswarms.single.local_best: 100%|████████████████████████████████████████████████████████████|1000/1000, best_cost=0.59\n",
      "2021-04-06 14:31:03,459 - pyswarms.single.local_best - INFO - Optimization finished | best cost: 0.5897276960329841, best pos: [-0.03697134  1.2020089  -1.65798833  0.21925699 -0.98224056 -0.48127622\n",
      " -0.34228517  0.84693983  1.08398018 -0.66621565  0.33668343 -0.40413133\n",
      " -0.35356356 -0.02803368 -7.38974349 -0.89125799  0.41724374  0.29693225\n",
      "  0.30428377  1.24152787  0.86292548  0.43205176  0.23463091 -0.87613341\n",
      "  0.93437873  0.70080367  0.334182    0.99757618 -0.68244922 -0.5058682\n",
      " -0.54274834 -0.89497994  0.54557666  0.50098361  0.74511243  0.41362242\n",
      "  0.79109263  1.04710556 -1.07173711  0.06576062  0.06976071 -0.35845482\n",
      " -2.23939744 -0.24097165  0.85209966  1.02448344 -0.70442359 -0.34541058\n",
      "  0.09946755  0.41069584  0.59903257 -0.3055875  -0.95568229  1.10427923\n",
      " -1.01905639  0.96115636 -0.96234401 -0.63652206  1.30872247  0.30939591\n",
      "  0.46162377 -0.97552344  1.22434386  0.57614715 -1.01607413  0.03027521\n",
      "  0.13269127  1.17418356  1.38245505  0.36474258 -0.05321857 -1.28386348\n",
      "  0.85386917  0.55763255  0.28670465  1.22708376 -0.73974731 -0.04004034\n",
      "  0.52083838  0.24494679  0.68036473  0.05433157 -0.33551477  2.21249432\n",
      " -1.78229978 -0.6965151  -0.43921223 -0.15001867  0.31449635 -1.05188022\n",
      "  0.31261498 -0.24464866  1.14707836 -0.59568955  0.47330242  1.11840045\n",
      "  0.68356436  0.09676011 -0.61608126  0.77782452  0.35795538  0.58109597\n",
      "  0.49032047  1.52094139  0.96635168 -0.25288648 -1.13829028 -0.66363066\n",
      "  0.36847514 -0.26984498  1.02111453 -0.82837973 -0.93880394  0.58619657\n",
      "  0.01201491 -0.68083678 -1.13102689 -0.45867569  0.27074348 -0.53070117\n",
      " -0.69262123 -0.16186635  0.26883044  0.56958303  0.57392367  0.34688652\n",
      "  0.09789063  1.14455982 -0.53323422 -0.37005527  0.90798263  0.18744928\n",
      " -0.86297341 -0.36182179  1.20593555 -0.16016895  1.08559882  1.38465138\n",
      " -0.42530275  0.7083337   0.70026571  0.66305196 -1.1989522  -0.57836235\n",
      " -0.93000946 -0.05014108  0.888937    0.28582596  0.11681739  0.6787628\n",
      " -0.39770378  1.383485   -0.54016964  0.49899098  0.47567338 -1.27068468\n",
      "  0.79912752  0.13120087  0.50394768 -0.05556744  1.12063493  0.68983516\n",
      "  0.16983484  0.6965142   0.50802646  0.59341662 -0.79780768  1.69762501\n",
      "  0.79918663 -0.09325431  0.82601363  0.87771617  0.87106013  0.10727582\n",
      " -0.09234948  0.25525629  0.37712115  0.39159257  0.48479908  1.23411189\n",
      " -1.07622404  2.6977072   0.09960701  0.35387801 -1.0283028   0.06532555\n",
      "  0.04689695  1.26169768  0.2011737  -2.38017249  0.89871163 -0.70708343\n",
      " -0.31118958  0.65232443  0.30240404 -0.02044953 -1.2491352  -0.50028296\n",
      " -0.55854116  0.20213694  0.01378373  0.89913475  0.15800608  0.37900751\n",
      "  0.56636001 -0.282085    1.44046268  0.5130359   1.09540204  0.22316926\n",
      "  0.24380121 -0.27811951 -0.30268766  0.13068174 -0.94443454  0.50692306\n",
      "  0.78113382 -0.55910094 -2.04754192  1.00800064 -0.02417477  0.58950115\n",
      " -1.05071627  2.25893582 -0.16516992  0.32778779 -0.8429501  -0.87491253\n",
      " -1.01540362  0.09847352 -0.12777641 -0.13065485 -1.63512028 -0.1058779\n",
      " -0.57143418 -0.91975242 -1.00056254  0.78176084  0.50627642 -0.5865945\n",
      " -0.4096901   0.54534779  0.49460179 -0.51209175 -1.16205756  0.58428785\n",
      "  0.30189758  0.16497453  1.08769679 -0.10565639  1.13786449  0.38117448\n",
      " -0.91527192  1.26342108 -1.3600275   1.16259232  0.37471556  0.0329514\n",
      "  0.54599936 -2.12454447  0.96856605  1.2784571   1.20985734  0.37095304\n",
      " -0.38337351  0.26028041  0.95811818 -0.54481195  0.82124822  1.56453423\n",
      "  1.07031456  0.21435772  0.52849408  1.60006493  0.05304633 -0.32151372\n",
      "  0.25427534  0.05921518  0.21403272 -0.7167846   0.47083156 -0.74773036\n",
      " -0.06486285  0.02952013  0.3832141   1.90571161 -1.12486617 -0.77087801\n",
      "  0.31184499  0.84424467 -0.40682831  1.59046631  0.44503014  0.04907841\n",
      " -0.06044184  0.72299534  1.36799919 -0.83899846  2.04731225 -0.17732178\n",
      "  0.32359896  0.57481799  1.07434524 -1.1742504   0.99491634  0.09678843\n",
      "  0.21453035 -0.16315141 -0.32687263 -2.04924809  0.74882405  0.62587591\n",
      "  0.59440793  0.8226075   0.52580802  0.58068456  0.67836744 -0.69093422\n",
      "  1.43630655  0.8664835   0.93330312 -0.54710868 -0.36926789 -0.30037005\n",
      " -0.52904491 -0.11101199 -0.20110373 -0.24982897 -0.66918812  0.81656955\n",
      " -1.62095347 -0.65960075 -0.54963523 -0.71928449 -0.04189332  0.04164284\n",
      "  0.9229002   0.19679923  1.51004446 -2.00977727  0.49979125  0.24646818\n",
      "  0.97277957  0.1091152   1.12650007  1.11830662  0.33041396  0.1445637\n",
      " -0.15555157 -0.21772403  2.47820485 -0.10255232 -0.5852169  -0.54236063\n",
      "  0.12993659 -0.71937417 -0.7212523   0.02071076 -1.60133499  0.42939216\n",
      " -0.5479495   0.39506519 -0.45165859  1.14364894  1.13932836 -1.14929566\n",
      "  0.62124224 -0.18145649  0.41831831 -0.07888461  0.95594972 -0.84178488\n",
      "  0.01002196  0.67793503  0.70748985  0.38907254  0.14807156 -1.08421419\n",
      " -2.02302126 -0.16314778  0.79012801  0.21582649  0.29910314  0.15728864\n",
      "  1.17689189 -0.37036137 -0.59592798 -0.67526195  2.19650243 -0.2026586\n",
      "  0.58928815  0.74681004 -0.67366478  1.59950382  0.0076982   0.86081164\n",
      "  1.16748331  0.68476492  1.36280687  1.54978529  0.53673999 -0.89997752\n",
      " -0.80222436 -1.24222806  0.58417884 -1.16344644 -0.21978714 -1.04641764\n",
      " -0.3812427  -0.52487038 -0.11106264  0.02367527  0.16956119  0.50276708\n",
      "  0.83112428  0.13341707 -0.96908971  0.69283832  0.02425943  0.4082218\n",
      "  0.71383449 -0.18908165 -0.60515616  0.8989899   0.51026745  0.5590888\n",
      " -1.45918045  0.93310914  0.40589973  0.86372252 -0.55815331 -2.22414836\n",
      " -0.18474981  0.98805835  0.9840745   1.75559731 -0.69736811  1.73851377\n",
      " -0.60670176 -1.12134703  0.76019597 -0.42903371  2.19190875  0.68164494\n",
      " -0.60476165 -0.16154303 -0.28048918  0.86585562 -0.51095739 -0.99519702\n",
      " -0.13650003  0.92214174 -1.17344223 -0.39940613 -0.47655719 -0.20452144\n",
      " -0.90238261  0.50484999 -0.2143592  -0.83800201 -0.5492081   1.92955671\n",
      " -0.02812127]\n"
     ]
    }
   ],
   "source": [
    "options = {'c1': 0.5, 'c2': 0.3, 'w': 0.9, 'k': 10, 'p': 2}\n",
    "\n",
    "# Call instance of PSO\n",
    "dimensions = (n_inputs * n_hidden) + (n_hidden * n_classes) + n_hidden + n_classes\n",
    "optimizer = ps.single.LocalBestPSO(n_particles=20, dimensions=dimensions, options=options)\n",
    "\n",
    "# Perform optimization\n",
    "cost, pos = optimizer.optimize(f, iters=1000) #fungsi verbose dan print step error\n"
   ]
  },
  {
   "cell_type": "code",
   "execution_count": 13,
   "metadata": {},
   "outputs": [
    {
     "data": {
      "image/png": "[encoded data removed]",
      "text/plain": [
       "<Figure size 720x576 with 1 Axes>"
      ]
     },
     "metadata": {
      "needs_background": "light"
     },
     "output_type": "display_data"
    }
   ],
   "source": [
    "from pyswarms.utils.plotters import plot_cost_history\n",
    "plot_cost_history(cost_history=optimizer.cost_history)\n",
    "plt.show()"
   ]
  },
  {
   "cell_type": "code",
   "execution_count": 14,
   "metadata": {},
   "outputs": [
    {
     "data": {
      "text/plain": [
       "(1390, 19)"
      ]
     },
     "execution_count": 14,
     "metadata": {},
     "output_type": "execute_result"
    }
   ],
   "source": [
    "train_data.shape"
   ]
  },
  {
   "cell_type": "code",
   "execution_count": 15,
   "metadata": {},
   "outputs": [],
   "source": [
    "np.savetxt('hyperparameter.csv', pos, delimiter=\",\")"
   ]
  },
  {
   "cell_type": "code",
   "execution_count": 16,
   "metadata": {},
   "outputs": [],
   "source": [
    "#kurang test file\n",
    "def predict(a, pos): #a = data training atau data test\n",
    "\n",
    "    # Neural network architecture\n",
    "    global n_inputs\n",
    "    global n_hidden\n",
    "    global n_classes\n",
    "\n",
    "    w1_total = n_inputs*n_hidden\n",
    "    b1_total = w1_total+n_hidden\n",
    "    w2_total = b1_total+(n_hidden*n_classes)\n",
    "    b2_total = w2_total+n_classes\n",
    "    \n",
    "    # Roll-back the weights and biases\n",
    "    W1 = pos[0:w1_total].reshape((n_inputs,n_hidden))\n",
    "    b1 = pos[w1_total:b1_total].reshape((n_hidden,))\n",
    "    W2 = pos[b1_total:w2_total].reshape((n_hidden,n_classes))\n",
    "    b2 = pos[w2_total:b2_total].reshape((n_classes,))\n",
    "    save_params2(W1,b1,W2,b2)\n",
    "    # Perform forward propagation\n",
    "    z1 = a.dot(W1) + b1  # Pre-activation in Layer 1\n",
    "    a1 = np.tanh(z1)     # fungsi aktivasi belum fix\n",
    "    z2 = a1.dot(W2) + b2 # Pre-activation in Layer 2\n",
    "    logits = z2          # Logits for Layer 2\n",
    "\n",
    "    y_pred = np.argmax(logits, axis=1)\n",
    "    return y_pred"
   ]
  },
  {
   "cell_type": "code",
   "execution_count": 17,
   "metadata": {
    "colab": {},
    "colab_type": "code",
    "id": "qlng-LCVT-Di",
    "scrolled": true
   },
   "outputs": [
    {
     "data": {
      "text/plain": [
       "array([1, 1, 2, 2, 1, 2, 0, 0, 2, 2, 2, 0, 2, 1, 2, 2, 2, 2, 0, 0, 2, 0,\n",
       "       1, 1, 1, 2, 2, 0, 0, 0, 0, 2, 0, 1, 2, 2, 2, 2, 2, 2, 1, 2, 1, 0,\n",
       "       1, 0, 2, 2, 2, 2, 1, 1, 0, 2, 0, 1, 1, 1, 0, 0, 0, 2, 2, 1, 2, 2,\n",
       "       2, 0, 2, 0, 2, 2, 1, 0, 2, 0, 1, 2, 2, 2, 1, 2, 2, 0, 1, 2, 1, 2,\n",
       "       2, 2, 0, 2, 0, 0, 1, 0, 2, 2, 2, 2, 0, 0, 0, 0, 0, 2, 2, 0, 2, 2,\n",
       "       1, 2, 1, 2, 2, 1, 2, 1, 1, 1, 1, 1, 2, 0, 2, 2, 1, 0, 0, 2, 2, 2,\n",
       "       2, 2, 2, 2, 0, 2, 1, 2, 1, 0, 1, 0, 0, 1, 0, 2, 0, 2, 0, 2, 2, 0,\n",
       "       2, 0, 2, 2, 0, 2, 1, 1, 2, 1, 1, 2, 2, 1, 1, 2, 1, 0, 0, 2, 2, 2,\n",
       "       1, 1, 2, 2, 2, 1, 0, 0, 0, 2, 2, 1, 1, 2, 1, 1, 1, 0, 1, 1, 2, 0,\n",
       "       0, 1, 2, 1, 0, 1, 2, 2, 0, 2, 2, 1, 2, 0, 2, 1, 0, 1, 1, 2, 1, 2,\n",
       "       2, 2, 0, 2, 1, 2, 0, 2, 2, 2, 1, 0, 2, 0, 0, 2, 2, 1, 0, 0, 2, 0,\n",
       "       2, 2, 2, 2, 2, 0, 2, 2, 2, 1, 1, 2, 1, 0, 0, 1, 2, 2, 1, 1, 2, 2,\n",
       "       2, 2, 2, 1, 2, 0, 2, 2, 0, 2, 2, 0, 0, 2, 1, 2, 1, 1, 2, 0, 0, 2,\n",
       "       0, 0, 0, 2, 0, 0, 1, 2, 0, 2, 1, 2, 2, 2, 2, 1, 0, 2, 0, 1, 0, 2,\n",
       "       1, 2, 2, 1, 2, 2, 0, 1, 1, 2, 2, 1, 0, 2, 0, 2, 1, 0, 2, 1, 2, 0,\n",
       "       2, 2, 2, 2, 2, 1, 2, 2, 2, 2, 1, 0, 0, 1, 2, 2, 2], dtype=int64)"
      ]
     },
     "execution_count": 17,
     "metadata": {},
     "output_type": "execute_result"
    }
   ],
   "source": [
    "predict(validasi_data,pos)"
   ]
  },
  {
   "cell_type": "code",
   "execution_count": 18,
   "metadata": {},
   "outputs": [
    {
     "name": "stdout",
     "output_type": "stream",
     "text": [
      "[[461  56  74]\n",
      " [ 74 196  53]\n",
      " [ 51  20 405]]\n",
      "[[ 83  27  35]\n",
      " [  3  54  14]\n",
      " [  5   7 119]]\n"
     ]
    }
   ],
   "source": [
    "cm_train = confusion_matrix(output_train_data, predict(train_data, pos))\n",
    "cm_validasi = confusion_matrix(output_validasi_data, predict(validasi_data, pos))\n",
    "print(cm_train)\n",
    "print(cm_validasi)"
   ]
  },
  {
   "cell_type": "code",
   "execution_count": 19,
   "metadata": {},
   "outputs": [
    {
     "name": "stdout",
     "output_type": "stream",
     "text": [
      "Normalized confusion matrix\n",
      "[[0.78 0.09 0.13]\n",
      " [0.23 0.61 0.16]\n",
      " [0.11 0.04 0.85]]\n",
      "Normalized confusion matrix\n",
      "[[0.57 0.19 0.24]\n",
      " [0.04 0.76 0.2 ]\n",
      " [0.04 0.05 0.91]]\n"
     ]
    },
    {
     "data": {
      "image/png": "[encoded data removed]",
      "text/plain": [
       "<Figure size 432x288 with 2 Axes>"
      ]
     },
     "metadata": {
      "needs_background": "light"
     },
     "output_type": "display_data"
    },
    {
     "data": {
      "image/png": "[encoded data removed]",
      "text/plain": [
       "<Figure size 432x288 with 2 Axes>"
      ]
     },
     "metadata": {
      "needs_background": "light"
     },
     "output_type": "display_data"
    }
   ],
   "source": [
    "class_names = np.array(['non-lymphoblast',\"lymphoblast\",\"non-lymphoid\"])\n",
    "np.set_printoptions(precision=2)\n",
    "cm_t = plot_confusion_matrix(output_train_data, predict(train_data, pos), classes=class_names, normalize=True,\n",
    "                      title='Normalized confusion matrix')\n",
    "cm_v = plot_confusion_matrix(output_validasi_data, predict(validasi_data, pos), classes=class_names, normalize=True,\n",
    "                      title='Normalized confusion matrix')\n",
    "plt.show()"
   ]
  },
  {
   "cell_type": "code",
   "execution_count": 20,
   "metadata": {},
   "outputs": [],
   "source": [
    "cm_t.figure.savefig('rev3_train2.png')\n",
    "cm_v.figure.savefig('rev3_validasi2.png')"
   ]
  },
  {
   "cell_type": "code",
   "execution_count": 21,
   "metadata": {},
   "outputs": [
    {
     "data": {
      "text/plain": [
       "array([2, 1, 0, ..., 2, 1, 2], dtype=int64)"
      ]
     },
     "execution_count": 21,
     "metadata": {},
     "output_type": "execute_result"
    }
   ],
   "source": [
    "predict(train_data, pos)"
   ]
  },
  {
   "cell_type": "code",
   "execution_count": 22,
   "metadata": {},
   "outputs": [
    {
     "data": {
      "text/plain": [
       "array([1, 1, 2, 2, 1, 2, 0, 0, 2, 2, 2, 0, 2, 1, 2, 2, 2, 2, 0, 0, 2, 0,\n",
       "       1, 1, 1, 2, 2, 0, 0, 0, 0, 2, 0, 1, 2, 2, 2, 2, 2, 2, 1, 2, 1, 0,\n",
       "       1, 0, 2, 2, 2, 2, 1, 1, 0, 2, 0, 1, 1, 1, 0, 0, 0, 2, 2, 1, 2, 2,\n",
       "       2, 0, 2, 0, 2, 2, 1, 0, 2, 0, 1, 2, 2, 2, 1, 2, 2, 0, 1, 2, 1, 2,\n",
       "       2, 2, 0, 2, 0, 0, 1, 0, 2, 2, 2, 2, 0, 0, 0, 0, 0, 2, 2, 0, 2, 2,\n",
       "       1, 2, 1, 2, 2, 1, 2, 1, 1, 1, 1, 1, 2, 0, 2, 2, 1, 0, 0, 2, 2, 2,\n",
       "       2, 2, 2, 2, 0, 2, 1, 2, 1, 0, 1, 0, 0, 1, 0, 2, 0, 2, 0, 2, 2, 0,\n",
       "       2, 0, 2, 2, 0, 2, 1, 1, 2, 1, 1, 2, 2, 1, 1, 2, 1, 0, 0, 2, 2, 2,\n",
       "       1, 1, 2, 2, 2, 1, 0, 0, 0, 2, 2, 1, 1, 2, 1, 1, 1, 0, 1, 1, 2, 0,\n",
       "       0, 1, 2, 1, 0, 1, 2, 2, 0, 2, 2, 1, 2, 0, 2, 1, 0, 1, 1, 2, 1, 2,\n",
       "       2, 2, 0, 2, 1, 2, 0, 2, 2, 2, 1, 0, 2, 0, 0, 2, 2, 1, 0, 0, 2, 0,\n",
       "       2, 2, 2, 2, 2, 0, 2, 2, 2, 1, 1, 2, 1, 0, 0, 1, 2, 2, 1, 1, 2, 2,\n",
       "       2, 2, 2, 1, 2, 0, 2, 2, 0, 2, 2, 0, 0, 2, 1, 2, 1, 1, 2, 0, 0, 2,\n",
       "       0, 0, 0, 2, 0, 0, 1, 2, 0, 2, 1, 2, 2, 2, 2, 1, 0, 2, 0, 1, 0, 2,\n",
       "       1, 2, 2, 1, 2, 2, 0, 1, 1, 2, 2, 1, 0, 2, 0, 2, 1, 0, 2, 1, 2, 0,\n",
       "       2, 2, 2, 2, 2, 1, 2, 2, 2, 2, 1, 0, 0, 1, 2, 2, 2], dtype=int64)"
      ]
     },
     "execution_count": 22,
     "metadata": {},
     "output_type": "execute_result"
    }
   ],
   "source": [
    "predict(validasi_data, pos)"
   ]
  },
  {
   "cell_type": "code",
   "execution_count": 23,
   "metadata": {},
   "outputs": [
    {
     "name": "stdout",
     "output_type": "stream",
     "text": [
      "Presisi data training limfoblas :  0.7205882352941176\n",
      "Recall data training limfoblas (sensitivitas) :  0.6068111455108359\n",
      "Presisi rerata data training :  0.7561852835260204\n",
      "Presisi rerata data training :  0.7458951075309455\n",
      "Akurasi data training :  0.7640287769784173\n",
      "F1 Score data training :  0.7510049485062064\n"
     ]
    }
   ],
   "source": [
    "print(\"Presisi data training limfoblas : \", precision(1,cm_train))\n",
    "print(\"Recall data training limfoblas (sensitivitas) : \", recall(1,cm_train))\n",
    "print(\"Presisi rerata data training : \", precision_macro_average(cm_train))\n",
    "print(\"Presisi rerata data training : \", recall_macro_average(cm_train))\n",
    "print(\"Akurasi data training : \", accuracy(cm_train))\n",
    "print(\"F1 Score data training : \", f1_score(precision_macro_average(cm_train),recall_macro_average(cm_train)))"
   ]
  },
  {
   "cell_type": "code",
   "execution_count": 24,
   "metadata": {},
   "outputs": [
    {
     "name": "stdout",
     "output_type": "stream",
     "text": [
      "Presisi data validasi limfoblas :  0.6136363636363636\n",
      "Recall data validasi limfoblas :  0.7605633802816901\n",
      "Presisi rerata data validasi :  0.7446858696858697\n",
      "Presisi rerata data validasi :  0.7471247066500079\n",
      "Akurasi data validasi :  0.7377521613832853\n",
      "F1 Score data validasi :  0.7459032946421413\n"
     ]
    }
   ],
   "source": [
    "print(\"Presisi data validasi limfoblas : \", precision(1,cm_validasi))\n",
    "print(\"Recall data validasi limfoblas : \", recall(1,cm_validasi))\n",
    "print(\"Presisi rerata data validasi : \", precision_macro_average(cm_validasi))\n",
    "print(\"Presisi rerata data validasi : \", recall_macro_average(cm_validasi))\n",
    "print(\"Akurasi data validasi : \", accuracy(cm_validasi))\n",
    "print(\"F1 Score data validasi : \", f1_score(precision_macro_average(cm_validasi),recall_macro_average(cm_validasi)))"
   ]
  },
  {
   "cell_type": "code",
   "execution_count": 25,
   "metadata": {},
   "outputs": [
    {
     "data": {
      "text/plain": [
       "[-0.03697133507811547,\n",
       " 1.2020088977938153,\n",
       " -1.657988332737816,\n",
       " 0.2192569926300145,\n",
       " -0.9822405598613898,\n",
       " -0.48127621985497016,\n",
       " -0.34228517315358326,\n",
       " 0.8469398287932823,\n",
       " 1.0839801788158858,\n",
       " -0.6662156485666921,\n",
       " 0.3366834330373064,\n",
       " -0.4041313299446863,\n",
       " -0.353563557610039,\n",
       " -0.028033677517234748,\n",
       " -7.389743486811375,\n",
       " -0.8912579909168272,\n",
       " 0.41724373750208604,\n",
       " 0.2969322479981509,\n",
       " 0.3042837650069058,\n",
       " 1.2415278726889463,\n",
       " 0.8629254759732944,\n",
       " 0.4320517602465672,\n",
       " 0.23463090806438378,\n",
       " -0.8761334116553264,\n",
       " 0.9343787278521991,\n",
       " 0.7008036741526603,\n",
       " 0.33418199934520043,\n",
       " 0.9975761801430987,\n",
       " -0.6824492185202097,\n",
       " -0.5058682018424336,\n",
       " -0.5427483449042916,\n",
       " -0.8949799382436007,\n",
       " 0.5455766579435911,\n",
       " 0.5009836092255935,\n",
       " 0.7451124323565933,\n",
       " 0.4136224154395022,\n",
       " 0.7910926324815154,\n",
       " 1.0471055551691928,\n",
       " -1.0717371098398503,\n",
       " 0.06576061953541962,\n",
       " 0.0697607059183728,\n",
       " -0.35845482395167844,\n",
       " -2.2393974368307568,\n",
       " -0.24097164881660948,\n",
       " 0.8520996593929377,\n",
       " 1.0244834357058406,\n",
       " -0.7044235931788895,\n",
       " -0.34541057625296406,\n",
       " 0.0994675542114316,\n",
       " 0.4106958387909748,\n",
       " 0.5990325655397506,\n",
       " -0.3055875022668603,\n",
       " -0.9556822889330366,\n",
       " 1.1042792283795408,\n",
       " -1.0190563920294526,\n",
       " 0.9611563615343814,\n",
       " -0.9623440096599779,\n",
       " -0.6365220619751369,\n",
       " 1.308722465373032,\n",
       " 0.3093959148761142,\n",
       " 0.46162377007116573,\n",
       " -0.9755234389028353,\n",
       " 1.2243438583995387,\n",
       " 0.5761471534488877,\n",
       " -1.016074125985613,\n",
       " 0.0302752053821643,\n",
       " 0.13269126535348097,\n",
       " 1.174183561546688,\n",
       " 1.3824550533115474,\n",
       " 0.36474257565349616,\n",
       " -0.05321856882489296,\n",
       " -1.283863483876009,\n",
       " 0.8538691676074901,\n",
       " 0.5576325541653252,\n",
       " 0.2867046465363991,\n",
       " 1.2270837552589602,\n",
       " -0.7397473142342532,\n",
       " -0.04004034391128352,\n",
       " 0.5208383817446441,\n",
       " 0.24494679202323835,\n",
       " 0.6803647332632656,\n",
       " 0.054331570534890745,\n",
       " -0.3355147654805643,\n",
       " 2.2124943186020833,\n",
       " -1.782299778846713,\n",
       " -0.6965151025459078,\n",
       " -0.4392122345418849,\n",
       " -0.15001866703424685,\n",
       " 0.31449634677595306,\n",
       " -1.051880218751183,\n",
       " 0.3126149764986117,\n",
       " -0.24464865994564483,\n",
       " 1.1470783554460007,\n",
       " -0.5956895528032967,\n",
       " 0.47330241863903844,\n",
       " 1.1184004543671784,\n",
       " 0.683564355688287,\n",
       " 0.0967601144411952,\n",
       " -0.6160812627986285,\n",
       " 0.777824523415614,\n",
       " 0.35795538380259595,\n",
       " 0.5810959708903704,\n",
       " 0.4903204739783368,\n",
       " 1.5209413852488984,\n",
       " 0.9663516771635924,\n",
       " -0.25288647826027216,\n",
       " -1.1382902848107737,\n",
       " -0.6636306644221546,\n",
       " 0.3684751401832787,\n",
       " -0.2698449787223313,\n",
       " 1.0211145341734533,\n",
       " -0.8283797284223364,\n",
       " -0.9388039431204724,\n",
       " 0.5861965662669774,\n",
       " 0.012014912827597465,\n",
       " -0.6808367792319464,\n",
       " -1.1310268856607841,\n",
       " -0.4586756879187144,\n",
       " 0.2707434836286883,\n",
       " -0.5307011693696524,\n",
       " -0.6926212310064693,\n",
       " -0.16186635418342346,\n",
       " 0.26883043889686187,\n",
       " 0.5695830288857933,\n",
       " 0.5739236696836683,\n",
       " 0.34688651960248734,\n",
       " 0.0978906284873142,\n",
       " 1.144559819119452,\n",
       " -0.5332342172525596,\n",
       " -0.3700552703510163,\n",
       " 0.9079826347667892,\n",
       " 0.18744928462684726,\n",
       " -0.8629734129205013,\n",
       " -0.3618217940601938,\n",
       " 1.2059355515040024,\n",
       " -0.16016895237396586,\n",
       " 1.0855988188560828,\n",
       " 1.3846513760430095,\n",
       " -0.42530274821348507,\n",
       " 0.7083337030809262,\n",
       " 0.7002657129646173,\n",
       " 0.6630519590668275,\n",
       " -1.1989521982826887,\n",
       " -0.5783623534113338,\n",
       " -0.9300094632228952,\n",
       " -0.050141080133385474,\n",
       " 0.8889370009894122,\n",
       " 0.2858259622898746,\n",
       " 0.11681738571825281,\n",
       " 0.6787628048866096,\n",
       " -0.397703781442404,\n",
       " 1.3834850001098304,\n",
       " -0.540169644816911,\n",
       " 0.4989909779669953,\n",
       " 0.47567337585172603,\n",
       " -1.2706846838653343,\n",
       " 0.799127519038824,\n",
       " 0.1312008687380635,\n",
       " 0.5039476763284559,\n",
       " -0.05556744482168527,\n",
       " 1.1206349345146833,\n",
       " 0.6898351572013163,\n",
       " 0.16983484408556668,\n",
       " 0.6965142001268328,\n",
       " 0.5080264619615315,\n",
       " 0.5934166225973827,\n",
       " -0.7978076811332969,\n",
       " 1.6976250087202618,\n",
       " 0.7991866283052103,\n",
       " -0.09325430850606163,\n",
       " 0.8260136341436474,\n",
       " 0.8777161745666773,\n",
       " 0.8710601293958585,\n",
       " 0.10727581753868438,\n",
       " -0.09234948137419977,\n",
       " 0.25525629146560047,\n",
       " 0.3771211460279847,\n",
       " 0.39159257078129517,\n",
       " 0.4847990806691728,\n",
       " 1.2341118859309297,\n",
       " -1.0762240440383084,\n",
       " 2.6977072022476714,\n",
       " 0.09960701480501184,\n",
       " 0.3538780095975855,\n",
       " -1.0283027980027541,\n",
       " 0.06532554550559662,\n",
       " 0.04689695075306395,\n",
       " 1.2616976843380996,\n",
       " 0.20117369837650537,\n",
       " -2.380172490527078,\n",
       " 0.8987116274639173,\n",
       " -0.7070834292964779,\n",
       " -0.31118957530499747,\n",
       " 0.6523244332336292,\n",
       " 0.3024040360415128,\n",
       " -0.02044952518175488,\n",
       " -1.2491352019979325,\n",
       " -0.5002829617391527,\n",
       " -0.5585411617467612,\n",
       " 0.20213694129377743,\n",
       " 0.013783725298840286,\n",
       " 0.8991347458059068,\n",
       " 0.15800607873276543,\n",
       " 0.3790075126295311,\n",
       " 0.5663600088410403,\n",
       " -0.2820849953277688,\n",
       " 1.440462684245182,\n",
       " 0.5130358973740676,\n",
       " 1.095402039784065,\n",
       " 0.22316925951632913,\n",
       " 0.24380120786538795,\n",
       " -0.2781195123164414,\n",
       " -0.30268765957125493,\n",
       " 0.13068173625128257,\n",
       " -0.9444345382997007,\n",
       " 0.5069230629390395,\n",
       " 0.7811338176187416,\n",
       " -0.5591009350595681,\n",
       " -2.0475419233822656,\n",
       " 1.0080006381887072,\n",
       " -0.024174767626241486,\n",
       " 0.5895011504089142,\n",
       " -1.050716271030914,\n",
       " 2.258935821027524,\n",
       " -0.16516991839484854,\n",
       " 0.32778778727146,\n",
       " -0.8429500952581043,\n",
       " -0.8749125299550633,\n",
       " -1.0154036174456145,\n",
       " 0.0984735203995503,\n",
       " -0.1277764061056645,\n",
       " -0.1306548489076324,\n",
       " -1.6351202780215115,\n",
       " -0.10587790161309599,\n",
       " -0.5714341763218377,\n",
       " -0.9197524243870183,\n",
       " -1.00056254016891,\n",
       " 0.7817608385744215,\n",
       " 0.5062764237590544,\n",
       " -0.5865944957458648,\n",
       " -0.4096900988960533,\n",
       " 0.5453477893569555,\n",
       " 0.49460179422985706,\n",
       " -0.5120917516912197,\n",
       " -1.1620575568281324,\n",
       " 0.5842878480268479,\n",
       " 0.30189757858034877,\n",
       " 0.16497453165290699,\n",
       " 1.0876967916818165,\n",
       " -0.10565638702095734,\n",
       " 1.1378644917705363,\n",
       " 0.3811744771636036,\n",
       " -0.9152719180569104,\n",
       " 1.2634210772562167,\n",
       " -1.3600274951095463,\n",
       " 1.1625923188638545,\n",
       " 0.37471556282446783,\n",
       " 0.032951401885743886,\n",
       " 0.5459993614591017,\n",
       " -2.124544465916786,\n",
       " 0.9685660457365064,\n",
       " 1.278457098422951,\n",
       " 1.2098573374770667,\n",
       " 0.37095304204824336,\n",
       " -0.3833735105945127,\n",
       " 0.2602804051100855,\n",
       " 0.9581181758652915,\n",
       " -0.5448119463244857,\n",
       " 0.8212482213455283,\n",
       " 1.5645342252487564,\n",
       " 1.0703145614901675,\n",
       " 0.21435771960803393,\n",
       " 0.5284940785039277,\n",
       " 1.6000649300192935,\n",
       " 0.05304632604537466,\n",
       " -0.32151371676392954,\n",
       " 0.25427534474335856,\n",
       " 0.059215176771827,\n",
       " 0.2140327151452193,\n",
       " -0.7167845955240117,\n",
       " 0.47083155989637043,\n",
       " -0.7477303637056214,\n",
       " -0.06486285353156379,\n",
       " 0.029520129181065568,\n",
       " 0.3832140975931239,\n",
       " 1.9057116114659947,\n",
       " -1.1248661663124193,\n",
       " -0.7708780097032856,\n",
       " 0.31184499169362545,\n",
       " 0.8442446674365076,\n",
       " -0.40682830613245724,\n",
       " 1.5904663055891952,\n",
       " 0.44503014065058794,\n",
       " 0.04907840512052528,\n",
       " -0.06044183729603168,\n",
       " 0.7229953442507889,\n",
       " 1.367999186595083,\n",
       " -0.8389984645541496,\n",
       " 2.047312251202887,\n",
       " -0.17732178243631783,\n",
       " 0.32359895535836225,\n",
       " 0.5748179921755172,\n",
       " 1.0743452437514476,\n",
       " -1.174250402731467,\n",
       " 0.994916341873968,\n",
       " 0.09678842606947058,\n",
       " 0.2145303455879075,\n",
       " -0.16315140560904115,\n",
       " -0.3268726295199757,\n",
       " -2.0492480904529273,\n",
       " 0.7488240488077598,\n",
       " 0.6258759109508906,\n",
       " 0.5944079307121009,\n",
       " 0.8226075000859693,\n",
       " 0.5258080223210663,\n",
       " 0.5806845572143143,\n",
       " 0.6783674402769176,\n",
       " -0.6909342192607942,\n",
       " 1.4363065514915572,\n",
       " 0.8664834985937462,\n",
       " 0.9333031248584882,\n",
       " -0.5471086841526752,\n",
       " -0.36926789406902666,\n",
       " -0.30037004561099223,\n",
       " -0.5290449126029235,\n",
       " -0.11101198795969362,\n",
       " -0.20110373153253533,\n",
       " -0.24982896688749082,\n",
       " -0.6691881242068503,\n",
       " 0.8165695507550854,\n",
       " -1.6209534668470549,\n",
       " -0.6596007504685348,\n",
       " -0.5496352267159119,\n",
       " -0.7192844903437262,\n",
       " -0.04189331873929983,\n",
       " 0.04164284460167147,\n",
       " 0.9229002046865611,\n",
       " 0.19679923447443695,\n",
       " 1.5100444581951342,\n",
       " -2.0097772714058153,\n",
       " 0.4997912547777445,\n",
       " 0.24646818343579496,\n",
       " 0.9727795656313826,\n",
       " 0.1091151991377036,\n",
       " 1.1265000693043314,\n",
       " 1.1183066229310965,\n",
       " 0.33041396488677494,\n",
       " 0.14456370314510808,\n",
       " -0.15555157166394987,\n",
       " -0.21772403199232593,\n",
       " 2.478204847894681,\n",
       " -0.10255232222847557,\n",
       " -0.5852168976132207,\n",
       " -0.5423606251816313,\n",
       " 0.129936592292012,\n",
       " -0.7193741690383958,\n",
       " -0.7212523030310005,\n",
       " 0.020710756520649413,\n",
       " -1.6013349915153583,\n",
       " 0.4293921587436976,\n",
       " -0.547949498493661,\n",
       " 0.39506518865641305,\n",
       " -0.4516585935312137,\n",
       " 1.143648940955783,\n",
       " 1.1393283620745305,\n",
       " -1.1492956574444626,\n",
       " 0.6212422446536061,\n",
       " -0.18145649120735763,\n",
       " 0.41831831192603963,\n",
       " -0.07888460767167653,\n",
       " 0.9559497185709591,\n",
       " -0.8417848825035462,\n",
       " 0.010021962241731635,\n",
       " 0.6779350274992273,\n",
       " 0.7074898522720049,\n",
       " 0.3890725361651508,\n",
       " 0.14807156028262786,\n",
       " -1.0842141940500927,\n",
       " -2.0230212644199645,\n",
       " -0.163147779176643,\n",
       " 0.7901280079999844,\n",
       " 0.21582649498682424,\n",
       " 0.29910314014148337,\n",
       " 0.1572886414054352,\n",
       " 1.1768918879271382,\n",
       " -0.37036137362769767,\n",
       " -0.5959279752390068,\n",
       " -0.6752619472748375,\n",
       " 2.1965024303744873,\n",
       " -0.2026585951222503,\n",
       " 0.5892881468480499,\n",
       " 0.7468100368058314,\n",
       " -0.6736647839202606,\n",
       " 1.5995038158317771,\n",
       " 0.007698195549475663,\n",
       " 0.8608116376591921,\n",
       " 1.1674833147496657,\n",
       " 0.6847649240982768,\n",
       " 1.3628068702683498,\n",
       " 1.5497852873694686,\n",
       " 0.5367399891036618,\n",
       " -0.8999775193415966,\n",
       " -0.8022243604521702,\n",
       " -1.2422280639245067,\n",
       " 0.5841788366627926,\n",
       " -1.16344643749131,\n",
       " -0.21978714178235062,\n",
       " -1.0464176429697583,\n",
       " -0.38124270289665024,\n",
       " -0.5248703791507414,\n",
       " -0.11106264379072961,\n",
       " 0.02367526623006707,\n",
       " 0.16956119174845163,\n",
       " 0.5027670824062992,\n",
       " 0.831124277733841,\n",
       " 0.13341706683374477,\n",
       " -0.9690897081893766,\n",
       " 0.6928383233026656,\n",
       " 0.024259426788468128,\n",
       " 0.4082217973763859,\n",
       " 0.7138344948264708,\n",
       " -0.1890816464237342,\n",
       " -0.605156156370602,\n",
       " 0.8989898954787333,\n",
       " 0.5102674497491867,\n",
       " 0.5590888033530914,\n",
       " -1.459180448866777,\n",
       " 0.9331091372577629,\n",
       " 0.40589973463690027,\n",
       " 0.8637225157132479,\n",
       " -0.558153312402445,\n",
       " -2.224148358104825,\n",
       " -0.1847498071425343,\n",
       " 0.9880583454532772,\n",
       " 0.9840745019323333,\n",
       " 1.7555973129926643,\n",
       " -0.6973681097510589,\n",
       " 1.7385137676402538,\n",
       " -0.6067017561617871,\n",
       " -1.1213470260686371,\n",
       " 0.7601959737333784,\n",
       " -0.4290337120512536,\n",
       " 2.1919087523203076,\n",
       " 0.6816449428376505,\n",
       " -0.6047616481479691,\n",
       " -0.1615430282767053,\n",
       " -0.2804891773398339,\n",
       " 0.8658556217227195,\n",
       " -0.5109573881303237,\n",
       " -0.9951970181556806,\n",
       " -0.13650002676966222,\n",
       " 0.9221417409737783,\n",
       " -1.1734422326532865,\n",
       " -0.3994061340168134,\n",
       " -0.4765571903121569,\n",
       " -0.20452144065958341,\n",
       " -0.9023826053707142,\n",
       " 0.5048499933028088,\n",
       " -0.21435919560480268,\n",
       " -0.8380020086286585,\n",
       " -0.5492081048584754,\n",
       " 1.9295567142959833,\n",
       " -0.028121269577112126]"
      ]
     },
     "execution_count": 25,
     "metadata": {},
     "output_type": "execute_result"
    }
   ],
   "source": [
    "pos2 = [i for i in pos]\n",
    "pos2"
   ]
  },
  {
   "cell_type": "code",
   "execution_count": 26,
   "metadata": {},
   "outputs": [],
   "source": [
    "#save_pos_step1('neuron_step1.csv',(n_hidden,optimizer.cost_history,accuracy(cm_train),accuracy(cm_validasi)))\n",
    "save_pos_step1('perfo_step2.csv',(\"1\",accuracy(cm_train),accuracy(cm_validasi),pos2,optimizer.cost_history,post))"
   ]
  },
  {
   "cell_type": "code",
   "execution_count": null,
   "metadata": {},
   "outputs": [],
   "source": []
  }
 ],
 "metadata": {
  "colab": {
   "name": "Copy of Sync PSO.ipynb",
   "provenance": [
    {
     "file_id": "1hA06rinoF_RKyO0BLGEXuhHc7qz7KLn5",
     "timestamp": 1553359005609
    }
   ],
   "version": "0.3.2"
  },
  "kernelspec": {
   "display_name": "Python 3",
   "language": "python",
   "name": "python3"
  },
  "language_info": {
   "codemirror_mode": {
    "name": "ipython",
    "version": 3
   },
   "file_extension": ".py",
   "mimetype": "text/x-python",
   "name": "python",
   "nbconvert_exporter": "python",
   "pygments_lexer": "ipython3",
   "version": "3.6.4"
  }
 },
 "nbformat": 4,
 "nbformat_minor": 2
}
