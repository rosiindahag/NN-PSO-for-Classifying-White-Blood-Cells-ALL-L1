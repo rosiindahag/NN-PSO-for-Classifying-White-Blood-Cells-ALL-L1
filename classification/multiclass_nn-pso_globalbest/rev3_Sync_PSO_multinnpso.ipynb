{
 "cells": [
  {
   "cell_type": "code",
   "execution_count": 1,
   "metadata": {},
   "outputs": [],
   "source": [
    "%run fungsi_save.ipynb"
   ]
  },
  {
   "cell_type": "code",
   "execution_count": 2,
   "metadata": {},
   "outputs": [
    {
     "name": "stdout",
     "output_type": "stream",
     "text": [
      "29\n"
     ]
    },
    {
     "data": {
      "text/plain": [
       "array([[0.23290321, 0.1880663 , 0.80561347, ..., 0.71176292, 0.29021789,\n",
       "        0.405438  ],\n",
       "       [0.33876336, 0.21701657, 0.88720096, ..., 0.71985131, 0.84939207,\n",
       "        0.852632  ],\n",
       "       [0.14477051, 0.07823204, 0.90193096, ..., 0.73730247, 0.72618649,\n",
       "        0.593281  ],\n",
       "       ...,\n",
       "       [0.43478703, 0.29436464, 0.82699077, ..., 0.58111237, 0.78983127,\n",
       "        0.965812  ],\n",
       "       [0.43482695, 0.20640884, 0.95507519, ..., 0.58083608, 0.67863338,\n",
       "        0.633993  ],\n",
       "       [0.28595488, 0.25281768, 0.46894224, ..., 0.11345727, 0.17694923,\n",
       "        0.561331  ]])"
      ]
     },
     "execution_count": 2,
     "metadata": {},
     "output_type": "execute_result"
    }
   ],
   "source": [
    "#pilih data fitur masukan NN1\n",
    "train_data = pd.read_csv('rev3_data_baru_norm_training.csv', sep=',',header=None)\n",
    "train_data = train_data.values\n",
    "post = pd.read_csv('data_feature_multinnpso_pos.csv', sep=',',header=None)\n",
    "post = np.int_(post)\n",
    "total_features = np.size(train_data, axis=1)-3\n",
    "print(total_features)\n",
    "output_train_data = train_data[:,total_features+1] #output aja limfo\n",
    "output_train_data = np.int_(output_train_data)\n",
    "train_data = train_data[:,:total_features]\n",
    "train_data"
   ]
  },
  {
   "cell_type": "code",
   "execution_count": 3,
   "metadata": {
    "colab": {
     "base_uri": "https://localhost:8080/",
     "height": 948
    },
    "colab_type": "code",
    "executionInfo": {
     "elapsed": 1038,
     "status": "error",
     "timestamp": 1553358562335,
     "user": {
      "displayName": "Rosi Indah Agustin",
      "photoUrl": "https://lh5.googleusercontent.com/-hvtgKP15HCE/AAAAAAAAAAI/AAAAAAAABTc/cZ83hT-NMuU/s64/photo.jpg",
      "userId": "09782658992275918565"
     },
     "user_tz": -420
    },
    "id": "F263jm2DT-Br",
    "outputId": "d464a7cc-05f7-46d7-f5e2-9fe42cecedba",
    "scrolled": true
   },
   "outputs": [
    {
     "data": {
      "text/plain": [
       "array([2, 1, 0, ..., 1, 2, 2])"
      ]
     },
     "execution_count": 3,
     "metadata": {},
     "output_type": "execute_result"
    }
   ],
   "source": [
    "output_train_data"
   ]
  },
  {
   "cell_type": "code",
   "execution_count": 4,
   "metadata": {},
   "outputs": [
    {
     "data": {
      "text/plain": [
       "1390"
      ]
     },
     "execution_count": 4,
     "metadata": {},
     "output_type": "execute_result"
    }
   ],
   "source": [
    "np.size(train_data,axis=0)"
   ]
  },
  {
   "cell_type": "code",
   "execution_count": 5,
   "metadata": {},
   "outputs": [
    {
     "data": {
      "text/plain": [
       "[0, 3, 4, 6, 9, 12, 16, 20, 27, 28]"
      ]
     },
     "execution_count": 5,
     "metadata": {},
     "output_type": "execute_result"
    }
   ],
   "source": [
    "a = [] #index fitur yang gak kepake\n",
    "for i in range(len(post)):\n",
    "    if post[i,0] == 0:\n",
    "        a.append(i)\n",
    "a"
   ]
  },
  {
   "cell_type": "code",
   "execution_count": 6,
   "metadata": {},
   "outputs": [
    {
     "name": "stdout",
     "output_type": "stream",
     "text": [
      "Number of training samples is 1390\n",
      "19\n",
      "[0.1880663  0.80561347 0.21574129 0.17391968 0.28606383 0.19392608\n",
      " 0.75829173 0.27244226 0.89808411 0.764981   0.59393149 0.61649561\n",
      " 0.59072767 0.24770907 0.34098131 0.42035761 0.29014588 0.1609526\n",
      " 0.71176292]\n"
     ]
    }
   ],
   "source": [
    "train_data = np.delete(train_data, a ,axis=1) #data fitur yang udah terseleksi\n",
    "print(\"Number of training samples is\", len(train_data))\n",
    "print(np.size(train_data,axis=1))\n",
    "print(train_data[0])"
   ]
  },
  {
   "cell_type": "code",
   "execution_count": 7,
   "metadata": {},
   "outputs": [],
   "source": [
    "#data validasi\n",
    "validasi_data = pd.read_csv('rev3_data_baru_norm_testing.csv', sep=',',header=None)\n",
    "validasi_data = validasi_data.values\n",
    "output_validasi_data = validasi_data[:,total_features+1] #output aja untuk output 1\n",
    "output_validasi_data = np.int_(output_validasi_data)\n",
    "validasi_data = validasi_data[:,0:total_features] #fitur aja tanpa output dan fiturnya lengkap\n",
    "validasi_data = np.delete(validasi_data, a ,axis=1) #data fitur yang udah terseleksi\n",
    "\n",
    "#save_data1(test_data)"
   ]
  },
  {
   "cell_type": "code",
   "execution_count": 8,
   "metadata": {},
   "outputs": [
    {
     "data": {
      "text/plain": [
       "(347, 19)"
      ]
     },
     "execution_count": 8,
     "metadata": {},
     "output_type": "execute_result"
    }
   ],
   "source": [
    "validasi_data.shape"
   ]
  },
  {
   "cell_type": "code",
   "execution_count": 9,
   "metadata": {},
   "outputs": [
    {
     "data": {
      "text/plain": [
       "19"
      ]
     },
     "execution_count": 9,
     "metadata": {},
     "output_type": "execute_result"
    }
   ],
   "source": [
    "n_inputs = np.size(train_data,1)\n",
    "n_hidden = 20\n",
    "n_classes = 3\n",
    "n_inputs"
   ]
  },
  {
   "cell_type": "code",
   "execution_count": 10,
   "metadata": {},
   "outputs": [],
   "source": [
    "def forward_prop(params):\n",
    "\n",
    "    # Neural network architecture\n",
    "    global n_inputs\n",
    "    global n_hidden\n",
    "    global n_classes\n",
    "\n",
    "    w1_total = n_inputs*n_hidden\n",
    "    b1_total = w1_total+n_hidden\n",
    "    w2_total = b1_total+(n_hidden*n_classes)\n",
    "    b2_total = w2_total+n_classes\n",
    "    \n",
    "    # Roll-back the weights and biases\n",
    "    W1 = params[0:w1_total].reshape((n_inputs,n_hidden))\n",
    "    b1 = params[w1_total:b1_total].reshape((n_hidden,))\n",
    "    W2 = params[b1_total:w2_total].reshape((n_hidden,n_classes))\n",
    "    b2 = params[w2_total:b2_total].reshape((n_classes,))\n",
    "\n",
    "    # Perform forward propagation\n",
    "    z1 = train_data.dot(W1) + b1  # Pre-activation in Layer 1\n",
    "    a1 = np.tanh(z1)     # Activation in Layer 1 #belum pasti pake fungsi aktivasi apa\n",
    "    z2 = a1.dot(W2) + b2 # Pre-activation in Layer 2\n",
    "    logits = z2          # Logits for Layer 2\n",
    "\n",
    "    # Compute for the softmax of the logits\n",
    "    exp_scores = np.exp(logits)\n",
    "    probs = exp_scores / np.sum(exp_scores, axis=1, keepdims=True)\n",
    "\n",
    "    # Compute for the negative log likelihood #belum pasti loss functionnya pake apa\n",
    "    N = len(train_data) # Number of samples\n",
    "    corect_logprobs = -np.log(probs[range(N), output_train_data])\n",
    "    loss = np.sum(corect_logprobs) / N\n",
    "    return loss"
   ]
  },
  {
   "cell_type": "code",
   "execution_count": 11,
   "metadata": {},
   "outputs": [],
   "source": [
    "def f(x):\n",
    "    n_particles = x.shape[0]\n",
    "    j = [forward_prop(x[i]) for i in range(n_particles)]\n",
    "    return np.array(j)"
   ]
  },
  {
   "cell_type": "code",
   "execution_count": 12,
   "metadata": {
    "colab": {},
    "colab_type": "code",
    "id": "bHN5yiyGT-Cs"
   },
   "outputs": [
    {
     "name": "stderr",
     "output_type": "stream",
     "text": [
      "2021-03-25 15:57:47,536 - pyswarms.single.global_best - INFO - Optimize for 1000 iters with {'c1': 0.5, 'c2': 0.3, 'w': 0.9}\n",
      "pyswarms.single.global_best: 100%|██████████████████████████████████████████████████████████|1000/1000, best_cost=0.471\n",
      "2021-03-25 15:59:07,656 - pyswarms.single.global_best - INFO - Optimization finished | best cost: 0.4706724030764888, best pos: [ 4.42324629e-02 -1.32163459e+00 -4.29540693e-04  8.00230722e-01\n",
      " -5.55916560e-01 -3.07436194e-01 -8.32282044e-01 -2.84764330e-01\n",
      " -9.24727362e+00  1.12523426e+00  1.93459252e-01  8.95743605e-01\n",
      "  3.82184731e+00  5.48979413e-01  9.94240626e-01  6.07269998e-01\n",
      "  7.37901220e-01 -5.42479318e-01  8.13886970e-01  6.81268581e-01\n",
      " -2.53215470e-01  1.12156212e+00  1.05299560e+00  1.59403422e+00\n",
      "  1.77512380e+00  2.90269348e+00 -3.68870306e-01  2.67360762e+00\n",
      "  5.32826469e-01  1.08506094e+00  1.02435688e+00  2.90287124e-01\n",
      " -9.29581306e-02 -5.47478932e-01  1.45228072e+00  2.52824289e-01\n",
      "  3.75558476e-01  1.24942717e+00 -5.56798847e+00  2.99330612e-01\n",
      "  7.51925481e-01  1.33953735e-01  1.73828418e+00  5.78705420e-02\n",
      "  5.27491061e-01  3.65588677e+00  8.44896083e-01  1.24851465e+00\n",
      "  4.14555839e-01  6.28496551e-01  2.38164778e-01  5.08987430e-01\n",
      " -2.16030521e-01  1.47358190e+00  6.70680360e-01  3.47008777e+00\n",
      "  3.38269330e-01  2.13168670e+00  8.56124696e-01  2.24369413e-01\n",
      "  8.55133627e-01  6.67869346e-01  3.89734208e-01  1.01718443e+00\n",
      " -1.05340160e-01  2.99676708e-01  1.04788529e+00  2.27434815e-01\n",
      "  5.69475573e-01  5.72645684e-01  1.35542991e+00 -8.19270082e-02\n",
      "  1.20478769e+00  1.45008873e+00 -5.94104945e+00  4.07005509e-01\n",
      "  1.21139089e+00  2.46081964e+00  4.23946037e-01  8.48844268e-01\n",
      "  4.39102904e-01  2.72797076e+00 -7.49749167e-01  1.47520477e+00\n",
      "  7.89615130e-02  6.94985787e-01 -2.07085350e-01 -5.55951708e-01\n",
      "  1.29415032e+00  5.30547248e-01  3.09626129e+00  2.01361093e+00\n",
      "  1.53288458e+00  1.16808894e+00  1.46794653e+00  7.28044695e-02\n",
      " -3.98419486e-01  1.29060065e+00 -2.65147869e-01  1.22205204e+00\n",
      " -2.05670156e-01  9.58585698e-01  2.41829892e+00  5.34031512e-01\n",
      "  1.07294542e+00  1.66769726e+00  1.23043005e+00  7.38443162e-01\n",
      "  1.41544183e+00 -5.09799634e-02  2.22872458e+00  4.30151096e-01\n",
      "  5.24483112e-01  9.81342910e-01  5.59873209e-01  7.56859208e-01\n",
      "  4.07739145e-01 -1.60641463e-01  2.93297171e-01  1.09747868e+00\n",
      "  1.97919010e+00 -4.75685460e-01  2.37070499e-01  6.34948645e-01\n",
      "  4.73622350e-01  1.06494262e+00  6.29669311e-01 -9.68366739e-01\n",
      "  1.68531354e+00 -3.26108966e-01  1.79753775e+00 -2.46477891e+00\n",
      "  1.23364984e+00 -5.26855956e-01 -3.32270622e-01  7.03753456e-01\n",
      "  1.12134428e-01  1.29094498e+00  9.01047892e-01  8.16133964e-01\n",
      "  7.93996285e-01  3.37941965e-01 -1.08517287e-01  4.58227296e-01\n",
      " -2.30468600e-01  1.63619970e+00  2.26126592e+00  1.01484685e+00\n",
      "  7.25431807e-01  6.96999288e-01 -3.76622040e+00  5.01617317e-01\n",
      "  1.96838632e+00 -1.02512682e+00  4.76738253e-01  9.57315609e-01\n",
      " -4.27367903e-01  6.90781278e-01  4.11177291e-01 -2.49114337e-01\n",
      "  7.15863120e-01  6.21885392e-01  9.65891044e-01  4.44534668e-01\n",
      " -2.49922706e-01  3.23327613e-01  7.30379302e-01  1.23916511e+00\n",
      "  5.57676613e-01 -3.75849064e-01  1.44110421e+00 -3.00757754e+00\n",
      " -1.86144572e-01  2.16150294e+00 -1.44020998e-01  4.78805745e-01\n",
      "  1.33919945e+00 -1.64590819e-01  1.06976986e+00  9.01771065e-02\n",
      "  3.50962518e-03  1.15467737e+00 -8.18815319e-01  2.38605679e+00\n",
      "  1.69663205e-01  6.76558552e-01  5.34774365e-01  1.38131167e+00\n",
      " -8.58253930e-01  5.28986260e-01 -4.43277708e-01  1.05192160e+00\n",
      "  7.64301572e-01  4.61521207e-01  6.69184788e-01  4.94234596e-01\n",
      "  3.95030151e-02  1.77390687e+00  1.62315264e+00  1.34437634e+00\n",
      " -5.41468410e-01 -5.58284004e-01  2.19859188e-01  9.00219629e-01\n",
      "  5.53977151e-01  1.77168496e-01 -6.14613581e-01 -6.04417044e-02\n",
      " -2.97471151e-01  3.34482556e+00 -6.53778652e-01 -2.99563403e-01\n",
      " -9.33331495e-02  3.26754128e+00  1.47395089e+00 -1.05626454e+00\n",
      "  9.22372696e-02  4.09642045e-01  1.65779439e+00  1.89210882e+00\n",
      "  7.41250016e-01  1.59620669e-01 -5.04437055e-01  3.73998480e-01\n",
      "  1.17872933e+00  3.16272889e-01 -1.09926145e-01  6.50231138e-01\n",
      "  1.79482228e-01  4.15593729e-02  1.88745020e+00  1.21130652e+00\n",
      " -1.05386320e+00 -4.22409816e+00  3.99324824e-01  7.17088380e-01\n",
      "  3.33697133e-01  1.71889512e+00 -1.62466649e+00 -1.24640552e+00\n",
      "  1.14258885e+00  4.79280085e-01  1.39022600e+00 -9.42237785e-01\n",
      "  4.53674350e-01 -8.46850132e-01  7.02863461e-01  3.66435422e+00\n",
      " -1.38173138e-01  1.65944212e+00  3.08876712e+00 -1.11547283e+00\n",
      "  4.68016220e-01  3.01306154e-01  1.49042919e+00 -6.43453112e-02\n",
      " -5.02714977e-01  7.08043357e-01 -2.24806807e-01  6.38003169e-01\n",
      "  1.02461851e+00 -2.74517616e+00 -3.64436649e-01 -1.00509928e+00\n",
      " -6.87981058e-01 -6.12586121e-02  1.28230392e+00  2.04947588e-02\n",
      " -8.23987451e-01  1.09748481e+00 -2.87367219e-01  2.34536010e+00\n",
      "  1.03058127e+00  6.98093916e-01 -1.17667428e+00  3.68631566e-01\n",
      "  6.44769269e-01  5.93699570e-01 -1.16484397e+00  7.96364884e-01\n",
      "  8.48656786e-01  6.93408538e-01 -3.51184213e-01  8.01308426e-01\n",
      " -6.87531474e-01  2.78859948e-01  4.92149743e-01  1.72825950e-01\n",
      " -2.20589254e-01  1.34541862e-01 -1.34526895e+00 -1.96653238e-01\n",
      "  7.43750472e-01  5.03383155e-01  1.36493098e+00 -8.24136386e-02\n",
      "  5.16965435e-01 -3.22114724e-01  1.90002692e+00  8.60688216e-01\n",
      "  6.38372379e-01  5.88343863e-01  6.64901695e-01  1.76573575e-01\n",
      " -2.35228594e+00  2.60461947e-02  2.01963468e+00  6.02698985e-01\n",
      "  1.80204481e-01  2.09727166e+00  3.60370558e-01  2.97588139e-01\n",
      "  3.21234839e-01  4.45313228e-01 -9.62773381e-01 -1.72139212e+00\n",
      "  2.17488142e+00 -3.22380566e-01  9.21218994e-01  3.47765707e-01\n",
      "  1.79679280e+00  4.28408287e-01  6.29199429e-01  1.09563361e+00\n",
      " -2.05143280e-02 -1.17912599e+00  4.97605983e+00  1.03631642e+00\n",
      "  6.32082115e-01  1.38959720e+00  3.13956822e-01  2.18556902e+00\n",
      "  1.65243515e+00  2.54780675e-01  1.02385616e+00  2.84327788e-01\n",
      "  3.24746644e-01 -1.72151800e+00  9.80083353e-01  1.22904031e+00\n",
      "  9.98674296e-01  7.68862050e-01  1.71194797e+00 -1.88100500e+00\n",
      "  5.58735728e+00  8.16161065e-01 -1.45818556e-02 -8.75252220e-01\n",
      " -3.46561516e+00 -1.75497644e-01 -7.59285208e+00  1.17879825e+00\n",
      "  1.89259876e-01  1.19986415e+00 -5.05496127e+00  6.71966675e-01\n",
      "  4.52674794e-01  8.81390936e-01  1.21100120e+00 -2.23329241e-01\n",
      "  7.77900979e-01  4.20198517e-01 -7.51899834e-01  7.65594606e-01\n",
      " -4.89043388e-01  1.03378104e+00  1.14048766e+00 -7.60436905e-02\n",
      "  9.75303530e-01 -7.22160065e-02  2.68008721e+00  1.51761517e-01\n",
      "  1.28451312e+00  2.39976985e+00 -4.29876233e-01 -4.23012562e-01\n",
      "  7.97072828e-01 -1.66434030e-01  6.90184503e-01  6.34219556e-01\n",
      "  5.65780175e-01  1.08151020e+00  4.02492676e-01  6.80911695e-01\n",
      "  4.08173714e-01 -2.22619891e-01 -6.69877854e-02 -3.67892077e-02\n",
      " -1.16480392e+00  1.38060354e+00  2.02760022e-01 -4.63722701e-01\n",
      "  9.80841654e-01  2.69408408e-02  1.03154538e+00  2.22108433e-01\n",
      "  6.78051560e-01  8.32445962e-01  5.72917563e-01  1.50603899e+00\n",
      "  9.07577137e-01  1.11785780e+00  1.02341875e-01  2.23629563e-01\n",
      "  9.48285147e-01  1.19745180e+00 -5.87600405e-01  1.12670359e+00\n",
      "  2.89005979e-01  1.26739000e+00 -3.48168869e-01  2.64148331e+00\n",
      "  5.67754229e-01 -1.03230891e+00  6.79281908e-01  1.07798336e-02\n",
      "  6.52109714e-01 -2.28076929e-02 -1.41062255e+00  8.42963038e-02\n",
      "  1.34848163e+00  1.26398448e+00  1.03290796e-01 -5.63083122e+00\n",
      "  2.39654987e+00  1.00689817e+00  9.29013833e-01  8.33852170e-01\n",
      "  1.05038413e+00  5.99728273e-01  2.00257136e-01  2.37401116e-01\n",
      "  1.40840632e-01  1.21033573e+00  2.26679609e+00  4.34218353e-01\n",
      "  1.77237758e+00  7.76083928e-01  1.24489425e+00  1.22838305e+00\n",
      "  1.16110354e-01  4.89273384e-01  1.78858627e+00 -1.16196758e+00\n",
      "  6.69276068e-01  5.55060226e-01 -1.14816400e+00  1.41821776e-01\n",
      "  1.09747923e-01 -1.07508375e+00 -2.79177426e-01  5.86773133e-01\n",
      "  9.55017556e-01  1.62545739e-01  6.64369569e-02  6.96593091e-01\n",
      "  3.53837102e+00 -1.43021669e+00  1.25364860e+00  1.55007189e+00\n",
      " -7.53016383e-03  5.08067344e-01  5.75858659e-01]\n"
     ]
    }
   ],
   "source": [
    "# Initialize swarm\n",
    "options = {'c1': 0.5, 'c2': 0.3, 'w':0.9}\n",
    "\n",
    "# Call instance of PSO\n",
    "dimensions = (n_inputs * n_hidden) + (n_hidden * n_classes) + n_hidden + n_classes\n",
    "optimizer = ps.single.GlobalBestPSO(n_particles=20, dimensions=dimensions, options=options)\n",
    "\n",
    "# Perform optimization\n",
    "cost, pos = optimizer.optimize(f, iters=1000) #fungsi verbose dan print step error\n"
   ]
  },
  {
   "cell_type": "code",
   "execution_count": 13,
   "metadata": {},
   "outputs": [
    {
     "data": {
      "image/png": "[encoded data removed]",
      "text/plain": [
       "<Figure size 720x576 with 1 Axes>"
      ]
     },
     "metadata": {
      "needs_background": "light"
     },
     "output_type": "display_data"
    }
   ],
   "source": [
    "from pyswarms.utils.plotters import plot_cost_history\n",
    "plot_cost_history(cost_history=optimizer.cost_history)\n",
    "plt.show()"
   ]
  },
  {
   "cell_type": "code",
   "execution_count": 14,
   "metadata": {},
   "outputs": [
    {
     "data": {
      "text/plain": [
       "(1390, 19)"
      ]
     },
     "execution_count": 14,
     "metadata": {},
     "output_type": "execute_result"
    }
   ],
   "source": [
    "train_data.shape"
   ]
  },
  {
   "cell_type": "code",
   "execution_count": 15,
   "metadata": {},
   "outputs": [],
   "source": [
    "np.savetxt('hyperparameter.csv', pos, delimiter=\",\")"
   ]
  },
  {
   "cell_type": "code",
   "execution_count": 16,
   "metadata": {},
   "outputs": [],
   "source": [
    "#kurang test file\n",
    "def predict(a, pos): #a = data training atau data test\n",
    "\n",
    "    # Neural network architecture\n",
    "    global n_inputs\n",
    "    global n_hidden\n",
    "    global n_classes\n",
    "\n",
    "    w1_total = n_inputs*n_hidden\n",
    "    b1_total = w1_total+n_hidden\n",
    "    w2_total = b1_total+(n_hidden*n_classes)\n",
    "    b2_total = w2_total+n_classes\n",
    "    \n",
    "    # Roll-back the weights and biases\n",
    "    W1 = pos[0:w1_total].reshape((n_inputs,n_hidden))\n",
    "    b1 = pos[w1_total:b1_total].reshape((n_hidden,))\n",
    "    W2 = pos[b1_total:w2_total].reshape((n_hidden,n_classes))\n",
    "    b2 = pos[w2_total:b2_total].reshape((n_classes,))\n",
    "    save_params2(W1,b1,W2,b2)\n",
    "    # Perform forward propagation\n",
    "    z1 = a.dot(W1) + b1  # Pre-activation in Layer 1\n",
    "    a1 = np.tanh(z1)     # fungsi aktivasi belum fix\n",
    "    z2 = a1.dot(W2) + b2 # Pre-activation in Layer 2\n",
    "    logits = z2          # Logits for Layer 2\n",
    "\n",
    "    y_pred = np.argmax(logits, axis=1)\n",
    "    return y_pred"
   ]
  },
  {
   "cell_type": "code",
   "execution_count": 17,
   "metadata": {
    "colab": {},
    "colab_type": "code",
    "id": "qlng-LCVT-Di",
    "scrolled": true
   },
   "outputs": [
    {
     "data": {
      "text/plain": [
       "array([1, 1, 2, 2, 1, 2, 0, 0, 0, 2, 2, 0, 1, 1, 2, 1, 2, 2, 0, 0, 2, 0,\n",
       "       2, 1, 1, 0, 1, 0, 0, 0, 0, 2, 0, 1, 2, 1, 2, 2, 1, 2, 0, 1, 1, 0,\n",
       "       0, 0, 2, 2, 0, 2, 1, 1, 0, 2, 0, 1, 0, 1, 0, 0, 0, 2, 2, 1, 1, 1,\n",
       "       0, 0, 2, 0, 2, 2, 1, 0, 2, 0, 1, 2, 0, 2, 1, 2, 0, 0, 1, 2, 1, 2,\n",
       "       2, 2, 0, 2, 0, 0, 1, 0, 2, 2, 2, 2, 1, 0, 0, 0, 0, 1, 2, 0, 1, 0,\n",
       "       0, 2, 0, 2, 0, 1, 2, 1, 1, 1, 0, 1, 2, 0, 2, 2, 1, 1, 0, 0, 0, 2,\n",
       "       2, 2, 2, 2, 0, 2, 1, 2, 1, 0, 1, 0, 0, 1, 0, 0, 1, 2, 0, 0, 1, 0,\n",
       "       2, 0, 2, 1, 0, 2, 1, 1, 2, 1, 1, 2, 2, 1, 1, 2, 1, 0, 0, 0, 2, 0,\n",
       "       1, 1, 2, 2, 2, 1, 0, 0, 0, 2, 2, 1, 1, 2, 0, 0, 1, 0, 1, 1, 2, 0,\n",
       "       0, 1, 2, 1, 0, 1, 2, 1, 0, 2, 2, 1, 2, 0, 2, 1, 0, 0, 1, 2, 1, 2,\n",
       "       0, 2, 0, 2, 1, 2, 1, 0, 0, 2, 1, 0, 2, 0, 1, 1, 2, 1, 0, 0, 1, 0,\n",
       "       1, 0, 0, 2, 2, 0, 2, 2, 0, 1, 1, 0, 1, 0, 0, 1, 2, 2, 1, 1, 1, 2,\n",
       "       2, 2, 1, 0, 2, 0, 2, 1, 0, 0, 2, 0, 0, 2, 1, 1, 1, 0, 2, 0, 0, 0,\n",
       "       0, 0, 0, 2, 0, 0, 1, 2, 0, 2, 1, 1, 0, 2, 0, 1, 0, 2, 0, 0, 0, 1,\n",
       "       1, 2, 2, 1, 2, 0, 0, 1, 1, 1, 2, 0, 0, 2, 0, 2, 1, 0, 0, 1, 2, 2,\n",
       "       2, 0, 2, 2, 2, 1, 1, 2, 0, 0, 1, 0, 0, 1, 2, 2, 2], dtype=int64)"
      ]
     },
     "execution_count": 17,
     "metadata": {},
     "output_type": "execute_result"
    }
   ],
   "source": [
    "predict(validasi_data,pos)"
   ]
  },
  {
   "cell_type": "code",
   "execution_count": 18,
   "metadata": {},
   "outputs": [
    {
     "name": "stdout",
     "output_type": "stream",
     "text": [
      "[[494  44  53]\n",
      " [ 54 251  18]\n",
      " [ 49  32 395]]\n",
      "[[110  22  13]\n",
      " [  4  65   2]\n",
      " [ 14  16 101]]\n"
     ]
    }
   ],
   "source": [
    "cm_train = confusion_matrix(output_train_data, predict(train_data, pos))\n",
    "cm_validasi = confusion_matrix(output_validasi_data, predict(validasi_data, pos))\n",
    "print(cm_train)\n",
    "print(cm_validasi)"
   ]
  },
  {
   "cell_type": "code",
   "execution_count": 19,
   "metadata": {},
   "outputs": [
    {
     "name": "stdout",
     "output_type": "stream",
     "text": [
      "Normalized confusion matrix\n",
      "[[0.84 0.07 0.09]\n",
      " [0.17 0.78 0.06]\n",
      " [0.1  0.07 0.83]]\n",
      "Normalized confusion matrix\n",
      "[[0.76 0.15 0.09]\n",
      " [0.06 0.92 0.03]\n",
      " [0.11 0.12 0.77]]\n"
     ]
    },
    {
     "data": {
      "image/png": "[encoded data removed]",
      "text/plain": [
       "<Figure size 432x288 with 2 Axes>"
      ]
     },
     "metadata": {
      "needs_background": "light"
     },
     "output_type": "display_data"
    },
    {
     "data": {
      "image/png": "[encoded data removed]",
      "text/plain": [
       "<Figure size 432x288 with 2 Axes>"
      ]
     },
     "metadata": {
      "needs_background": "light"
     },
     "output_type": "display_data"
    }
   ],
   "source": [
    "class_names = np.array(['non-lymphoblast',\"lymphoblast\",\"non-lymphoid\"])\n",
    "np.set_printoptions(precision=2)\n",
    "cm_t = plot_confusion_matrix(output_train_data, predict(train_data, pos), classes=class_names, normalize=True,\n",
    "                      title='Normalized confusion matrix')\n",
    "cm_v = plot_confusion_matrix(output_validasi_data, predict(validasi_data, pos), classes=class_names, normalize=True,\n",
    "                      title='Normalized confusion matrix')\n",
    "plt.show()"
   ]
  },
  {
   "cell_type": "code",
   "execution_count": 20,
   "metadata": {},
   "outputs": [],
   "source": [
    "cm_t.figure.savefig('rev3_train2.png')\n",
    "cm_v.figure.savefig('rev3_validasi2.png')"
   ]
  },
  {
   "cell_type": "code",
   "execution_count": 21,
   "metadata": {},
   "outputs": [
    {
     "data": {
      "text/plain": [
       "array([2, 1, 0, ..., 1, 1, 2], dtype=int64)"
      ]
     },
     "execution_count": 21,
     "metadata": {},
     "output_type": "execute_result"
    }
   ],
   "source": [
    "predict(train_data, pos)"
   ]
  },
  {
   "cell_type": "code",
   "execution_count": 22,
   "metadata": {},
   "outputs": [
    {
     "data": {
      "text/plain": [
       "array([1, 1, 2, 2, 1, 2, 0, 0, 0, 2, 2, 0, 1, 1, 2, 1, 2, 2, 0, 0, 2, 0,\n",
       "       2, 1, 1, 0, 1, 0, 0, 0, 0, 2, 0, 1, 2, 1, 2, 2, 1, 2, 0, 1, 1, 0,\n",
       "       0, 0, 2, 2, 0, 2, 1, 1, 0, 2, 0, 1, 0, 1, 0, 0, 0, 2, 2, 1, 1, 1,\n",
       "       0, 0, 2, 0, 2, 2, 1, 0, 2, 0, 1, 2, 0, 2, 1, 2, 0, 0, 1, 2, 1, 2,\n",
       "       2, 2, 0, 2, 0, 0, 1, 0, 2, 2, 2, 2, 1, 0, 0, 0, 0, 1, 2, 0, 1, 0,\n",
       "       0, 2, 0, 2, 0, 1, 2, 1, 1, 1, 0, 1, 2, 0, 2, 2, 1, 1, 0, 0, 0, 2,\n",
       "       2, 2, 2, 2, 0, 2, 1, 2, 1, 0, 1, 0, 0, 1, 0, 0, 1, 2, 0, 0, 1, 0,\n",
       "       2, 0, 2, 1, 0, 2, 1, 1, 2, 1, 1, 2, 2, 1, 1, 2, 1, 0, 0, 0, 2, 0,\n",
       "       1, 1, 2, 2, 2, 1, 0, 0, 0, 2, 2, 1, 1, 2, 0, 0, 1, 0, 1, 1, 2, 0,\n",
       "       0, 1, 2, 1, 0, 1, 2, 1, 0, 2, 2, 1, 2, 0, 2, 1, 0, 0, 1, 2, 1, 2,\n",
       "       0, 2, 0, 2, 1, 2, 1, 0, 0, 2, 1, 0, 2, 0, 1, 1, 2, 1, 0, 0, 1, 0,\n",
       "       1, 0, 0, 2, 2, 0, 2, 2, 0, 1, 1, 0, 1, 0, 0, 1, 2, 2, 1, 1, 1, 2,\n",
       "       2, 2, 1, 0, 2, 0, 2, 1, 0, 0, 2, 0, 0, 2, 1, 1, 1, 0, 2, 0, 0, 0,\n",
       "       0, 0, 0, 2, 0, 0, 1, 2, 0, 2, 1, 1, 0, 2, 0, 1, 0, 2, 0, 0, 0, 1,\n",
       "       1, 2, 2, 1, 2, 0, 0, 1, 1, 1, 2, 0, 0, 2, 0, 2, 1, 0, 0, 1, 2, 2,\n",
       "       2, 0, 2, 2, 2, 1, 1, 2, 0, 0, 1, 0, 0, 1, 2, 2, 2], dtype=int64)"
      ]
     },
     "execution_count": 22,
     "metadata": {},
     "output_type": "execute_result"
    }
   ],
   "source": [
    "predict(validasi_data, pos)"
   ]
  },
  {
   "cell_type": "code",
   "execution_count": 23,
   "metadata": {},
   "outputs": [
    {
     "name": "stdout",
     "output_type": "stream",
     "text": [
      "Presisi data training limfoblas :  0.7675840978593272\n",
      "Recall data training limfoblas (sensitivitas) :  0.7770897832817337\n",
      "Presisi rerata data training :  0.8142314232016791\n",
      "Presisi rerata data training :  0.814264373484722\n",
      "Akurasi data training :  0.8201438848920863\n",
      "F1 Score data training :  0.8142478980098495\n"
     ]
    }
   ],
   "source": [
    "print(\"Presisi data training limfoblas : \", precision(1,cm_train))\n",
    "print(\"Recall data training limfoblas (sensitivitas) : \", recall(1,cm_train))\n",
    "print(\"Presisi rerata data training : \", precision_macro_average(cm_train))\n",
    "print(\"Presisi rerata data training : \", recall_macro_average(cm_train))\n",
    "print(\"Akurasi data training : \", accuracy(cm_train))\n",
    "print(\"F1 Score data training : \", f1_score(precision_macro_average(cm_train),recall_macro_average(cm_train)))"
   ]
  },
  {
   "cell_type": "code",
   "execution_count": 24,
   "metadata": {},
   "outputs": [
    {
     "name": "stdout",
     "output_type": "stream",
     "text": [
      "Presisi data validasi limfoblas :  0.6310679611650486\n",
      "Recall data validasi limfoblas :  0.9154929577464789\n",
      "Presisi rerata data validasi :  0.7870442054458208\n",
      "Presisi rerata data validasi :  0.8150353379379549\n",
      "Akurasi data validasi :  0.7953890489913544\n",
      "F1 Score data validasi :  0.8007952446640546\n"
     ]
    }
   ],
   "source": [
    "print(\"Presisi data validasi limfoblas : \", precision(1,cm_validasi))\n",
    "print(\"Recall data validasi limfoblas : \", recall(1,cm_validasi))\n",
    "print(\"Presisi rerata data validasi : \", precision_macro_average(cm_validasi))\n",
    "print(\"Presisi rerata data validasi : \", recall_macro_average(cm_validasi))\n",
    "print(\"Akurasi data validasi : \", accuracy(cm_validasi))\n",
    "print(\"F1 Score data validasi : \", f1_score(precision_macro_average(cm_validasi),recall_macro_average(cm_validasi)))"
   ]
  },
  {
   "cell_type": "code",
   "execution_count": 25,
   "metadata": {},
   "outputs": [
    {
     "data": {
      "text/plain": [
       "[0.04423246294958571,\n",
       " -1.3216345851183773,\n",
       " -0.000429540693041582,\n",
       " 0.8002307219595968,\n",
       " -0.5559165603654246,\n",
       " -0.3074361940404237,\n",
       " -0.8322820438696431,\n",
       " -0.2847643300647739,\n",
       " -9.24727361509002,\n",
       " 1.1252342578867507,\n",
       " 0.19345925235593736,\n",
       " 0.8957436048993944,\n",
       " 3.821847311236347,\n",
       " 0.548979413135314,\n",
       " 0.9942406260028257,\n",
       " 0.6072699981139332,\n",
       " 0.7379012196586572,\n",
       " -0.5424793177194028,\n",
       " 0.813886970215386,\n",
       " 0.681268581308054,\n",
       " -0.253215469927723,\n",
       " 1.1215621169815158,\n",
       " 1.0529956007923535,\n",
       " 1.5940342208786067,\n",
       " 1.7751237971981633,\n",
       " 2.902693484635364,\n",
       " -0.3688703063956296,\n",
       " 2.6736076210580557,\n",
       " 0.5328264690547388,\n",
       " 1.0850609410373797,\n",
       " 1.02435687967054,\n",
       " 0.29028712360950176,\n",
       " -0.09295813058388842,\n",
       " -0.5474789322850585,\n",
       " 1.4522807218076164,\n",
       " 0.252824288805827,\n",
       " 0.3755584759136461,\n",
       " 1.2494271651419426,\n",
       " -5.567988470968821,\n",
       " 0.29933061223804486,\n",
       " 0.7519254813289649,\n",
       " 0.13395373503712324,\n",
       " 1.7382841812166205,\n",
       " 0.05787054198785929,\n",
       " 0.5274910607184329,\n",
       " 3.6558867664454637,\n",
       " 0.8448960829113834,\n",
       " 1.248514654789163,\n",
       " 0.4145558390070115,\n",
       " 0.6284965505363416,\n",
       " 0.2381647779822253,\n",
       " 0.5089874300725564,\n",
       " -0.21603052096570163,\n",
       " 1.473581901446731,\n",
       " 0.6706803596033155,\n",
       " 3.4700877712773397,\n",
       " 0.3382693302187415,\n",
       " 2.131686704234224,\n",
       " 0.8561246957766704,\n",
       " 0.22436941262203855,\n",
       " 0.8551336274019871,\n",
       " 0.667869345831896,\n",
       " 0.38973420784397245,\n",
       " 1.0171844309892903,\n",
       " -0.10534016037814913,\n",
       " 0.2996767078333565,\n",
       " 1.0478852856296719,\n",
       " 0.22743481490190118,\n",
       " 0.5694755733680303,\n",
       " 0.5726456839482292,\n",
       " 1.3554299063378592,\n",
       " -0.08192700819941881,\n",
       " 1.2047876929229355,\n",
       " 1.4500887318015567,\n",
       " -5.94104944729271,\n",
       " 0.4070055089773942,\n",
       " 1.211390892756803,\n",
       " 2.46081963520263,\n",
       " 0.42394603734216213,\n",
       " 0.8488442683789972,\n",
       " 0.43910290412819436,\n",
       " 2.7279707598922602,\n",
       " -0.7497491670941553,\n",
       " 1.475204769342939,\n",
       " 0.07896151302925396,\n",
       " 0.6949857867187443,\n",
       " -0.20708534953796728,\n",
       " -0.5559517084761219,\n",
       " 1.2941503161316121,\n",
       " 0.530547248477728,\n",
       " 3.096261288839713,\n",
       " 2.0136109300725917,\n",
       " 1.5328845817335535,\n",
       " 1.1680889436519915,\n",
       " 1.4679465318618516,\n",
       " 0.07280446950770551,\n",
       " -0.3984194862441922,\n",
       " 1.290600645495837,\n",
       " -0.26514786888813674,\n",
       " 1.2220520393346184,\n",
       " -0.20567015624898957,\n",
       " 0.9585856979410453,\n",
       " 2.4182989199853764,\n",
       " 0.5340315124184195,\n",
       " 1.0729454200228041,\n",
       " 1.6676972555856286,\n",
       " 1.2304300514922317,\n",
       " 0.7384431619994404,\n",
       " 1.4154418278934573,\n",
       " -0.05097996339834377,\n",
       " 2.2287245803486,\n",
       " 0.4301510959012426,\n",
       " 0.5244831124714718,\n",
       " 0.9813429095854712,\n",
       " 0.5598732085863027,\n",
       " 0.7568592078116294,\n",
       " 0.40773914500074443,\n",
       " -0.16064146349026104,\n",
       " 0.2932971711797849,\n",
       " 1.097478676792451,\n",
       " 1.979190103132272,\n",
       " -0.4756854604542806,\n",
       " 0.23707049872277924,\n",
       " 0.6349486452206187,\n",
       " 0.47362234989350505,\n",
       " 1.0649426184419475,\n",
       " 0.6296693106341108,\n",
       " -0.9683667389126447,\n",
       " 1.6853135420648884,\n",
       " -0.32610896617810187,\n",
       " 1.7975377542201838,\n",
       " -2.4647789120641854,\n",
       " 1.233649838371781,\n",
       " -0.5268559557782394,\n",
       " -0.3322706216629225,\n",
       " 0.7037534555985949,\n",
       " 0.11213442788150825,\n",
       " 1.2909449820111096,\n",
       " 0.9010478922026119,\n",
       " 0.8161339644130614,\n",
       " 0.7939962848853301,\n",
       " 0.33794196519161396,\n",
       " -0.10851728675127396,\n",
       " 0.45822729597986706,\n",
       " -0.23046859985005924,\n",
       " 1.6361996993097312,\n",
       " 2.261265922150576,\n",
       " 1.0148468461177802,\n",
       " 0.7254318065441889,\n",
       " 0.6969992875246401,\n",
       " -3.7662204029571,\n",
       " 0.5016173170729942,\n",
       " 1.9683863201560647,\n",
       " -1.025126818493329,\n",
       " 0.4767382527673372,\n",
       " 0.9573156090971893,\n",
       " -0.4273679030943133,\n",
       " 0.6907812782611492,\n",
       " 0.41117729098006606,\n",
       " -0.24911433655680648,\n",
       " 0.7158631195276867,\n",
       " 0.6218853920656817,\n",
       " 0.9658910442343999,\n",
       " 0.4445346678684434,\n",
       " -0.24992270594437785,\n",
       " 0.32332761294966944,\n",
       " 0.7303793016191785,\n",
       " 1.239165107036638,\n",
       " 0.5576766132596885,\n",
       " -0.3758490639997186,\n",
       " 1.4411042094955946,\n",
       " -3.007577535764384,\n",
       " -0.18614457228311515,\n",
       " 2.161502942808437,\n",
       " -0.14402099790152012,\n",
       " 0.4788057445996175,\n",
       " 1.3391994493053203,\n",
       " -0.16459081919871396,\n",
       " 1.069769856276278,\n",
       " 0.09017710653317079,\n",
       " 0.003509625177989499,\n",
       " 1.1546773663648588,\n",
       " -0.8188153187767656,\n",
       " 2.3860567880367505,\n",
       " 0.16966320461114898,\n",
       " 0.6765585520266667,\n",
       " 0.5347743649305214,\n",
       " 1.381311670124124,\n",
       " -0.8582539298467239,\n",
       " 0.5289862598639026,\n",
       " -0.443277707855788,\n",
       " 1.05192159567112,\n",
       " 0.7643015724236137,\n",
       " 0.4615212074890991,\n",
       " 0.6691847877138364,\n",
       " 0.4942345961818116,\n",
       " 0.03950301509371329,\n",
       " 1.773906865855099,\n",
       " 1.623152636060434,\n",
       " 1.3443763375006363,\n",
       " -0.5414684100564485,\n",
       " -0.5582840037976362,\n",
       " 0.2198591882083194,\n",
       " 0.9002196294203195,\n",
       " 0.5539771506603798,\n",
       " 0.1771684964766391,\n",
       " -0.614613580547552,\n",
       " -0.06044170443078004,\n",
       " -0.29747115143301145,\n",
       " 3.3448255587065607,\n",
       " -0.6537786515705053,\n",
       " -0.29956340321038133,\n",
       " -0.09333314949642613,\n",
       " 3.2675412821302436,\n",
       " 1.4739508856055283,\n",
       " -1.0562645415110414,\n",
       " 0.09223726955046992,\n",
       " 0.4096420447297935,\n",
       " 1.6577943867994147,\n",
       " 1.892108817520435,\n",
       " 0.7412500158865453,\n",
       " 0.15962066909757078,\n",
       " -0.504437054573254,\n",
       " 0.3739984797678007,\n",
       " 1.1787293275719768,\n",
       " 0.3162728894009064,\n",
       " -0.10992614477194786,\n",
       " 0.65023113777679,\n",
       " 0.1794822281710573,\n",
       " 0.04155937293183066,\n",
       " 1.8874502023020712,\n",
       " 1.2113065229392366,\n",
       " -1.0538631991340472,\n",
       " -4.224098161332721,\n",
       " 0.3993248237720714,\n",
       " 0.7170883802831344,\n",
       " 0.3336971328034454,\n",
       " 1.7188951201634428,\n",
       " -1.6246664937016158,\n",
       " -1.246405515525335,\n",
       " 1.142588850835763,\n",
       " 0.47928008490810053,\n",
       " 1.3902260026433897,\n",
       " -0.9422377848334198,\n",
       " 0.45367434956753705,\n",
       " -0.8468501320382702,\n",
       " 0.7028634606777018,\n",
       " 3.664354218975319,\n",
       " -0.13817313793021824,\n",
       " 1.6594421243644666,\n",
       " 3.088767119466282,\n",
       " -1.1154728278533461,\n",
       " 0.46801622042188995,\n",
       " 0.30130615355296636,\n",
       " 1.4904291929224236,\n",
       " -0.06434531117643474,\n",
       " -0.5027149765883251,\n",
       " 0.7080433571781427,\n",
       " -0.22480680717918955,\n",
       " 0.6380031689039646,\n",
       " 1.0246185144669475,\n",
       " -2.745176155545226,\n",
       " -0.36443664867782466,\n",
       " -1.0050992846871818,\n",
       " -0.6879810583259235,\n",
       " -0.06125861207592741,\n",
       " 1.2823039154580915,\n",
       " 0.02049475879536365,\n",
       " -0.8239874512551537,\n",
       " 1.097484808942231,\n",
       " -0.2873672194801977,\n",
       " 2.3453600975407576,\n",
       " 1.0305812731759618,\n",
       " 0.6980939158117352,\n",
       " -1.1766742769760428,\n",
       " 0.36863156600506475,\n",
       " 0.6447692686096422,\n",
       " 0.5936995701592724,\n",
       " -1.164843974069142,\n",
       " 0.7963648838112819,\n",
       " 0.8486567857965933,\n",
       " 0.6934085379568313,\n",
       " -0.3511842126766858,\n",
       " 0.8013084262013095,\n",
       " -0.687531474117789,\n",
       " 0.2788599484158916,\n",
       " 0.4921497428383246,\n",
       " 0.17282594989361058,\n",
       " -0.22058925420176814,\n",
       " 0.13454186243237715,\n",
       " -1.3452689472577102,\n",
       " -0.19665323773907428,\n",
       " 0.7437504719760798,\n",
       " 0.5033831545402234,\n",
       " 1.3649309772542588,\n",
       " -0.08241363860429725,\n",
       " 0.5169654350754844,\n",
       " -0.3221147236072298,\n",
       " 1.9000269246241892,\n",
       " 0.8606882162993321,\n",
       " 0.6383723786099422,\n",
       " 0.5883438626183147,\n",
       " 0.6649016949680266,\n",
       " 0.17657357456913159,\n",
       " -2.352285944496114,\n",
       " 0.026046194713549388,\n",
       " 2.0196346796947533,\n",
       " 0.6026989846486054,\n",
       " 0.1802044811764763,\n",
       " 2.0972716598406205,\n",
       " 0.3603705584820398,\n",
       " 0.29758813881623597,\n",
       " 0.32123483873813385,\n",
       " 0.44531322824181946,\n",
       " -0.9627733810567073,\n",
       " -1.72139212329821,\n",
       " 2.174881420227377,\n",
       " -0.32238056615044947,\n",
       " 0.9212189944303457,\n",
       " 0.34776570705553894,\n",
       " 1.7967928016947494,\n",
       " 0.4284082869723394,\n",
       " 0.6291994290469424,\n",
       " 1.0956336053050149,\n",
       " -0.02051432801268801,\n",
       " -1.1791259918301942,\n",
       " 4.976059825151583,\n",
       " 1.0363164206377524,\n",
       " 0.6320821148376219,\n",
       " 1.3895972035594928,\n",
       " 0.31395682176057477,\n",
       " 2.185569020682745,\n",
       " 1.652435148643206,\n",
       " 0.25478067542168426,\n",
       " 1.0238561593826814,\n",
       " 0.2843277877273257,\n",
       " 0.3247466440059561,\n",
       " -1.7215180038590314,\n",
       " 0.9800833528499181,\n",
       " 1.2290403092126914,\n",
       " 0.9986742956588082,\n",
       " 0.7688620497295551,\n",
       " 1.7119479694717152,\n",
       " -1.8810049985043995,\n",
       " 5.587357277193369,\n",
       " 0.8161610651052319,\n",
       " -0.014581855571605545,\n",
       " -0.8752522196812612,\n",
       " -3.465615161480032,\n",
       " -0.17549764385144426,\n",
       " -7.59285207710359,\n",
       " 1.178798248526897,\n",
       " 0.1892598757496539,\n",
       " 1.199864152707571,\n",
       " -5.0549612713386685,\n",
       " 0.6719666752248383,\n",
       " 0.4526747936646686,\n",
       " 0.8813909364254672,\n",
       " 1.211001199466517,\n",
       " -0.22332924076095775,\n",
       " 0.7779009794937997,\n",
       " 0.4201985168968098,\n",
       " -0.7518998337260308,\n",
       " 0.7655946064516479,\n",
       " -0.489043388310834,\n",
       " 1.0337810413961201,\n",
       " 1.1404876629211085,\n",
       " -0.07604369051893016,\n",
       " 0.9753035302929235,\n",
       " -0.07221600646210316,\n",
       " 2.680087207410694,\n",
       " 0.15176151697818246,\n",
       " 1.2845131161056007,\n",
       " 2.3997698457245353,\n",
       " -0.4298762325496079,\n",
       " -0.4230125622789193,\n",
       " 0.7970728283857358,\n",
       " -0.16643403040999594,\n",
       " 0.6901845032859526,\n",
       " 0.6342195559199649,\n",
       " 0.5657801746861665,\n",
       " 1.0815101966128058,\n",
       " 0.40249267561604696,\n",
       " 0.6809116950476152,\n",
       " 0.4081737140535356,\n",
       " -0.22261989070822594,\n",
       " -0.06698778542478459,\n",
       " -0.036789207703165336,\n",
       " -1.1648039181848056,\n",
       " 1.3806035383665647,\n",
       " 0.20276002205086457,\n",
       " -0.4637227010859931,\n",
       " 0.9808416538568262,\n",
       " 0.026940840797231927,\n",
       " 1.0315453792051161,\n",
       " 0.22210843291355625,\n",
       " 0.6780515595389807,\n",
       " 0.8324459622246231,\n",
       " 0.5729175629111714,\n",
       " 1.5060389911560976,\n",
       " 0.9075771367225139,\n",
       " 1.1178577978450859,\n",
       " 0.10234187516412742,\n",
       " 0.22362956330345668,\n",
       " 0.9482851469976846,\n",
       " 1.1974518007650818,\n",
       " -0.5876004051682772,\n",
       " 1.126703587449643,\n",
       " 0.28900597901409064,\n",
       " 1.2673899996587004,\n",
       " -0.3481688685031168,\n",
       " 2.641483306247893,\n",
       " 0.5677542288186974,\n",
       " -1.0323089143531061,\n",
       " 0.6792819075326962,\n",
       " 0.01077983357219332,\n",
       " 0.6521097136083696,\n",
       " -0.022807692859811612,\n",
       " -1.4106225489189639,\n",
       " 0.08429630380360567,\n",
       " 1.348481633017745,\n",
       " 1.2639844837906198,\n",
       " 0.10329079594874485,\n",
       " -5.630831221288486,\n",
       " 2.396549865773554,\n",
       " 1.006898168834049,\n",
       " 0.9290138334741345,\n",
       " 0.8338521702831355,\n",
       " 1.0503841325787218,\n",
       " 0.5997282729554557,\n",
       " 0.2002571356883037,\n",
       " 0.237401116085136,\n",
       " 0.1408406318868554,\n",
       " 1.2103357290737187,\n",
       " 2.266796091980762,\n",
       " 0.43421835315721513,\n",
       " 1.7723775810824465,\n",
       " 0.7760839279923109,\n",
       " 1.2448942512627281,\n",
       " 1.228383047437004,\n",
       " 0.11611035366098862,\n",
       " 0.4892733838923118,\n",
       " 1.7885862749688703,\n",
       " -1.161967576877716,\n",
       " 0.6692760677656694,\n",
       " 0.55506022560231,\n",
       " -1.1481640035986846,\n",
       " 0.1418217758516947,\n",
       " 0.10974792303080862,\n",
       " -1.0750837475368662,\n",
       " -0.27917742624839836,\n",
       " 0.5867731331786555,\n",
       " 0.9550175560962112,\n",
       " 0.1625457393561235,\n",
       " 0.06643695687783459,\n",
       " 0.6965930906742166,\n",
       " 3.5383710214724466,\n",
       " -1.430216688487379,\n",
       " 1.2536486039971197,\n",
       " 1.5500718896213874,\n",
       " -0.007530163834509405,\n",
       " 0.5080673444009296,\n",
       " 0.5758586594942994]"
      ]
     },
     "execution_count": 25,
     "metadata": {},
     "output_type": "execute_result"
    }
   ],
   "source": [
    "pos2 = [i for i in pos]\n",
    "pos2"
   ]
  },
  {
   "cell_type": "code",
   "execution_count": 26,
   "metadata": {},
   "outputs": [],
   "source": [
    "#save_pos_step1('neuron_step1.csv',(n_hidden,optimizer.cost_history,accuracy(cm_train),accuracy(cm_validasi)))\n",
    "save_pos_step1('perfo_step2.csv',(\"1\",accuracy(cm_train),accuracy(cm_validasi),pos2,optimizer.cost_history,post))"
   ]
  },
  {
   "cell_type": "code",
   "execution_count": null,
   "metadata": {},
   "outputs": [],
   "source": []
  }
 ],
 "metadata": {
  "colab": {
   "name": "Copy of Sync PSO.ipynb",
   "provenance": [
    {
     "file_id": "1hA06rinoF_RKyO0BLGEXuhHc7qz7KLn5",
     "timestamp": 1553359005609
    }
   ],
   "version": "0.3.2"
  },
  "kernelspec": {
   "display_name": "Python 3",
   "language": "python",
   "name": "python3"
  },
  "language_info": {
   "codemirror_mode": {
    "name": "ipython",
    "version": 3
   },
   "file_extension": ".py",
   "mimetype": "text/x-python",
   "name": "python",
   "nbconvert_exporter": "python",
   "pygments_lexer": "ipython3",
   "version": "3.6.4"
  }
 },
 "nbformat": 4,
 "nbformat_minor": 2
}
