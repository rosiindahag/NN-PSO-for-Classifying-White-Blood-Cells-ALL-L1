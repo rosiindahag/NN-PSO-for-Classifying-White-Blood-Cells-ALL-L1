{
 "cells": [
  {
   "cell_type": "code",
   "execution_count": 1,
   "metadata": {},
   "outputs": [],
   "source": [
    "#The library | Library yang akan digunakan\n",
    "import numpy as np\n",
    "import matplotlib.pyplot as plt\n",
    "import pandas as pd\n",
    "import pyswarms as ps #untuk generate PSO library\n",
    "from sklearn.metrics import confusion_matrix #untuk confusion matrix\n",
    "from sklearn.utils.multiclass import unique_labels #untuk confusion matrix"
   ]
  },
  {
   "cell_type": "code",
   "execution_count": null,
   "metadata": {},
   "outputs": [],
   "source": [
    "#Saving image as EPS type file | Menyimpan gambar dengan format EPS\n",
    "def save_gambar(grafik):\n",
    "    plt.savefig('rev2_grafik.eps', format='eps', dpi=1200)"
   ]
  },
  {
   "cell_type": "code",
   "execution_count": null,
   "metadata": {},
   "outputs": [],
   "source": [
    "#Saving training and testing data | Menyimpan data training dan data testing\n",
    "def save_data(train_data,test_data):\n",
    "    np.savetxt('rev2_data_training.csv', train_data, delimiter=\",\")\n",
    "    #np.savetxt('data_validating.csv', validate_data, delimiter=\",\")\n",
    "    np.savetxt('rev2_data_testing.csv', test_data, delimiter=\",\")\n",
    "def save_data2(train_data,test_data):\n",
    "    np.savetxt('rev2_data_training_NN2.csv', train_data, delimiter=\",\")\n",
    "    np.savetxt('rev2_data_testing_NN2.csv', test_data, delimiter=\",\")\n",
    "\n",
    "#Saving testing data for NN-PSO stage 2 from NN-PSO stage 1 |\n",
    "#Menyimpan data testing NN-PSO untuk tahap 2 yang diperoleh dari output NN-PSO tahap 1\n",
    "def save_data_test(validate_data):\n",
    "    np.savetxt('rev3_data_testing_NN1.csv', test_data, delimiter=\",\")"
   ]
  },
  {
   "cell_type": "code",
   "execution_count": null,
   "metadata": {},
   "outputs": [],
   "source": [
    "#save hyperparameter W1, b1,W2, b2 for ANN | Menyimpan hiperparameter dari ANN yang terdiri dari weight (W1,W2) dan bias (b1, b2)\n",
    "def save_params1(W1,b1,W2,b2):\n",
    "    np.savetxt('rev2_W1_NN1.csv', W1, delimiter=\",\")\n",
    "    np.savetxt('rev2_b1_NN1.csv', b1, delimiter=\",\")\n",
    "    np.savetxt('rev2_W2_NN1.csv', W2, delimiter=\",\")\n",
    "    np.savetxt('rev2_b2_NN1.csv', b2, delimiter=\",\") \n",
    "\n",
    "def save_params2(W1,b1,W2,b2):\n",
    "    np.savetxt('rev2_W1_NN2.csv', W1, delimiter=\",\")\n",
    "    np.savetxt('rev2_b1_NN2.csv', b1, delimiter=\",\")\n",
    "    np.savetxt('rev2_W2_NN2.csv', W2, delimiter=\",\")\n",
    "    np.savetxt('rev2_b2_NN2.csv', b2, delimiter=\",\") \n",
    "    \n",
    "def save(W1,W2):\n",
    "    np.savetxt('rev2_W1_bp.csv',W1)\n",
    "    np.savetxt('rev2_W2_bp.csv',W2)"
   ]
  },
  {
   "cell_type": "code",
   "execution_count": null,
   "metadata": {},
   "outputs": [],
   "source": [
    "#save selected feature | menyimpan hasil seleksi fitur atau fitur terseleksi yang akan digunakan untuk NN-PSO tahap 1(feature1) dan tahap 2 (feature2) \n",
    "def save_data_feature1(pos):\n",
    "    np.savetxt('rev2_data_feature1_pos.csv', pos, delimiter=\",\")\n",
    "def save_data_feature2(pos):\n",
    "    np.savetxt('rev2_data_feature2_pos.csv', pos, delimiter=\",\")"
   ]
  },
  {
   "cell_type": "code",
   "execution_count": null,
   "metadata": {},
   "outputs": [],
   "source": [
    "def save_data_nyoba(x):\n",
    "    np.savetxt('rev2_data_nyoba.csv', x, delimiter=\",\")"
   ]
  },
  {
   "cell_type": "code",
   "execution_count": null,
   "metadata": {},
   "outputs": [],
   "source": [
    "#save selected feature for multiclass model | menyimpan hasil seleksi fitur atau fitur terseleksi yang akan digunakan untuk model multiclass\n",
    "def save_data_featureclass(data_baru1, pos):\n",
    "    np.savetxt('rev2_data_featureclass.csv', data_baru1, delimiter=\",\")\n",
    "    np.savetxt('rev2_data_featureclass_pos.csv', pos, delimiter=\",\")"
   ]
  },
  {
   "cell_type": "code",
   "execution_count": null,
   "metadata": {},
   "outputs": [],
   "source": [
    "#save selected feature for backpropagation model | menyimpan hasil seleksi fitur atau fitur terseleksi yang akan digunakan untuk model backpropagation\n",
    "def save_data_featureback(pos):\n",
    "    np.savetxt('rev2_data_featureback_pos.csv', pos, delimiter=\",\")"
   ]
  },
  {
   "cell_type": "code",
   "execution_count": null,
   "metadata": {},
   "outputs": [],
   "source": [
    "#save the classifier performance | menyimpan rekap performansi dari classifier\n",
    "def save_pos_step1(file, x):\n",
    "    with open(file,\"ab\") as file:\n",
    "        np.savetxt(file,x,fmt='%s',delimiter=\",\")"
   ]
  },
  {
   "cell_type": "code",
   "execution_count": null,
   "metadata": {},
   "outputs": [],
   "source": [
    "#Build the confusion matrix | menyusun confusion matrix\n",
    "\n",
    "#class_names = np.array([\"limfoid\",'non-limfoid'])\n",
    "\n",
    "def plot_confusion_matrix(y_true, y_pred, classes,\n",
    "                          normalize=False,\n",
    "                          title=None,\n",
    "                          cmap=plt.cm.Blues):\n",
    "    \"\"\"\n",
    "    This function prints and plots the confusion matrix.\n",
    "    Normalization can be applied by setting `normalize=True`.\n",
    "    \"\"\"\n",
    "    if not title:\n",
    "        if normalize:\n",
    "            title = 'Normalized confusion matrix'\n",
    "        else:\n",
    "            title = 'Confusion matrix, without normalization'\n",
    "\n",
    "    # Compute confusion matrix\n",
    "    cm = confusion_matrix(y_true, y_pred)\n",
    "    # Only use the labels that appear in the data\n",
    "    classes = classes[unique_labels(y_true, y_pred)]\n",
    "    if normalize:\n",
    "        cm = cm.astype('float') / cm.sum(axis=1)[:, np.newaxis]\n",
    "        print(\"Normalized confusion matrix\")\n",
    "    else:\n",
    "        print('Confusion matrix, without normalization')\n",
    "\n",
    "    print(cm)\n",
    "\n",
    "    fig, ax = plt.subplots()\n",
    "    im = ax.imshow(cm, interpolation='nearest', cmap=cmap)\n",
    "    ax.figure.colorbar(im, ax=ax)\n",
    "    # We want to show all ticks...\n",
    "    ax.set(xticks=np.arange(cm.shape[1]),\n",
    "           yticks=np.arange(cm.shape[0]),\n",
    "           # ... and label them with the respective list entries\n",
    "           xticklabels=classes, yticklabels=classes,\n",
    "           title=title,\n",
    "           ylabel='True label',\n",
    "           xlabel='Predicted label')\n",
    "\n",
    "    # Rotate the tick labels and set their alignment.\n",
    "    plt.setp(ax.get_xticklabels(), rotation=45, ha=\"right\",\n",
    "             rotation_mode=\"anchor\")\n",
    "\n",
    "    # Loop over data dimensions and create text annotations.\n",
    "    fmt = '.2f' if normalize else 'd'\n",
    "    thresh = cm.max() / 2.\n",
    "    for i in range(cm.shape[0]):\n",
    "        for j in range(cm.shape[1]):\n",
    "            ax.text(j, i, format(cm[i, j], fmt),\n",
    "                    ha=\"center\", va=\"center\",\n",
    "                    color=\"white\" if cm[i, j] > thresh else \"black\")\n",
    "    fig.tight_layout()\n",
    "    return ax\n",
    "\n",
    "#kebawah dipake buat nampilin confusion matrix, cukup dimasukkin ke codingnya langsung\n",
    "#np.set_printoptions(precision=2)\n",
    "\n",
    "# Plot non-normalized confusion matrix\n",
    "#plot_confusion_matrix(output_train_data, predict(train_data, pos), classes=class_names,\n",
    "#                      title='Confusion matrix, without normalization')\n",
    "\n",
    "# Plot normalized confusion matrix\n",
    "#plot_confusion_matrix(y_test, y_pred, classes=class_names, normalize=True,\n",
    "#                      title='Normalized confusion matrix')\n",
    "\n",
    "#plt.show()"
   ]
  },
  {
   "cell_type": "code",
   "execution_count": null,
   "metadata": {},
   "outputs": [],
   "source": [
    "#help(np.savetxt)"
   ]
  },
  {
   "cell_type": "code",
   "execution_count": null,
   "metadata": {},
   "outputs": [],
   "source": [
    "#hitung presisi, recall, presisi makro, recall makro, f1-score, akurasi\n",
    "def precision(label, confusion_matrix):\n",
    "    col = confusion_matrix[:, label]\n",
    "    return confusion_matrix[label, label] / col.sum()\n",
    "def recall(label, confusion_matrix):\n",
    "    row = confusion_matrix[label, :]\n",
    "    return confusion_matrix[label, label] / row.sum()\n",
    "def precision_macro_average(confusion_matrix):\n",
    "    rows, columns = confusion_matrix.shape\n",
    "    sum_of_precisions = 0\n",
    "    for label in range(rows):\n",
    "        sum_of_precisions += precision(label, confusion_matrix)\n",
    "    return sum_of_precisions / rows\n",
    "def recall_macro_average(confusion_matrix):\n",
    "    rows, columns = confusion_matrix.shape\n",
    "    sum_of_recalls = 0\n",
    "    for label in range(columns):\n",
    "        sum_of_recalls += recall(label, confusion_matrix)\n",
    "    return sum_of_recalls / columns\n",
    "def f1_score(precision,recall):\n",
    "    return 2*precision*recall/(precision+recall)\n",
    "def accuracy(confusion_matrix):\n",
    "    diagonal_sum = confusion_matrix.trace()\n",
    "    sum_of_all_elements = confusion_matrix.sum()\n",
    "    return diagonal_sum / sum_of_all_elements "
   ]
  }
 ],
 "metadata": {
  "kernelspec": {
   "display_name": "Python 3",
   "language": "python",
   "name": "python3"
  },
  "language_info": {
   "codemirror_mode": {
    "name": "ipython",
    "version": 3
   },
   "file_extension": ".py",
   "mimetype": "text/x-python",
   "name": "python",
   "nbconvert_exporter": "python",
   "pygments_lexer": "ipython3",
   "version": "3.6.4"
  }
 },
 "nbformat": 4,
 "nbformat_minor": 2
}
