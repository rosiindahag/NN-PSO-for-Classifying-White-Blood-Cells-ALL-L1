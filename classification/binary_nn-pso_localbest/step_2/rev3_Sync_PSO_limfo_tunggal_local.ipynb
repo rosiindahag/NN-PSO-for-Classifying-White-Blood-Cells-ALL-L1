{
 "cells": [
  {
   "cell_type": "code",
   "execution_count": 1,
   "metadata": {},
   "outputs": [],
   "source": [
    "%run fungsi_save.ipynb"
   ]
  },
  {
   "cell_type": "code",
   "execution_count": 2,
   "metadata": {},
   "outputs": [
    {
     "name": "stdout",
     "output_type": "stream",
     "text": [
      "29\n"
     ]
    },
    {
     "data": {
      "text/plain": [
       "array([[0.23290321, 0.1880663 , 0.80561347, ..., 0.71176292, 0.29021789,\n",
       "        0.405438  ],\n",
       "       [0.33876336, 0.21701657, 0.88720096, ..., 0.71985131, 0.84939207,\n",
       "        0.852632  ],\n",
       "       [0.14477051, 0.07823204, 0.90193096, ..., 0.73730247, 0.72618649,\n",
       "        0.593281  ],\n",
       "       ...,\n",
       "       [0.43478703, 0.29436464, 0.82699077, ..., 0.58111237, 0.78983127,\n",
       "        0.965812  ],\n",
       "       [0.43482695, 0.20640884, 0.95507519, ..., 0.58083608, 0.67863338,\n",
       "        0.633993  ],\n",
       "       [0.28595488, 0.25281768, 0.46894224, ..., 0.11345727, 0.17694923,\n",
       "        0.561331  ]])"
      ]
     },
     "execution_count": 2,
     "metadata": {},
     "output_type": "execute_result"
    }
   ],
   "source": [
    "#pilih data fitur masukan NN1\n",
    "train_data = pd.read_csv('rev3_data_baru_norm_training.csv', sep=',',header=None)\n",
    "train_data = train_data.values\n",
    "post = pd.read_csv('data_feature2_pos.csv', sep=',',header=None)\n",
    "post = np.int_(post)\n",
    "total_features = np.size(train_data, axis=1)-3\n",
    "print(total_features)\n",
    "output_train_data = train_data[:,total_features+2] #output aja limfo\n",
    "output_train_data = np.int_(output_train_data)\n",
    "train_data = train_data[:,:total_features]\n",
    "train_data"
   ]
  },
  {
   "cell_type": "code",
   "execution_count": 3,
   "metadata": {
    "colab": {
     "base_uri": "https://localhost:8080/",
     "height": 948
    },
    "colab_type": "code",
    "executionInfo": {
     "elapsed": 1038,
     "status": "error",
     "timestamp": 1553358562335,
     "user": {
      "displayName": "Rosi Indah Agustin",
      "photoUrl": "https://lh5.googleusercontent.com/-hvtgKP15HCE/AAAAAAAAAAI/AAAAAAAABTc/cZ83hT-NMuU/s64/photo.jpg",
      "userId": "09782658992275918565"
     },
     "user_tz": -420
    },
    "id": "F263jm2DT-Br",
    "outputId": "d464a7cc-05f7-46d7-f5e2-9fe42cecedba",
    "scrolled": true
   },
   "outputs": [
    {
     "data": {
      "text/plain": [
       "array([0, 1, 0, ..., 1, 0, 0])"
      ]
     },
     "execution_count": 3,
     "metadata": {},
     "output_type": "execute_result"
    }
   ],
   "source": [
    "output_train_data"
   ]
  },
  {
   "cell_type": "code",
   "execution_count": 4,
   "metadata": {},
   "outputs": [
    {
     "data": {
      "text/plain": [
       "1390"
      ]
     },
     "execution_count": 4,
     "metadata": {},
     "output_type": "execute_result"
    }
   ],
   "source": [
    "np.size(train_data,axis=0)"
   ]
  },
  {
   "cell_type": "code",
   "execution_count": 5,
   "metadata": {},
   "outputs": [
    {
     "data": {
      "text/plain": [
       "[2, 5, 6, 11, 12, 14, 16, 19, 24]"
      ]
     },
     "execution_count": 5,
     "metadata": {},
     "output_type": "execute_result"
    }
   ],
   "source": [
    "a = [] #index fitur yang gak kepake\n",
    "for i in range(len(post)):\n",
    "    if post[i,0] == 0:\n",
    "        a.append(i)\n",
    "a"
   ]
  },
  {
   "cell_type": "code",
   "execution_count": 6,
   "metadata": {},
   "outputs": [
    {
     "name": "stdout",
     "output_type": "stream",
     "text": [
      "Number of training samples is 1390\n",
      "20\n",
      "[0.23290321 0.1880663  0.46743473 0.45973021 0.17391968 0.28606383\n",
      " 0.61069057 0.19392608 0.27244226 0.764981   0.59393149 0.61649561\n",
      " 0.71176946 0.24770907 0.34098131 0.42035761 0.1609526  0.71176292\n",
      " 0.29021789 0.405438  ]\n"
     ]
    }
   ],
   "source": [
    "train_data = np.delete(train_data, a ,axis=1) #data fitur yang udah terseleksi\n",
    "print(\"Number of training samples is\", len(train_data))\n",
    "print(np.size(train_data,axis=1))\n",
    "print(train_data[0])"
   ]
  },
  {
   "cell_type": "code",
   "execution_count": 7,
   "metadata": {},
   "outputs": [],
   "source": [
    "#data validasi\n",
    "validasi_data = pd.read_csv('rev3_data_baru_norm_testing.csv', sep=',',header=None)\n",
    "validasi_data = validasi_data.values\n",
    "output_validasi_data = validasi_data[:,total_features+2] #output aja untuk output 1\n",
    "output_validasi_data = np.int_(output_validasi_data)\n",
    "validasi_data = validasi_data[:,0:total_features] #fitur aja tanpa output dan fiturnya lengkap\n",
    "validasi_data = np.delete(validasi_data, a ,axis=1) #data fitur yang udah terseleksi\n",
    "\n",
    "#save_data1(test_data)"
   ]
  },
  {
   "cell_type": "code",
   "execution_count": 8,
   "metadata": {},
   "outputs": [
    {
     "data": {
      "text/plain": [
       "(347, 20)"
      ]
     },
     "execution_count": 8,
     "metadata": {},
     "output_type": "execute_result"
    }
   ],
   "source": [
    "validasi_data.shape"
   ]
  },
  {
   "cell_type": "code",
   "execution_count": 9,
   "metadata": {},
   "outputs": [
    {
     "data": {
      "text/plain": [
       "20"
      ]
     },
     "execution_count": 9,
     "metadata": {},
     "output_type": "execute_result"
    }
   ],
   "source": [
    "n_inputs = np.size(train_data,1)\n",
    "n_hidden = 20\n",
    "n_classes = 2\n",
    "n_inputs"
   ]
  },
  {
   "cell_type": "code",
   "execution_count": 10,
   "metadata": {},
   "outputs": [],
   "source": [
    "def forward_prop(params):\n",
    "\n",
    "    # Neural network architecture\n",
    "    global n_inputs\n",
    "    global n_hidden\n",
    "    global n_classes\n",
    "\n",
    "    w1_total = n_inputs*n_hidden\n",
    "    b1_total = w1_total+n_hidden\n",
    "    w2_total = b1_total+(n_hidden*n_classes)\n",
    "    b2_total = w2_total+n_classes\n",
    "    \n",
    "    # Roll-back the weights and biases\n",
    "    W1 = params[0:w1_total].reshape((n_inputs,n_hidden))\n",
    "    b1 = params[w1_total:b1_total].reshape((n_hidden,))\n",
    "    W2 = params[b1_total:w2_total].reshape((n_hidden,n_classes))\n",
    "    b2 = params[w2_total:b2_total].reshape((n_classes,))\n",
    "\n",
    "    # Perform forward propagation\n",
    "    z1 = train_data.dot(W1) + b1  # Pre-activation in Layer 1\n",
    "    a1 = np.tanh(z1)     # Activation in Layer 1 #belum pasti pake fungsi aktivasi apa\n",
    "    z2 = a1.dot(W2) + b2 # Pre-activation in Layer 2\n",
    "    logits = z2          # Logits for Layer 2\n",
    "\n",
    "    # Compute for the softmax of the logits\n",
    "    exp_scores = np.exp(logits)\n",
    "    probs = exp_scores / np.sum(exp_scores, axis=1, keepdims=True)\n",
    "\n",
    "    # Compute for the negative log likelihood #belum pasti loss functionnya pake apa\n",
    "    N = len(train_data) # Number of samples\n",
    "    corect_logprobs = -np.log(probs[range(N), output_train_data])\n",
    "    loss = np.sum(corect_logprobs) / N\n",
    "    return loss"
   ]
  },
  {
   "cell_type": "code",
   "execution_count": 11,
   "metadata": {},
   "outputs": [],
   "source": [
    "def f(x):\n",
    "    n_particles = x.shape[0]\n",
    "    j = [forward_prop(x[i]) for i in range(n_particles)]\n",
    "    return np.array(j)"
   ]
  },
  {
   "cell_type": "code",
   "execution_count": 12,
   "metadata": {
    "colab": {},
    "colab_type": "code",
    "id": "bHN5yiyGT-Cs"
   },
   "outputs": [
    {
     "name": "stderr",
     "output_type": "stream",
     "text": [
      "2021-04-03 11:21:29,099 - pyswarms.single.local_best - INFO - Optimize for 1000 iters with {'c1': 0.5, 'c2': 0.3, 'w': 0.9, 'k': 10, 'p': 2}\n",
      "pyswarms.single.local_best: 100%|████████████████████████████████████████████████████████████|1000/1000, best_cost=0.28\n",
      "2021-04-03 11:22:49,750 - pyswarms.single.local_best - INFO - Optimization finished | best cost: 0.2801946522428354, best pos: [-1.01155410e-01 -1.57515100e+00  6.66145774e-01  5.94444491e-01\n",
      "  4.76324932e-01 -1.39324236e+00  1.23574444e+00  1.90147404e+00\n",
      " -3.12840632e-01 -2.89811463e-01  4.66903991e-01  3.46312395e-01\n",
      "  2.81988956e-01 -4.98242326e-01  5.00628148e-01  6.94575800e-01\n",
      "  9.99545803e-01  3.54698882e-01 -2.70323450e-01 -2.13745867e+00\n",
      " -2.81325050e-01  5.04326524e-01  9.36680493e-01  5.02471383e-01\n",
      "  1.00370423e+00  7.74282123e-01  1.22170707e+00  3.66947974e-01\n",
      " -7.96268449e-01  5.28402523e-01 -6.51735859e-01  9.68299053e-01\n",
      " -6.70757895e-01  5.79499376e-01  8.05268464e-01  2.06156741e-01\n",
      " -5.23522360e-01 -1.95042398e+00 -7.94267693e-01  3.21829544e-01\n",
      " -1.04860163e+00  5.58822251e-01  6.01523277e-01  1.77484793e-01\n",
      "  3.37953817e-01  5.18585427e-01  6.30793653e-01  3.17891168e-01\n",
      " -3.39681376e-01  1.72436191e+00  5.02974526e-02  3.59235830e-01\n",
      " -4.26657790e-02  5.42170355e-01 -1.29696184e-01 -4.56499906e-03\n",
      " -4.15311502e-01  3.00904860e-01  7.14619666e-01 -4.97653617e-01\n",
      "  3.97564458e-01  2.65462311e-01 -1.81146220e-01  1.23610390e-01\n",
      "  9.31492970e-01 -2.07152690e-01  3.60089011e-01  7.64466009e-01\n",
      " -3.62139630e-01 -3.44011929e-01  7.92394493e-01  1.31036322e+00\n",
      "  7.80830122e-01  1.46241873e-01 -4.37813102e-01  1.13305670e+00\n",
      "  5.32310402e-01  1.21820714e-01  5.24772971e-01  7.55637306e-01\n",
      "  4.17187250e-01 -3.40270022e-01  6.72697999e-01  7.86667422e-01\n",
      "  6.52530910e-01  2.87065201e-01 -1.30244183e-01  2.09828575e-01\n",
      "  1.45030303e+00  4.64586745e-01 -2.89271065e-01  2.40833046e+00\n",
      "  1.25008875e-01  4.50010297e-01 -3.82581468e-02  7.75588948e-01\n",
      " -5.11998059e-02  5.28862626e-01 -3.76621433e-01  8.91144120e-01\n",
      " -3.43848201e-01  2.91678315e-01  3.36698642e-01  1.10740963e+00\n",
      "  1.73707635e-01  1.83823016e-01  9.91835004e-01  3.47086639e-01\n",
      " -7.82390009e-01  8.34478539e-02  1.37588291e+00  6.84857291e-01\n",
      "  3.17700508e-01  1.04002527e+00 -5.12065087e-01 -2.55096147e-01\n",
      " -9.19754647e-01  7.04286382e-02  7.54312273e-01 -1.45169499e+00\n",
      " -9.83021418e-01 -5.79862580e-01 -4.83423775e-01  1.96795920e-01\n",
      " -1.21587648e-01 -3.41698551e-01  9.73306995e-01  2.71229340e-01\n",
      "  7.89600532e-01 -1.10256155e+00  1.56722444e-01 -2.64901248e-01\n",
      "  8.71252246e-01  8.94383511e-01  4.15842094e-01  1.91961635e-01\n",
      " -2.71512478e-01  1.13846817e-01 -3.86321272e-01  4.78060421e-01\n",
      "  1.16705161e+00 -2.63344424e+00 -6.15074831e-02  6.82125368e-01\n",
      " -1.18974993e+00 -7.95359357e-03 -1.39940074e+00  1.00923702e+00\n",
      "  4.10752948e-02  8.23751984e-02 -1.51466369e-01 -7.36363411e-02\n",
      "  5.83410402e-01 -4.64975009e-02 -8.59835025e-01  2.68306937e-01\n",
      "  6.56622398e-01 -8.11107024e-02  3.93741633e-01 -1.92092421e-01\n",
      "  6.60070463e-01  4.21723884e-02  5.97332752e-01  1.06124490e+00\n",
      "  2.17522463e-01 -2.02900313e-01  1.39342507e-01  2.48190083e-01\n",
      "  7.11663419e-01  6.62248969e-01  4.07436806e-01  7.07044225e-01\n",
      "  6.96359216e-01  1.08898826e+00  3.78322379e-01  2.15321622e-01\n",
      "  7.68426470e-01 -7.74984724e-01  6.95236708e-01  1.17972475e+00\n",
      "  7.41470613e-02 -3.40462130e-01  7.58465920e-01 -7.95700024e-02\n",
      "  5.44269233e-01 -5.16846992e-01  4.12741185e-01  1.46761018e-01\n",
      "  6.41254567e-01  1.83413209e+00  1.03073957e-01  1.85759212e+00\n",
      "  8.23596030e-01  6.93561970e-01  1.43512519e+00  2.81660373e+00\n",
      "  5.38207320e-01  1.03728403e+00 -1.30040388e+00  7.66770712e-01\n",
      "  1.19687189e+00  3.40301631e-01  4.41972558e-01 -3.87218173e-01\n",
      "  3.10410655e-01  5.18343527e-01 -9.94554751e-01 -2.61212414e-02\n",
      "  2.29469798e-01  4.52144443e-01  1.23043643e+00 -4.88400716e-01\n",
      "  7.67913009e-01  7.15090625e-01  4.97520331e-02  2.17785084e-01\n",
      "  4.23902500e-01  7.59384998e-01  9.91040293e-01  5.69293070e-01\n",
      "  6.73049043e-01 -2.20525932e-01  1.37392427e-01  4.00454059e-01\n",
      " -9.66719281e-01 -6.82695023e-02  8.35828273e-01  1.27336093e+00\n",
      " -3.88753192e-02  7.62782437e-01  9.44107296e-02  6.83889664e-01\n",
      "  2.76157684e-01 -1.58798172e+00 -8.38861117e-01 -5.81035838e-01\n",
      " -7.21392718e-01 -5.26124291e-02  1.74380147e-01 -2.73105372e-01\n",
      " -5.49233250e-01  1.25607903e+00  1.82074908e-01 -4.99733668e-01\n",
      "  1.58911356e+00  3.48623580e-01 -6.19075876e-01  7.46527683e-01\n",
      "  2.94275142e-01  2.33312309e-01 -1.21216353e-02 -4.89980057e-01\n",
      " -3.16520570e-01 -6.56061244e-01  9.92386468e-01  3.91645836e-01\n",
      "  1.24462792e+00  5.00399751e-01 -1.22035311e-01  1.66192569e+00\n",
      "  4.84115165e-01 -1.02674619e-01  5.95785032e-01  1.22741306e-02\n",
      "  1.18988830e+00  1.94777777e+00  2.62658215e-01  3.69091560e-01\n",
      "  1.28544708e+00 -1.10465745e+00  3.09011298e-01 -2.60359942e+00\n",
      " -3.15485826e-01 -8.19270145e-02  1.40807849e-01  7.62226301e-01\n",
      "  1.79114741e-01 -1.51437048e-02  5.67092986e-01  6.33265708e-02\n",
      "  5.48127721e-01  2.23994850e-02 -1.05279512e-01  6.56213199e-01\n",
      " -5.17904407e-02  7.87663097e-01 -1.37065968e+00  7.97553266e-01\n",
      " -1.23174528e-01  2.76844982e-02  5.04621107e-01  5.35887327e-01\n",
      " -1.90593986e-01  9.98341006e-01 -2.93113216e-02 -2.21241760e-01\n",
      "  8.78176288e-03 -1.58803175e-01  2.15597736e-01  1.71417531e-01\n",
      "  4.20621902e-02  4.08868739e-01  2.51607835e-01 -8.11497958e-01\n",
      "  4.94779323e-01  1.13377854e-01 -1.20816811e-01  7.07300253e-01\n",
      "  8.58394025e-01  3.39994203e-01  5.99646962e-01  1.14336939e-02\n",
      "  1.31727428e-01 -2.51248298e-01 -5.97057896e-01  4.42049283e-01\n",
      "  3.59257773e+00  1.60293852e-01  7.39716328e-02 -7.91309265e-01\n",
      " -1.49075381e+00  3.25841346e-01  1.03147053e+00  7.69928019e-01\n",
      " -8.44056660e-01 -2.15447609e-01 -5.33804083e-01  7.12844887e-01\n",
      "  2.99808311e-01  3.10077159e-02  4.96375061e-01  1.04560030e+00\n",
      " -4.68588770e-03 -1.55695561e-01 -1.40585749e-01  1.45930028e-01\n",
      "  2.26196437e-01  2.54215432e-02  6.94026447e-01  1.49872356e-01\n",
      "  3.66193495e-01  9.10616975e-01 -7.12419843e-01  8.30076324e-01\n",
      "  1.65931065e-01 -5.91579574e-01  2.83554168e-01  7.68616285e-01\n",
      "  4.42784785e-01  1.70323197e-01  9.27347890e-02  2.07563540e-01\n",
      "  3.32379058e-01 -5.39833057e-01  4.97737621e-01  1.71472530e-01\n",
      "  3.74158455e-01  4.36722545e-02  4.46032576e-01  3.97667936e-01\n",
      "  7.36131353e-01 -7.46575606e-01 -3.25624057e-01 -2.13143683e-01\n",
      " -1.47768829e+00 -3.80014943e-02 -1.30863787e-01  2.37706903e-01\n",
      " -1.13219857e+00 -1.60930384e+00  7.14788735e-01 -9.85872773e-01\n",
      "  2.44983123e-02  2.01901668e-01  5.12757073e-01 -7.64713067e-02\n",
      "  2.28111257e-01 -2.67743025e-01  1.24606292e-01  5.99548500e-01\n",
      "  5.74317129e-02  1.34515566e-01 -4.25923098e-01  9.41770791e-01\n",
      "  3.12835698e-01 -1.30370829e-01  5.22249190e-01  4.15544650e-01\n",
      " -9.50398044e-01 -8.47007104e-03  2.90091019e-01  4.55479578e-01\n",
      " -6.69316078e-01  9.66871557e-01 -5.76137448e-01 -1.42673331e+00\n",
      " -3.14825197e-02  4.03139915e-01 -5.01646670e-01 -5.16225156e-01\n",
      "  1.80422829e+00  8.31209565e-01  6.16472154e-01  4.52774854e-01\n",
      " -6.65773495e-01  5.17805102e-01  1.09963392e+00  5.93205594e-01\n",
      "  4.84188926e-02  3.04966461e-01 -2.60403732e-01  7.01961493e-01\n",
      "  8.08191415e-01  5.35115688e-01  1.84698190e-01  4.33261718e-01\n",
      "  8.92208772e-02  6.72657141e-01  2.73216880e+00 -2.93149787e-01\n",
      "  3.12264241e-01 -1.00133237e+00  5.90485480e-01  4.80130342e-01\n",
      "  5.64805650e-01 -1.90479019e+00  1.35744575e-01 -6.40579867e-01\n",
      "  5.95502881e-01  1.00404320e+00 -4.76080052e-01  1.07315737e+00\n",
      " -2.31710590e-02  1.05157601e+00 -8.01079849e-01  2.12836753e-01\n",
      " -9.16429580e-01 -6.87740804e-04 -8.83429086e-01 -5.72249458e-01\n",
      "  6.84855434e-01  7.72205919e-01 -7.97720016e-01 -1.31393365e-01\n",
      "  3.65614940e-01 -6.04379967e-01  6.09378311e-01 -1.01454172e+00\n",
      " -1.10087970e+00  2.57637695e-01 -2.95482779e-01  2.06134292e-01\n",
      " -1.01508140e-01  6.55662019e-01 -1.12437667e+00 -1.68555572e+00\n",
      "  1.10900778e-01  3.20698032e-01  1.49845236e+00 -3.20152270e+00\n",
      "  7.43273644e-01 -3.45344760e-01]\n"
     ]
    }
   ],
   "source": [
    "# Initialize swarm\n",
    "options = {'c1': 0.5, 'c2': 0.3, 'w': 0.9, 'k': 10, 'p': 2}\n",
    "\n",
    "# Call instance of PSO\n",
    "dimensions = (n_inputs * n_hidden) + (n_hidden * n_classes) + n_hidden + n_classes\n",
    "optimizer = ps.single.LocalBestPSO(n_particles=20, dimensions=dimensions, options=options)\n",
    "\n",
    "# Perform optimization\n",
    "cost, pos = optimizer.optimize(f, iters=1000) #fungsi verbose dan print step error\n"
   ]
  },
  {
   "cell_type": "code",
   "execution_count": 13,
   "metadata": {},
   "outputs": [
    {
     "data": {
      "image/png": "[encoded data removed]",
      "text/plain": [
       "<Figure size 720x576 with 1 Axes>"
      ]
     },
     "metadata": {
      "needs_background": "light"
     },
     "output_type": "display_data"
    }
   ],
   "source": [
    "from pyswarms.utils.plotters import plot_cost_history\n",
    "plot_cost_history(cost_history=optimizer.cost_history)\n",
    "plt.show()"
   ]
  },
  {
   "cell_type": "code",
   "execution_count": 14,
   "metadata": {},
   "outputs": [
    {
     "data": {
      "text/plain": [
       "(1390, 20)"
      ]
     },
     "execution_count": 14,
     "metadata": {},
     "output_type": "execute_result"
    }
   ],
   "source": [
    "train_data.shape"
   ]
  },
  {
   "cell_type": "code",
   "execution_count": 15,
   "metadata": {},
   "outputs": [],
   "source": [
    "np.savetxt('hyperparameter.csv', pos, delimiter=\",\")"
   ]
  },
  {
   "cell_type": "code",
   "execution_count": 16,
   "metadata": {},
   "outputs": [],
   "source": [
    "#kurang test file\n",
    "def predict(a, pos): #a = data training atau data test\n",
    "\n",
    "    # Neural network architecture\n",
    "    global n_inputs\n",
    "    global n_hidden\n",
    "    global n_classes\n",
    "\n",
    "    w1_total = n_inputs*n_hidden\n",
    "    b1_total = w1_total+n_hidden\n",
    "    w2_total = b1_total+(n_hidden*n_classes)\n",
    "    b2_total = w2_total+n_classes\n",
    "    \n",
    "    # Roll-back the weights and biases\n",
    "    W1 = pos[0:w1_total].reshape((n_inputs,n_hidden))\n",
    "    b1 = pos[w1_total:b1_total].reshape((n_hidden,))\n",
    "    W2 = pos[b1_total:w2_total].reshape((n_hidden,n_classes))\n",
    "    b2 = pos[w2_total:b2_total].reshape((n_classes,))\n",
    "    save_params2(W1,b1,W2,b2)\n",
    "    # Perform forward propagation\n",
    "    z1 = a.dot(W1) + b1  # Pre-activation in Layer 1\n",
    "    a1 = np.tanh(z1)     # fungsi aktivasi belum fix\n",
    "    z2 = a1.dot(W2) + b2 # Pre-activation in Layer 2\n",
    "    logits = z2          # Logits for Layer 2\n",
    "\n",
    "    y_pred = np.argmax(logits, axis=1)\n",
    "    return y_pred"
   ]
  },
  {
   "cell_type": "code",
   "execution_count": 17,
   "metadata": {
    "colab": {},
    "colab_type": "code",
    "id": "qlng-LCVT-Di",
    "scrolled": true
   },
   "outputs": [
    {
     "data": {
      "text/plain": [
       "array([1, 1, 0, 0, 1, 0, 0, 0, 0, 0, 0, 0, 1, 1, 0, 0, 0, 0, 0, 0, 0, 0,\n",
       "       0, 1, 1, 0, 0, 0, 0, 0, 0, 0, 0, 1, 0, 0, 0, 0, 1, 0, 0, 1, 1, 0,\n",
       "       0, 0, 0, 0, 0, 0, 1, 0, 0, 0, 0, 1, 1, 1, 0, 0, 0, 0, 0, 0, 0, 0,\n",
       "       0, 0, 0, 0, 0, 0, 1, 0, 0, 0, 1, 0, 0, 0, 1, 0, 0, 0, 1, 0, 1, 0,\n",
       "       0, 0, 0, 0, 0, 0, 1, 0, 1, 0, 0, 0, 1, 0, 0, 0, 0, 1, 0, 0, 0, 0,\n",
       "       0, 0, 0, 0, 0, 1, 0, 1, 0, 1, 0, 1, 0, 0, 0, 0, 1, 0, 0, 0, 0, 0,\n",
       "       0, 0, 0, 0, 0, 0, 1, 0, 1, 0, 1, 0, 0, 1, 0, 0, 0, 0, 0, 0, 0, 0,\n",
       "       0, 0, 0, 1, 0, 0, 0, 1, 0, 1, 0, 0, 0, 0, 1, 0, 1, 0, 0, 0, 0, 0,\n",
       "       1, 1, 0, 0, 0, 1, 0, 0, 0, 0, 0, 1, 1, 0, 0, 0, 1, 0, 1, 0, 0, 0,\n",
       "       0, 1, 0, 1, 0, 1, 0, 1, 0, 0, 0, 1, 0, 0, 0, 1, 0, 1, 1, 0, 1, 0,\n",
       "       0, 0, 0, 0, 1, 0, 0, 0, 0, 0, 1, 0, 0, 0, 0, 1, 0, 1, 0, 0, 1, 0,\n",
       "       1, 0, 0, 0, 0, 0, 0, 0, 0, 1, 1, 0, 1, 0, 0, 1, 0, 1, 1, 1, 0, 0,\n",
       "       0, 0, 1, 0, 0, 0, 0, 0, 0, 0, 0, 0, 0, 0, 1, 1, 1, 0, 0, 0, 0, 0,\n",
       "       0, 0, 0, 1, 0, 0, 1, 0, 0, 0, 1, 1, 0, 0, 0, 0, 0, 0, 0, 0, 0, 1,\n",
       "       1, 0, 0, 1, 0, 0, 0, 0, 1, 0, 0, 0, 0, 0, 0, 0, 1, 0, 0, 1, 0, 0,\n",
       "       0, 0, 0, 0, 0, 1, 1, 0, 0, 0, 1, 0, 0, 1, 0, 0, 0], dtype=int64)"
      ]
     },
     "execution_count": 17,
     "metadata": {},
     "output_type": "execute_result"
    }
   ],
   "source": [
    "predict(validasi_data,pos)"
   ]
  },
  {
   "cell_type": "code",
   "execution_count": 18,
   "metadata": {},
   "outputs": [
    {
     "data": {
      "text/plain": [
       "array([[996,  71],\n",
       "       [ 94, 229]], dtype=int64)"
      ]
     },
     "execution_count": 18,
     "metadata": {},
     "output_type": "execute_result"
    }
   ],
   "source": [
    "cm_train = confusion_matrix(output_train_data, predict(train_data, pos))\n",
    "cm_validasi = confusion_matrix(output_validasi_data, predict(validasi_data, pos))\n",
    "cm_train"
   ]
  },
  {
   "cell_type": "code",
   "execution_count": 19,
   "metadata": {},
   "outputs": [
    {
     "data": {
      "text/plain": [
       "array([[248,  28],\n",
       "       [ 14,  57]], dtype=int64)"
      ]
     },
     "execution_count": 19,
     "metadata": {},
     "output_type": "execute_result"
    }
   ],
   "source": [
    "cm_validasi"
   ]
  },
  {
   "cell_type": "code",
   "execution_count": 20,
   "metadata": {},
   "outputs": [
    {
     "name": "stdout",
     "output_type": "stream",
     "text": [
      "Normalized confusion matrix\n",
      "[[0.93 0.07]\n",
      " [0.29 0.71]]\n",
      "Normalized confusion matrix\n",
      "[[0.9 0.1]\n",
      " [0.2 0.8]]\n"
     ]
    },
    {
     "data": {
      "image/png": "[encoded data removed]",
      "text/plain": [
       "<Figure size 432x288 with 2 Axes>"
      ]
     },
     "metadata": {
      "needs_background": "light"
     },
     "output_type": "display_data"
    },
    {
     "data": {
      "image/png": "[encoded data removed]",
      "text/plain": [
       "<Figure size 432x288 with 2 Axes>"
      ]
     },
     "metadata": {
      "needs_background": "light"
     },
     "output_type": "display_data"
    }
   ],
   "source": [
    "class_names = np.array(['non-lymphoblast',\"lymphoblast\"])\n",
    "np.set_printoptions(precision=2)\n",
    "cm_t = plot_confusion_matrix(output_train_data, predict(train_data, pos), classes=class_names, normalize=True,\n",
    "                      title='Normalized confusion matrix')\n",
    "cm_v = plot_confusion_matrix(output_validasi_data, predict(validasi_data, pos), classes=class_names, normalize=True,\n",
    "                      title='Normalized confusion matrix')\n",
    "plt.show()"
   ]
  },
  {
   "cell_type": "code",
   "execution_count": 21,
   "metadata": {},
   "outputs": [],
   "source": [
    "cm_t.figure.savefig('rev3_train2.png')\n",
    "cm_v.figure.savefig('rev3_validasi2.png')"
   ]
  },
  {
   "cell_type": "code",
   "execution_count": 22,
   "metadata": {},
   "outputs": [
    {
     "data": {
      "text/plain": [
       "array([0, 1, 0, ..., 1, 0, 0], dtype=int64)"
      ]
     },
     "execution_count": 22,
     "metadata": {},
     "output_type": "execute_result"
    }
   ],
   "source": [
    "predict(train_data, pos)"
   ]
  },
  {
   "cell_type": "code",
   "execution_count": 23,
   "metadata": {},
   "outputs": [
    {
     "data": {
      "text/plain": [
       "array([1, 1, 0, 0, 1, 0, 0, 0, 0, 0, 0, 0, 1, 1, 0, 0, 0, 0, 0, 0, 0, 0,\n",
       "       0, 1, 1, 0, 0, 0, 0, 0, 0, 0, 0, 1, 0, 0, 0, 0, 1, 0, 0, 1, 1, 0,\n",
       "       0, 0, 0, 0, 0, 0, 1, 0, 0, 0, 0, 1, 1, 1, 0, 0, 0, 0, 0, 0, 0, 0,\n",
       "       0, 0, 0, 0, 0, 0, 1, 0, 0, 0, 1, 0, 0, 0, 1, 0, 0, 0, 1, 0, 1, 0,\n",
       "       0, 0, 0, 0, 0, 0, 1, 0, 1, 0, 0, 0, 1, 0, 0, 0, 0, 1, 0, 0, 0, 0,\n",
       "       0, 0, 0, 0, 0, 1, 0, 1, 0, 1, 0, 1, 0, 0, 0, 0, 1, 0, 0, 0, 0, 0,\n",
       "       0, 0, 0, 0, 0, 0, 1, 0, 1, 0, 1, 0, 0, 1, 0, 0, 0, 0, 0, 0, 0, 0,\n",
       "       0, 0, 0, 1, 0, 0, 0, 1, 0, 1, 0, 0, 0, 0, 1, 0, 1, 0, 0, 0, 0, 0,\n",
       "       1, 1, 0, 0, 0, 1, 0, 0, 0, 0, 0, 1, 1, 0, 0, 0, 1, 0, 1, 0, 0, 0,\n",
       "       0, 1, 0, 1, 0, 1, 0, 1, 0, 0, 0, 1, 0, 0, 0, 1, 0, 1, 1, 0, 1, 0,\n",
       "       0, 0, 0, 0, 1, 0, 0, 0, 0, 0, 1, 0, 0, 0, 0, 1, 0, 1, 0, 0, 1, 0,\n",
       "       1, 0, 0, 0, 0, 0, 0, 0, 0, 1, 1, 0, 1, 0, 0, 1, 0, 1, 1, 1, 0, 0,\n",
       "       0, 0, 1, 0, 0, 0, 0, 0, 0, 0, 0, 0, 0, 0, 1, 1, 1, 0, 0, 0, 0, 0,\n",
       "       0, 0, 0, 1, 0, 0, 1, 0, 0, 0, 1, 1, 0, 0, 0, 0, 0, 0, 0, 0, 0, 1,\n",
       "       1, 0, 0, 1, 0, 0, 0, 0, 1, 0, 0, 0, 0, 0, 0, 0, 1, 0, 0, 1, 0, 0,\n",
       "       0, 0, 0, 0, 0, 1, 1, 0, 0, 0, 1, 0, 0, 1, 0, 0, 0], dtype=int64)"
      ]
     },
     "execution_count": 23,
     "metadata": {},
     "output_type": "execute_result"
    }
   ],
   "source": [
    "predict(validasi_data, pos)"
   ]
  },
  {
   "cell_type": "code",
   "execution_count": 24,
   "metadata": {
    "scrolled": true
   },
   "outputs": [
    {
     "data": {
      "text/plain": [
       "array([1., 0., 0., 1., 0., 0., 0., 0., 0., 0., 0., 1., 1., 0., 1., 0., 0.,\n",
       "       0., 0., 1., 1., 0., 0., 0., 0., 0., 0., 0., 1., 1., 0., 1., 1., 1.,\n",
       "       1., 0., 0., 0., 0., 0., 1., 0., 0., 1., 0., 1., 0., 0., 0., 1., 0.,\n",
       "       1., 0., 0., 0., 1., 0., 0., 1., 0., 0., 0., 0., 1., 1., 0., 0., 0.,\n",
       "       0., 1., 0., 0., 1., 0., 0., 0., 0., 1., 0., 0., 0., 0., 0., 1., 0.,\n",
       "       1., 1., 0., 1., 0., 1., 0., 0., 0., 0., 0., 0., 1., 0., 0., 1., 0.,\n",
       "       0., 1., 0., 0., 0., 0., 0., 0., 0., 0., 0., 0., 1., 0., 1., 0., 1.,\n",
       "       0., 1., 0., 0., 0., 0., 1., 1., 0., 0., 0., 0., 0., 1., 0., 0., 0.,\n",
       "       0., 0., 0., 0., 0., 0., 1., 1., 0., 1., 0., 0., 0., 1., 0., 1., 0.,\n",
       "       0., 0., 1., 0., 0., 1., 0., 0., 0., 1., 0., 0., 0., 0., 0., 0., 0.,\n",
       "       0., 1., 0., 0., 0., 0., 1., 0., 0., 1., 0., 0., 0., 1., 1., 0., 0.,\n",
       "       0., 0., 0., 0., 0., 0., 0., 0., 1., 1., 1., 0., 0., 0., 0., 0., 0.,\n",
       "       0., 0., 0., 1., 0., 0., 1., 1., 0., 0., 0., 0., 0., 0., 1., 0., 0.,\n",
       "       0., 0., 0., 0., 1., 1., 0., 1., 0., 1., 1., 0., 0., 1., 0., 0., 0.,\n",
       "       1., 0., 0., 0., 0., 0., 0., 1.])"
      ]
     },
     "execution_count": 24,
     "metadata": {},
     "output_type": "execute_result"
    }
   ],
   "source": [
    "#### data testing\n",
    "data_test =  pd.read_csv('rev3_data_testing_NN1.csv', sep=',',header=None)\n",
    "data_test = data_test.values\n",
    "len_data_test = np.size(data_test, axis=1)-1\n",
    "data_test[:,31]"
   ]
  },
  {
   "cell_type": "code",
   "execution_count": 25,
   "metadata": {},
   "outputs": [
    {
     "data": {
      "text/plain": [
       "array([1, 0, 0, 1, 0, 0, 0, 0, 0, 0, 0, 1, 1, 0, 1, 0, 0, 0, 0, 1, 1, 0,\n",
       "       0, 0, 0, 0, 0, 0, 1, 1, 0, 1, 1, 1, 1, 0, 0, 0, 0, 0, 1, 0, 0, 1,\n",
       "       0, 1, 0, 0, 0, 1, 0, 1, 0, 0, 0, 1, 0, 0, 1, 0, 0, 0, 0, 1, 1, 0,\n",
       "       0, 0, 0, 1, 0, 0, 1, 0, 0, 0, 0, 1, 0, 0, 0, 0, 0, 1, 0, 1, 1, 0,\n",
       "       1, 0, 1, 0, 0, 0, 0, 0, 0, 1, 0, 0, 1, 0, 0, 1, 0, 0, 0, 0, 0, 0,\n",
       "       0, 0, 0, 0, 1, 0, 1, 0, 1, 0, 1, 0, 0, 0, 0, 1, 1, 0, 0, 0, 0, 0,\n",
       "       1, 0, 0, 0, 0, 0, 0, 0, 0, 0, 1, 1, 0, 1, 0, 0, 0, 1, 0, 1, 0, 0,\n",
       "       0, 1, 0, 0, 1, 0, 0, 0, 1, 0, 0, 0, 0, 0, 0, 0, 0, 1, 0, 0, 0, 0,\n",
       "       1, 0, 0, 1, 0, 0, 0, 1, 1, 0, 0, 0, 0, 0, 0, 0, 0, 0, 0, 1, 1, 1,\n",
       "       0, 0, 0, 0, 0, 0, 0, 0, 0, 1, 0, 0, 1, 1, 0, 0, 0, 0, 0, 0, 1, 0,\n",
       "       0, 0, 0, 0, 0, 1, 1, 0, 1, 0, 1, 1, 0, 0, 1, 0, 0, 0, 1, 0, 0, 0,\n",
       "       0, 0, 0, 1])"
      ]
     },
     "execution_count": 25,
     "metadata": {},
     "output_type": "execute_result"
    }
   ],
   "source": [
    "output_test_data = data_test[:,31] #output aja limfo\n",
    "output_test_data = np.int_(output_test_data)\n",
    "output_test_data"
   ]
  },
  {
   "cell_type": "code",
   "execution_count": 26,
   "metadata": {},
   "outputs": [
    {
     "data": {
      "text/plain": [
       "array([[0.52, 0.41, 0.69, ..., 0.75, 0.83, 0.88],\n",
       "       [0.54, 0.29, 0.45, ..., 0.8 , 0.73, 0.75],\n",
       "       [0.49, 0.32, 0.97, ..., 0.58, 0.58, 0.86],\n",
       "       ...,\n",
       "       [0.25, 0.14, 0.92, ..., 0.85, 0.69, 0.73],\n",
       "       [0.23, 0.15, 0.19, ..., 0.63, 0.54, 0.59],\n",
       "       [0.62, 0.32, 0.79, ..., 0.91, 0.91, 0.95]])"
      ]
     },
     "execution_count": 26,
     "metadata": {},
     "output_type": "execute_result"
    }
   ],
   "source": [
    "data_test = data_test[:,:29]\n",
    "data_test = np.delete(data_test, a ,axis=1) #data fitur yang udah terseleksi\n",
    "#drop fitur\n",
    "data_test"
   ]
  },
  {
   "cell_type": "code",
   "execution_count": 27,
   "metadata": {
    "colab": {},
    "colab_type": "code",
    "id": "k6QpPw80T-Dz"
   },
   "outputs": [
    {
     "data": {
      "text/plain": [
       "array([[152,  26],\n",
       "       [ 13,  55]], dtype=int64)"
      ]
     },
     "execution_count": 27,
     "metadata": {},
     "output_type": "execute_result"
    }
   ],
   "source": [
    "#cm_train = confusion_matrix(output_train_data, predict(train_data, pos))\n",
    "#cm_validasi = confusion_matrix(output_validasi_data, predict(validasi_data, pos))\n",
    "cm_test = confusion_matrix(output_test_data, predict(data_test, pos))\n",
    "cm_test"
   ]
  },
  {
   "cell_type": "code",
   "execution_count": 28,
   "metadata": {},
   "outputs": [
    {
     "name": "stdout",
     "output_type": "stream",
     "text": [
      "Normalized confusion matrix\n",
      "[[0.85 0.15]\n",
      " [0.19 0.81]]\n"
     ]
    },
    {
     "data": {
      "image/png": "[encoded data removed]",
      "text/plain": [
       "<Figure size 432x288 with 2 Axes>"
      ]
     },
     "metadata": {
      "needs_background": "light"
     },
     "output_type": "display_data"
    }
   ],
   "source": [
    "class_names = np.array(['non-lymphoblast',\"lymphoblast\"])\n",
    "np.set_printoptions(precision=2)\n",
    "cm_test2 = plot_confusion_matrix(output_test_data, predict(data_test, pos), classes=class_names, normalize=True,\n",
    "                      title='Normalized confusion matrix')\n",
    "plt.show()"
   ]
  },
  {
   "cell_type": "code",
   "execution_count": 29,
   "metadata": {},
   "outputs": [],
   "source": [
    "cm_test2.figure.savefig('rev3_test2.png')"
   ]
  },
  {
   "cell_type": "code",
   "execution_count": 30,
   "metadata": {},
   "outputs": [
    {
     "data": {
      "text/plain": [
       "array([1, 0, 0, 1, 0, 0, 0, 0, 0, 0, 0, 1, 1, 0, 1, 0, 0, 0, 0, 1, 1, 0,\n",
       "       0, 0, 0, 0, 0, 0, 1, 1, 0, 1, 1, 1, 1, 0, 0, 0, 0, 0, 1, 0, 0, 1,\n",
       "       0, 1, 0, 0, 0, 1, 0, 1, 0, 0, 0, 1, 0, 0, 1, 0, 0, 0, 0, 1, 1, 0,\n",
       "       0, 0, 0, 1, 0, 0, 1, 0, 0, 0, 0, 1, 0, 0, 0, 0, 0, 1, 0, 1, 1, 0,\n",
       "       1, 0, 1, 0, 0, 0, 0, 0, 0, 1, 0, 0, 1, 0, 0, 1, 0, 0, 0, 0, 0, 0,\n",
       "       0, 0, 0, 0, 1, 0, 1, 0, 1, 0, 1, 0, 0, 0, 0, 1, 1, 0, 0, 0, 0, 0,\n",
       "       1, 0, 0, 0, 0, 0, 0, 0, 0, 0, 1, 1, 0, 1, 0, 0, 0, 1, 0, 1, 0, 0,\n",
       "       0, 1, 0, 0, 1, 0, 0, 0, 1, 0, 0, 0, 0, 0, 0, 0, 0, 1, 0, 0, 0, 0,\n",
       "       1, 0, 0, 1, 0, 0, 0, 1, 1, 0, 0, 0, 0, 0, 0, 0, 0, 0, 0, 1, 1, 1,\n",
       "       0, 0, 0, 0, 0, 0, 0, 0, 0, 1, 0, 0, 1, 1, 0, 0, 0, 0, 0, 0, 1, 0,\n",
       "       0, 0, 0, 0, 0, 1, 1, 0, 1, 0, 1, 1, 0, 0, 1, 0, 0, 0, 1, 0, 0, 0,\n",
       "       0, 0, 0, 1])"
      ]
     },
     "execution_count": 30,
     "metadata": {},
     "output_type": "execute_result"
    }
   ],
   "source": [
    "output_test_data"
   ]
  },
  {
   "cell_type": "code",
   "execution_count": 31,
   "metadata": {},
   "outputs": [
    {
     "name": "stdout",
     "output_type": "stream",
     "text": [
      "Presisi data training limfoblas :  0.7633333333333333\n",
      "Recall data training limfoblas (sensitivitas) :  0.7089783281733746\n",
      "Presisi rerata data training :  0.8385474006116208\n",
      "Presisi rerata data training :  0.8212183112282055\n",
      "Akurasi data training :  0.8812949640287769\n",
      "F1 Score data training :  0.829792392146407\n"
     ]
    }
   ],
   "source": [
    "print(\"Presisi data training limfoblas : \", precision(1,cm_train))\n",
    "print(\"Recall data training limfoblas (sensitivitas) : \", recall(1,cm_train))\n",
    "print(\"Presisi rerata data training : \", precision_macro_average(cm_train))\n",
    "print(\"Presisi rerata data training : \", recall_macro_average(cm_train))\n",
    "print(\"Akurasi data training : \", accuracy(cm_train))\n",
    "print(\"F1 Score data training : \", f1_score(precision_macro_average(cm_train),recall_macro_average(cm_train)))"
   ]
  },
  {
   "cell_type": "code",
   "execution_count": 32,
   "metadata": {},
   "outputs": [
    {
     "name": "stdout",
     "output_type": "stream",
     "text": [
      "Presisi data validasi limfoblas :  0.6705882352941176\n",
      "Recall data validasi limfoblas :  0.8028169014084507\n",
      "Presisi rerata data validasi :  0.8085765603951505\n",
      "Presisi rerata data validasi :  0.850683813023066\n",
      "Akurasi data validasi :  0.8789625360230547\n",
      "F1 Score data validasi :  0.8290959062693787\n"
     ]
    }
   ],
   "source": [
    "print(\"Presisi data validasi limfoblas : \", precision(1,cm_validasi))\n",
    "print(\"Recall data validasi limfoblas : \", recall(1,cm_validasi))\n",
    "print(\"Presisi rerata data validasi : \", precision_macro_average(cm_validasi))\n",
    "print(\"Presisi rerata data validasi : \", recall_macro_average(cm_validasi))\n",
    "print(\"Akurasi data validasi : \", accuracy(cm_validasi))\n",
    "print(\"F1 Score data validasi : \", f1_score(precision_macro_average(cm_validasi),recall_macro_average(cm_validasi)))"
   ]
  },
  {
   "cell_type": "code",
   "execution_count": 33,
   "metadata": {
    "scrolled": false
   },
   "outputs": [
    {
     "name": "stdout",
     "output_type": "stream",
     "text": [
      "Presisi data test limfoblas :  0.6790123456790124\n",
      "Recall data test limfoblas :  0.8088235294117647\n",
      "Presisi rerata data test :  0.8001122334455668\n",
      "Presisi rerata data test :  0.8313780568407139\n",
      "Akurasi data test :  0.8414634146341463\n",
      "F1 Score data test :  0.8154455565650175\n"
     ]
    }
   ],
   "source": [
    "print(\"Presisi data test limfoblas : \", precision(1,cm_test))\n",
    "print(\"Recall data test limfoblas : \", recall(1,cm_test))\n",
    "print(\"Presisi rerata data test : \", precision_macro_average(cm_test))\n",
    "print(\"Presisi rerata data test : \", recall_macro_average(cm_test))\n",
    "print(\"Akurasi data test : \", accuracy(cm_test))\n",
    "print(\"F1 Score data test : \", f1_score(precision_macro_average(cm_test),recall_macro_average(cm_test)))"
   ]
  },
  {
   "cell_type": "code",
   "execution_count": 34,
   "metadata": {},
   "outputs": [
    {
     "data": {
      "text/plain": [
       "[-0.10115540996019141,\n",
       " -1.5751509996469137,\n",
       " 0.666145774157595,\n",
       " 0.5944444912341527,\n",
       " 0.47632493216199207,\n",
       " -1.3932423615533103,\n",
       " 1.2357444366563723,\n",
       " 1.9014740351177906,\n",
       " -0.3128406320895639,\n",
       " -0.28981146318331585,\n",
       " 0.46690399093371987,\n",
       " 0.346312395239515,\n",
       " 0.28198895575202965,\n",
       " -0.4982423258226189,\n",
       " 0.5006281476651868,\n",
       " 0.6945757997668591,\n",
       " 0.999545803385308,\n",
       " 0.35469888240158554,\n",
       " -0.27032345044167944,\n",
       " -2.137458666363672,\n",
       " -0.2813250500128719,\n",
       " 0.5043265240898467,\n",
       " 0.9366804932476499,\n",
       " 0.5024713827172598,\n",
       " 1.0037042317342706,\n",
       " 0.7742821229051554,\n",
       " 1.22170706615487,\n",
       " 0.3669479737747284,\n",
       " -0.796268448635983,\n",
       " 0.5284025225393472,\n",
       " -0.6517358587937792,\n",
       " 0.9682990533283868,\n",
       " -0.6707578951810118,\n",
       " 0.5794993763826439,\n",
       " 0.8052684639107953,\n",
       " 0.20615674060960087,\n",
       " -0.5235223596469923,\n",
       " -1.9504239843717674,\n",
       " -0.7942676928930285,\n",
       " 0.32182954375096157,\n",
       " -1.0486016328823962,\n",
       " 0.5588222514847023,\n",
       " 0.6015232773206315,\n",
       " 0.1774847931018906,\n",
       " 0.33795381679955755,\n",
       " 0.5185854265505829,\n",
       " 0.6307936528274792,\n",
       " 0.3178911682914634,\n",
       " -0.3396813756521262,\n",
       " 1.7243619068060188,\n",
       " 0.05029745263779356,\n",
       " 0.3592358296349491,\n",
       " -0.042665778960165206,\n",
       " 0.5421703553801944,\n",
       " -0.1296961843524908,\n",
       " -0.004564999059751788,\n",
       " -0.4153115015990085,\n",
       " 0.30090486047607123,\n",
       " 0.7146196661432724,\n",
       " -0.497653616865116,\n",
       " 0.3975644583372385,\n",
       " 0.2654623113081867,\n",
       " -0.1811462203243378,\n",
       " 0.12361039022168803,\n",
       " 0.9314929697332885,\n",
       " -0.207152689578361,\n",
       " 0.3600890111993875,\n",
       " 0.7644660093240253,\n",
       " -0.36213962963207413,\n",
       " -0.34401192884656223,\n",
       " 0.792394492991123,\n",
       " 1.3103632211887555,\n",
       " 0.7808301218822425,\n",
       " 0.14624187269370686,\n",
       " -0.43781310204301466,\n",
       " 1.133056704056719,\n",
       " 0.5323104016957194,\n",
       " 0.12182071370758657,\n",
       " 0.5247729708361273,\n",
       " 0.7556373056226418,\n",
       " 0.4171872502542254,\n",
       " -0.34027002235519954,\n",
       " 0.672697999494757,\n",
       " 0.7866674217492643,\n",
       " 0.6525309103891286,\n",
       " 0.2870652012443313,\n",
       " -0.13024418256509718,\n",
       " 0.20982857530376378,\n",
       " 1.4503030316882384,\n",
       " 0.4645867452883988,\n",
       " -0.2892710652463608,\n",
       " 2.408330456766842,\n",
       " 0.12500887462380117,\n",
       " 0.45001029672896187,\n",
       " -0.03825814684571643,\n",
       " 0.7755889483733293,\n",
       " -0.05119980591425091,\n",
       " 0.5288626257333651,\n",
       " -0.37662143263947084,\n",
       " 0.891144120315365,\n",
       " -0.3438482012677498,\n",
       " 0.2916783150719116,\n",
       " 0.33669864173071934,\n",
       " 1.1074096281113661,\n",
       " 0.17370763503034836,\n",
       " 0.18382301587857824,\n",
       " 0.9918350037272013,\n",
       " 0.34708663930257505,\n",
       " -0.7823900085622953,\n",
       " 0.08344785390287371,\n",
       " 1.3758829077910177,\n",
       " 0.684857290825513,\n",
       " 0.31770050789800147,\n",
       " 1.0400252705394692,\n",
       " -0.512065086750786,\n",
       " -0.2550961469913125,\n",
       " -0.9197546471142575,\n",
       " 0.07042863816147742,\n",
       " 0.7543122727301734,\n",
       " -1.4516949881663732,\n",
       " -0.983021417837052,\n",
       " -0.5798625798419635,\n",
       " -0.48342377499498235,\n",
       " 0.1967959195307471,\n",
       " -0.12158764773691114,\n",
       " -0.34169855104079033,\n",
       " 0.9733069951842787,\n",
       " 0.2712293400695818,\n",
       " 0.789600532487458,\n",
       " -1.1025615458467968,\n",
       " 0.15672244364039328,\n",
       " -0.26490124772739226,\n",
       " 0.8712522457066436,\n",
       " 0.894383510532377,\n",
       " 0.4158420943813404,\n",
       " 0.19196163465067753,\n",
       " -0.2715124775550049,\n",
       " 0.1138468169379509,\n",
       " -0.3863212722210898,\n",
       " 0.4780604211095902,\n",
       " 1.1670516119504324,\n",
       " -2.6334442420084883,\n",
       " -0.061507483100279724,\n",
       " 0.6821253677141605,\n",
       " -1.189749927264456,\n",
       " -0.00795359356501077,\n",
       " -1.399400740823892,\n",
       " 1.0092370214617739,\n",
       " 0.04107529481100531,\n",
       " 0.08237519838804423,\n",
       " -0.15146636882076833,\n",
       " -0.07363634109544671,\n",
       " 0.5834104019340883,\n",
       " -0.04649750091120873,\n",
       " -0.859835025392495,\n",
       " 0.2683069373204272,\n",
       " 0.6566223982039033,\n",
       " -0.08111070240873933,\n",
       " 0.3937416330016776,\n",
       " -0.1920924208431719,\n",
       " 0.6600704626830877,\n",
       " 0.04217238844324943,\n",
       " 0.5973327518673021,\n",
       " 1.0612448993844952,\n",
       " 0.2175224626347572,\n",
       " -0.20290031333706285,\n",
       " 0.13934250746332147,\n",
       " 0.24819008265728215,\n",
       " 0.7116634189587943,\n",
       " 0.6622489694275429,\n",
       " 0.40743680619005745,\n",
       " 0.7070442251499834,\n",
       " 0.696359215543521,\n",
       " 1.0889882613342825,\n",
       " 0.3783223791490155,\n",
       " 0.21532162194968368,\n",
       " 0.7684264698899056,\n",
       " -0.7749847238535237,\n",
       " 0.6952367075594855,\n",
       " 1.1797247492897602,\n",
       " 0.0741470612552184,\n",
       " -0.3404621303567611,\n",
       " 0.7584659198954045,\n",
       " -0.07957000239489566,\n",
       " 0.5442692328746992,\n",
       " -0.5168469924900534,\n",
       " 0.4127411852919091,\n",
       " 0.14676101778173792,\n",
       " 0.6412545674776218,\n",
       " 1.8341320856643306,\n",
       " 0.10307395736128737,\n",
       " 1.8575921226512202,\n",
       " 0.8235960298754931,\n",
       " 0.6935619700549822,\n",
       " 1.435125191726573,\n",
       " 2.8166037342192825,\n",
       " 0.538207319746121,\n",
       " 1.0372840315098972,\n",
       " -1.300403880368704,\n",
       " 0.766770712078344,\n",
       " 1.1968718908530223,\n",
       " 0.34030163121476453,\n",
       " 0.441972558402841,\n",
       " -0.3872181731212323,\n",
       " 0.3104106548611626,\n",
       " 0.518343526913321,\n",
       " -0.9945547512224682,\n",
       " -0.026121241429722022,\n",
       " 0.22946979790883573,\n",
       " 0.45214444300918494,\n",
       " 1.2304364312215552,\n",
       " -0.48840071556591796,\n",
       " 0.7679130090717236,\n",
       " 0.7150906249250943,\n",
       " 0.049752033142498944,\n",
       " 0.21778508440561223,\n",
       " 0.423902499823729,\n",
       " 0.7593849979478402,\n",
       " 0.9910402926866556,\n",
       " 0.5692930698223674,\n",
       " 0.6730490429963647,\n",
       " -0.22052593195528208,\n",
       " 0.13739242701338608,\n",
       " 0.40045405881760315,\n",
       " -0.9667192808726487,\n",
       " -0.06826950225440881,\n",
       " 0.835828272840143,\n",
       " 1.2733609268235744,\n",
       " -0.03887531923919179,\n",
       " 0.7627824371898623,\n",
       " 0.09441072961290081,\n",
       " 0.6838896641922916,\n",
       " 0.2761576839803409,\n",
       " -1.5879817197425374,\n",
       " -0.8388611165808476,\n",
       " -0.581035837566404,\n",
       " -0.7213927181050518,\n",
       " -0.05261242910699848,\n",
       " 0.17438014703976903,\n",
       " -0.2731053723987073,\n",
       " -0.5492332495052755,\n",
       " 1.2560790254029361,\n",
       " 0.1820749076577006,\n",
       " -0.4997336684009004,\n",
       " 1.5891135603542257,\n",
       " 0.3486235797157327,\n",
       " -0.619075876145787,\n",
       " 0.7465276829436936,\n",
       " 0.29427514183928377,\n",
       " 0.23331230914928175,\n",
       " -0.012121635315022533,\n",
       " -0.48998005691994634,\n",
       " -0.31652056984544047,\n",
       " -0.6560612436568856,\n",
       " 0.9923864676392056,\n",
       " 0.39164583636974504,\n",
       " 1.244627919304855,\n",
       " 0.5003997514076657,\n",
       " -0.12203531079647574,\n",
       " 1.6619256947170489,\n",
       " 0.48411516480304284,\n",
       " -0.10267461884999529,\n",
       " 0.5957850321897253,\n",
       " 0.012274130613122207,\n",
       " 1.1898883000997653,\n",
       " 1.9477777749021532,\n",
       " 0.2626582154384178,\n",
       " 0.3690915603999741,\n",
       " 1.2854470787576464,\n",
       " -1.1046574530839612,\n",
       " 0.30901129822261236,\n",
       " -2.603599420905769,\n",
       " -0.3154858262997038,\n",
       " -0.08192701447490933,\n",
       " 0.14080784888142553,\n",
       " 0.7622263005954805,\n",
       " 0.17911474141498637,\n",
       " -0.015143704822323401,\n",
       " 0.5670929857481471,\n",
       " 0.06332657077173903,\n",
       " 0.5481277211563618,\n",
       " 0.02239948500848953,\n",
       " -0.10527951172680124,\n",
       " 0.6562131987732311,\n",
       " -0.05179044066784507,\n",
       " 0.7876630970463208,\n",
       " -1.3706596809202913,\n",
       " 0.797553265501556,\n",
       " -0.12317452811894604,\n",
       " 0.027684498154245233,\n",
       " 0.5046211065954951,\n",
       " 0.5358873271194287,\n",
       " -0.19059398565698893,\n",
       " 0.9983410062800879,\n",
       " -0.02931132159944343,\n",
       " -0.22124176014840624,\n",
       " 0.008781762879263551,\n",
       " -0.15880317492567678,\n",
       " 0.21559773571199564,\n",
       " 0.17141753104581636,\n",
       " 0.042062190245920346,\n",
       " 0.4088687387911933,\n",
       " 0.25160783457704905,\n",
       " -0.8114979578199866,\n",
       " 0.4947793230560147,\n",
       " 0.11337785373672785,\n",
       " -0.12081681145761956,\n",
       " 0.7073002526035077,\n",
       " 0.8583940251233727,\n",
       " 0.3399942033277105,\n",
       " 0.5996469619768617,\n",
       " 0.011433693864918833,\n",
       " 0.13172742819346228,\n",
       " -0.25124829849046854,\n",
       " -0.5970578964190256,\n",
       " 0.4420492829507641,\n",
       " 3.592577727078705,\n",
       " 0.16029385240306396,\n",
       " 0.0739716327915469,\n",
       " -0.791309265495478,\n",
       " -1.4907538131654945,\n",
       " 0.3258413456277643,\n",
       " 1.0314705306983751,\n",
       " 0.7699280193085061,\n",
       " -0.8440566595407054,\n",
       " -0.21544760899444898,\n",
       " -0.5338040832658499,\n",
       " 0.7128448867869338,\n",
       " 0.29980831087458526,\n",
       " 0.031007715886210818,\n",
       " 0.4963750607193346,\n",
       " 1.0456002999763192,\n",
       " -0.004685887703606075,\n",
       " -0.1556955614540322,\n",
       " -0.1405857486555759,\n",
       " 0.14593002801135815,\n",
       " 0.22619643724788216,\n",
       " 0.02542154324753895,\n",
       " 0.6940264468937567,\n",
       " 0.14987235587884853,\n",
       " 0.3661934947449942,\n",
       " 0.9106169750539871,\n",
       " -0.712419842739551,\n",
       " 0.8300763241539091,\n",
       " 0.1659310648467784,\n",
       " -0.5915795736640012,\n",
       " 0.2835541684651411,\n",
       " 0.7686162848471042,\n",
       " 0.4427847854992147,\n",
       " 0.17032319665427537,\n",
       " 0.09273478903337361,\n",
       " 0.20756354044928002,\n",
       " 0.3323790580581114,\n",
       " -0.5398330570887989,\n",
       " 0.49773762097768776,\n",
       " 0.17147252984749137,\n",
       " 0.3741584546852183,\n",
       " 0.04367225447250256,\n",
       " 0.44603257613351943,\n",
       " 0.397667935591926,\n",
       " 0.736131353482908,\n",
       " -0.7465756059555687,\n",
       " -0.32562405673684947,\n",
       " -0.21314368314082072,\n",
       " -1.4776882854008662,\n",
       " -0.038001494309903336,\n",
       " -0.1308637867670725,\n",
       " 0.2377069034033982,\n",
       " -1.1321985671401091,\n",
       " -1.609303837594266,\n",
       " 0.7147887347319967,\n",
       " -0.9858727734790528,\n",
       " 0.02449831230486977,\n",
       " 0.2019016675241485,\n",
       " 0.5127570729958363,\n",
       " -0.07647130666280144,\n",
       " 0.22811125714068223,\n",
       " -0.2677430251753317,\n",
       " 0.12460629234775296,\n",
       " 0.5995485003338812,\n",
       " 0.05743171286745729,\n",
       " 0.13451556648510135,\n",
       " -0.42592309796968675,\n",
       " 0.9417707908944777,\n",
       " 0.3128356981677174,\n",
       " -0.13037082863059438,\n",
       " 0.5222491898187697,\n",
       " 0.415544649635952,\n",
       " -0.9503980438167563,\n",
       " -0.008470071037604993,\n",
       " 0.29009101905513657,\n",
       " 0.4554795782081987,\n",
       " -0.6693160780567217,\n",
       " 0.9668715570127893,\n",
       " -0.5761374482262319,\n",
       " -1.4267333076634252,\n",
       " -0.031482519655347534,\n",
       " 0.4031399151133548,\n",
       " -0.5016466701273306,\n",
       " -0.5162251557932449,\n",
       " 1.8042282894138268,\n",
       " 0.8312095650575286,\n",
       " 0.6164721535293095,\n",
       " 0.4527748540917186,\n",
       " -0.6657734949015909,\n",
       " 0.5178051022499666,\n",
       " 1.0996339219552136,\n",
       " 0.5932055938753412,\n",
       " 0.04841889260986977,\n",
       " 0.30496646088916984,\n",
       " -0.2604037320285079,\n",
       " 0.701961492585493,\n",
       " 0.8081914149783485,\n",
       " 0.5351156882791921,\n",
       " 0.18469819001211407,\n",
       " 0.43326171829348575,\n",
       " 0.08922087724996468,\n",
       " 0.6726571408490025,\n",
       " 2.732168802546444,\n",
       " -0.2931497870683284,\n",
       " 0.31226424141857106,\n",
       " -1.0013323665284375,\n",
       " 0.5904854804721883,\n",
       " 0.4801303415459452,\n",
       " 0.5648056499991917,\n",
       " -1.9047901947623276,\n",
       " 0.13574457527246067,\n",
       " -0.64057986730624,\n",
       " 0.5955028813943065,\n",
       " 1.0040432003409145,\n",
       " -0.4760800519469149,\n",
       " 1.0731573693955836,\n",
       " -0.023171058966058426,\n",
       " 1.051576007502911,\n",
       " -0.8010798492845086,\n",
       " 0.2128367529173089,\n",
       " -0.9164295796678408,\n",
       " -0.000687740803652029,\n",
       " -0.8834290862750477,\n",
       " -0.5722494578215933,\n",
       " 0.6848554343822163,\n",
       " 0.7722059189519823,\n",
       " -0.7977200161676206,\n",
       " -0.13139336540597235,\n",
       " 0.3656149402937855,\n",
       " -0.6043799673188831,\n",
       " 0.6093783109793338,\n",
       " -1.0145417178571783,\n",
       " -1.1008797046608179,\n",
       " 0.25763769544626014,\n",
       " -0.29548277925027183,\n",
       " 0.2061342917463648,\n",
       " -0.10150813956753202,\n",
       " 0.6556620186562032,\n",
       " -1.124376674436483,\n",
       " -1.6855557195779904,\n",
       " 0.1109007779743412,\n",
       " 0.3206980317763927,\n",
       " 1.4984523622714112,\n",
       " -3.2015227007251528,\n",
       " 0.7432736436568741,\n",
       " -0.3453447595857785]"
      ]
     },
     "execution_count": 34,
     "metadata": {},
     "output_type": "execute_result"
    }
   ],
   "source": [
    "pos2 = [i for i in pos]\n",
    "pos2"
   ]
  },
  {
   "cell_type": "code",
   "execution_count": 35,
   "metadata": {},
   "outputs": [],
   "source": [
    "#save_pos_step1('neuron_step1.csv',(n_hidden,optimizer.cost_history,accuracy(cm_train),accuracy(cm_validasi)))\n",
    "save_pos_step1('perfo_step2.csv',(\"1\",accuracy(cm_train),accuracy(cm_validasi),accuracy(cm_test),pos2,optimizer.cost_history,post))"
   ]
  },
  {
   "cell_type": "code",
   "execution_count": null,
   "metadata": {},
   "outputs": [],
   "source": []
  }
 ],
 "metadata": {
  "colab": {
   "name": "Copy of Sync PSO.ipynb",
   "provenance": [
    {
     "file_id": "1hA06rinoF_RKyO0BLGEXuhHc7qz7KLn5",
     "timestamp": 1553359005609
    }
   ],
   "version": "0.3.2"
  },
  "kernelspec": {
   "display_name": "Python 3",
   "language": "python",
   "name": "python3"
  },
  "language_info": {
   "codemirror_mode": {
    "name": "ipython",
    "version": 3
   },
   "file_extension": ".py",
   "mimetype": "text/x-python",
   "name": "python",
   "nbconvert_exporter": "python",
   "pygments_lexer": "ipython3",
   "version": "3.6.4"
  }
 },
 "nbformat": 4,
 "nbformat_minor": 2
}
